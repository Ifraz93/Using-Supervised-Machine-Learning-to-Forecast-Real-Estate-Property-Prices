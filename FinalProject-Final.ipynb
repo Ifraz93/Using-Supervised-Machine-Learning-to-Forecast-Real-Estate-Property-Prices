{
 "cells": [
  {
   "cell_type": "markdown",
   "metadata": {},
   "source": [
    "### BZAN 6355 Adv Prog Big-Data Anlytc\n",
    "***"
   ]
  },
  {
   "cell_type": "markdown",
   "metadata": {},
   "source": [
    "## Important!\n",
    "1. To properly show the \"ER Diagram\" in a Markdown cell below, be sure to keep the image file `\"class_final_project-ER_diagram.png\"` in the same directory as this Jupyter Notebook file, and always move/copy the two files together."
   ]
  },
  {
   "cell_type": "markdown",
   "metadata": {},
   "source": [
    "## Project Domain and Dataset\n",
    "***\n",
    "### Predicting the Sales Price of Real Estate Properties\n",
    "The entire Train data consist of 4 data files (.csv format), that is, \"Property_Survey_1\", \"Property_Survey_2\", \"House_Features\", and \"Quality_Assessment\". After _reading_ each data file, eventually one might want to merge them into a single DataFrame; before merging, however, one need to understand the underlying _associations_ of the data contained in each of the data files. The following graph shows the associations:\n",
    "<img src=\"class_final_project-ER_diagram.png\" style=\"width:854px; height:807px\">"
   ]
  },
  {
   "cell_type": "markdown",
   "metadata": {},
   "source": [
    "Clearly, `\"PID\"` is the primary key of each table in this ER diagram, and although not drawn in the diagram, one should be able to infer the cardinality.<br><br>`\"SalePrice\"` is the target variable.<br><br>It should be noted that there are two (2) Property Survey data files each with the same list of columns, and one should be able to figure out how to deal with the property survey data files and append the data together to make a single (1) Property Survey dataset.<br><br>Before actually merging them into a single `DataFrame`, one need to first understand each individual `DataFrame`."
   ]
  },
  {
   "cell_type": "markdown",
   "metadata": {},
   "source": [
    "## Additional Technical Notes\n",
    "***\n",
    "To predict the sales price of 100 real estate properties before they are actually sold. To build the best model with the highest predictive power, train many models and select the best one which will be deployed into making the predictions.\n",
    "\n",
    "There are several ways one can try to boost the generalizability of the model without having to build super complex algorithms.\n",
    "\n",
    "**One approach** is to spend a good amount of time understanding the data in terms of the **informative attributes**. What are the correlations between the target variable and the input variables? What input variables might be redundant?\n",
    "\n",
    "An attribute (i.e., feature, variable) isn't necessarily informative in its original scale and shape. One can consider transforming it to make it more \"accessible\" for the algorithms to exploit. Besides the necessary techniques that one has to use in order to include the variables of certain types, e.g.,\n",
    "- categorizing, recoding, and/or re-weighting nominal variables\n",
    "- standardizing interval variables for algorithms such as kNN\n",
    "\n",
    "one may also logarithm-transform certain interval input variables, and maybe even the target variable, if the true relationship between the target and the input variables are better captured after log-transformation. This may be true if both the target and the input variables are interval and have similarly skewed distributions with outliers that similarly lie at the extreme end(s) of the corresponding distribution. In this case, log-transforming both the target and the input will help better deal with the outliers and decrease the _mean absolute percentage error_.\n",
    "\n",
    "**Another approach** is to fine-tune the model parameters. It depends on the specific algorithms:\n",
    "- Linear Regression:\n",
    "    - One may add polinomial terms to try to capture non-linear patterns (i.e., squared or exponential of a variable) and interaction terms (i.e., product of two or more variables)\n",
    "    - One may experiment with the _feature selection_ tools (introduced and demonstrated in **Module 9**) to select varous sized bundle of informative attributes\n",
    "- k-Nearest-Neighbor:\n",
    "    - In this case, one may assign custom weights instead of using either uniform or distance-adjusted weights as defined by the package within `sklearn`\n",
    "\n",
    "Though increasing model complexity can help improve accuracy, one needs to avoid too much of overfitting. The art of balancing the bias-variance tradeoff is a topic of _regularization_. Regularization is beyond the scope of this course; however, I encourage to self-learn the essence this concept and explore the regularization tools provided in `sklearn` or even beyond `sklearn` package. <u>_That said, this is not required, and is only recommended after all other necessary steps have been tried and incorporated._</u> Good luck!"
   ]
  },
  {
   "cell_type": "markdown",
   "metadata": {},
   "source": [
    "<div class=\"alert alert-block alert-info\"><b>For full project description and requirements, see the project description document \"Class_Project_Description.pdf\"</b></div>"
   ]
  },
  {
   "cell_type": "markdown",
   "metadata": {},
   "source": [
    " "
   ]
  },
  {
   "cell_type": "markdown",
   "metadata": {},
   "source": [
    " "
   ]
  },
  {
   "cell_type": "markdown",
   "metadata": {},
   "source": [
    "***\n",
    "# Preparation"
   ]
  },
  {
   "cell_type": "markdown",
   "metadata": {},
   "source": [
    "## Step 0. Import Necessary Packages, Define Utilities\n",
    "Import packages and, if needed, define any custom functions that may help enhance the efficiency of the project flow as well as readability of the project codes"
   ]
  },
  {
   "cell_type": "code",
   "execution_count": 1083,
   "metadata": {},
   "outputs": [],
   "source": [
    "#Import Packages \n",
    "\n",
    "import pandas as pd\n",
    "import numpy as np\n",
    "from numpy import nan as NA\n",
    "import matplotlib.pyplot as plt\n",
    "from sklearn.preprocessing import StandardScaler"
   ]
  },
  {
   "cell_type": "code",
   "execution_count": 1084,
   "metadata": {},
   "outputs": [],
   "source": [
    "import sklearn.linear_model as lm\n",
    "from sklearn.model_selection import cross_val_score\n"
   ]
  },
  {
   "cell_type": "code",
   "execution_count": 1085,
   "metadata": {},
   "outputs": [],
   "source": [
    "%matplotlib inline"
   ]
  },
  {
   "cell_type": "code",
   "execution_count": 1086,
   "metadata": {},
   "outputs": [],
   "source": [
    "import statsmodels.api as sm\n",
    "from sklearn import preprocessing\n",
    "import sklearn.linear_model as lm\n",
    "import sklearn.neighbors as knn"
   ]
  },
  {
   "cell_type": "code",
   "execution_count": 1087,
   "metadata": {},
   "outputs": [],
   "source": [
    "from sklearn.model_selection import cross_val_score\n",
    "# for imputing missing values\n",
    "from sklearn.impute import SimpleImputer\n",
    "# for transformation pipelines\n",
    "from sklearn.pipeline import Pipeline, make_pipeline\n",
    "# for custom column transformer\n",
    "from sklearn.compose import ColumnTransformer, make_column_transformer"
   ]
  },
  {
   "cell_type": "markdown",
   "metadata": {},
   "source": [
    "***\n",
    "# Data Management"
   ]
  },
  {
   "cell_type": "markdown",
   "metadata": {},
   "source": [
    "## Step 1.1: Import Train Datasets, Understand Basic Info About Properties in each DataFrame\n",
    "#### Note, the Train datasets refer to all of the raw data that will be used for training and validating models! The Train data can be used to conduct x-valid analysis\n",
    "**The basic info one should check of each individual DataFrame include, but not limited to, the following:**\n",
    "- shape, columns and data types\n",
    "- interval variables: summary statistics\n",
    "- nominal/binary variables: distributions of unique levels\n",
    "- both interval and nominal variables: skewness of distributions and possible outliers\n",
    "- missing values\n",
    "\n",
    "**Should something be done to the two \"Property Survey\" data files first before conducting surface-level explorations of the variables in these data?**\n",
    "\n",
    ">Data File _Quality Assessment_ : Don't forget to check if there is any duplicate properties (in terms of the `\"PID\"` column values) between the two Property Survey datasets before doing anything about them; if there is, what's the best way to deal with them?\n",
    "\n",
    "**Should one conduct deep EDAs (see below step) _before_ or _after_ merging the separate DataFames into a single DataFrame?**\n",
    "\n",
    "After merging them into a single DataFrame, it will be wide! This means there will be many columns in this **big** DataFrame. Will one be able to manage the EDAs well by working with this big DataFrame, or will it be better off to deal with each DataFrame first before merging them in order to get correlation matrix, etc.?"
   ]
  },
  {
   "cell_type": "code",
   "execution_count": 1088,
   "metadata": {},
   "outputs": [],
   "source": [
    "#import datasets\n",
    "PropSurvey1 = pd.read_csv('Property_Survey_1.csv')\n",
    "PropSurvey2 = pd.read_csv('Property_Survey_2.csv')\n",
    "HouseFeatures = pd.read_csv('House_Feature.csv')\n",
    "Q_Assesment = pd.read_csv('Quality_Assessment.csv')"
   ]
  },
  {
   "cell_type": "markdown",
   "metadata": {},
   "source": [
    "## Shape, Columns, and Data Types"
   ]
  },
  {
   "cell_type": "markdown",
   "metadata": {},
   "source": [
    "<div class=\"alert alert-block alert-danger\"><b>Alert!</b> Carefully compare the Score Data with the training data. Notice any difference in the columns</div>"
   ]
  },
  {
   "cell_type": "code",
   "execution_count": 1089,
   "metadata": {},
   "outputs": [
    {
     "name": "stdout",
     "output_type": "stream",
     "text": [
      "PropSurvey1 has dimensions of (600, 4)\n",
      "PropSurvey2 has dimensions of (1770, 4)\n",
      "HouseFeatures has dimensions of (2370, 23)\n",
      "Q_Assesment has dimensions of (2370, 3)\n"
     ]
    }
   ],
   "source": [
    "#Shape of four datasets\n",
    "print('PropSurvey1 has dimensions of {0}'.format(PropSurvey1.shape))\n",
    "print('PropSurvey2 has dimensions of {0}'.format(PropSurvey2.shape))\n",
    "print('HouseFeatures has dimensions of {0}'.format(HouseFeatures.shape))\n",
    "print('Q_Assesment has dimensions of {0}'.format(Q_Assesment.shape))"
   ]
  },
  {
   "cell_type": "code",
   "execution_count": 1090,
   "metadata": {},
   "outputs": [
    {
     "name": "stdout",
     "output_type": "stream",
     "text": [
      "PropertySurvey1 contains the following column headers with corresponding data types :\n"
     ]
    },
    {
     "data": {
      "text/plain": [
       "PID         int64\n",
       "LotArea     int64\n",
       "LotShape    int64\n",
       "BldgTp      int64\n",
       "dtype: object"
      ]
     },
     "execution_count": 1090,
     "metadata": {},
     "output_type": "execute_result"
    }
   ],
   "source": [
    "print('PropertySurvey1 contains the following column headers with corresponding data types :')\n",
    "PropSurvey1.dtypes"
   ]
  },
  {
   "cell_type": "code",
   "execution_count": 1091,
   "metadata": {},
   "outputs": [
    {
     "name": "stdout",
     "output_type": "stream",
     "text": [
      "PropertySurvey2 contains the following column headers with corresponding data types :\n"
     ]
    },
    {
     "data": {
      "text/plain": [
       "PID         int64\n",
       "LotArea     int64\n",
       "LotShape    int64\n",
       "BldgTp      int64\n",
       "dtype: object"
      ]
     },
     "execution_count": 1091,
     "metadata": {},
     "output_type": "execute_result"
    }
   ],
   "source": [
    "print('PropertySurvey2 contains the following column headers with corresponding data types :')\n",
    "PropSurvey2.dtypes"
   ]
  },
  {
   "cell_type": "code",
   "execution_count": 1092,
   "metadata": {},
   "outputs": [
    {
     "name": "stdout",
     "output_type": "stream",
     "text": [
      "HouseFeatures contains the following column headers with corresponding data types :\n"
     ]
    },
    {
     "data": {
      "text/plain": [
       "PID               int64\n",
       "YearBuilt         int64\n",
       "YearRemodel       int64\n",
       "VeneerExterior    int64\n",
       "BsmtFinTp         int64\n",
       "BsmtFinSqft       int64\n",
       "BsmtUnfinSqft     int64\n",
       "HeatingQC         int64\n",
       "FstFlrSqft        int64\n",
       "SecFlrSqft        int64\n",
       "AbvGrndLiving     int64\n",
       "FullBathBsmt      int64\n",
       "HalfBathHouse     int64\n",
       "FullBathHouse     int64\n",
       "BdrmAbvGrnd       int64\n",
       "RmAbvGrnd         int64\n",
       "Fireplaces        int64\n",
       "GarageTp          int64\n",
       "GarageCars        int64\n",
       "GarageArea        int64\n",
       "WdDckSqft         int64\n",
       "OpenPrchSqft      int64\n",
       "SalePrice         int64\n",
       "dtype: object"
      ]
     },
     "execution_count": 1092,
     "metadata": {},
     "output_type": "execute_result"
    }
   ],
   "source": [
    "print('HouseFeatures contains the following column headers with corresponding data types :')\n",
    "HouseFeatures.dtypes"
   ]
  },
  {
   "cell_type": "code",
   "execution_count": 1093,
   "metadata": {},
   "outputs": [
    {
     "name": "stdout",
     "output_type": "stream",
     "text": [
      "Q_Assesment contains the following column headers with corresponding data types :\n"
     ]
    },
    {
     "data": {
      "text/plain": [
       "PID                 int64\n",
       "OverallQuality      int64\n",
       "OverallCondition    int64\n",
       "dtype: object"
      ]
     },
     "execution_count": 1093,
     "metadata": {},
     "output_type": "execute_result"
    }
   ],
   "source": [
    "print('Q_Assesment contains the following column headers with corresponding data types :')\n",
    "Q_Assesment.dtypes"
   ]
  },
  {
   "cell_type": "code",
   "execution_count": 1094,
   "metadata": {},
   "outputs": [],
   "source": [
    "def age_calc(x):\n",
    "    return 2021 - x"
   ]
  },
  {
   "cell_type": "code",
   "execution_count": 1095,
   "metadata": {},
   "outputs": [],
   "source": [
    "\n",
    "HouseFeatures[\"YearBuilt\"] = HouseFeatures[\"YearBuilt\"].apply(age_calc)"
   ]
  },
  {
   "cell_type": "code",
   "execution_count": 1096,
   "metadata": {},
   "outputs": [
    {
     "data": {
      "text/html": [
       "<div>\n",
       "<style scoped>\n",
       "    .dataframe tbody tr th:only-of-type {\n",
       "        vertical-align: middle;\n",
       "    }\n",
       "\n",
       "    .dataframe tbody tr th {\n",
       "        vertical-align: top;\n",
       "    }\n",
       "\n",
       "    .dataframe thead th {\n",
       "        text-align: right;\n",
       "    }\n",
       "</style>\n",
       "<table border=\"1\" class=\"dataframe\">\n",
       "  <thead>\n",
       "    <tr style=\"text-align: right;\">\n",
       "      <th></th>\n",
       "      <th>PID</th>\n",
       "      <th>YearBuilt</th>\n",
       "      <th>YearRemodel</th>\n",
       "      <th>VeneerExterior</th>\n",
       "      <th>BsmtFinTp</th>\n",
       "      <th>BsmtFinSqft</th>\n",
       "      <th>BsmtUnfinSqft</th>\n",
       "      <th>HeatingQC</th>\n",
       "      <th>FstFlrSqft</th>\n",
       "      <th>SecFlrSqft</th>\n",
       "      <th>...</th>\n",
       "      <th>FullBathHouse</th>\n",
       "      <th>BdrmAbvGrnd</th>\n",
       "      <th>RmAbvGrnd</th>\n",
       "      <th>Fireplaces</th>\n",
       "      <th>GarageTp</th>\n",
       "      <th>GarageCars</th>\n",
       "      <th>GarageArea</th>\n",
       "      <th>WdDckSqft</th>\n",
       "      <th>OpenPrchSqft</th>\n",
       "      <th>SalePrice</th>\n",
       "    </tr>\n",
       "  </thead>\n",
       "  <tbody>\n",
       "    <tr>\n",
       "      <th>0</th>\n",
       "      <td>526301100</td>\n",
       "      <td>61</td>\n",
       "      <td>1960</td>\n",
       "      <td>112</td>\n",
       "      <td>1</td>\n",
       "      <td>639</td>\n",
       "      <td>441</td>\n",
       "      <td>0</td>\n",
       "      <td>1656</td>\n",
       "      <td>0</td>\n",
       "      <td>...</td>\n",
       "      <td>1</td>\n",
       "      <td>3</td>\n",
       "      <td>7</td>\n",
       "      <td>2</td>\n",
       "      <td>3</td>\n",
       "      <td>2</td>\n",
       "      <td>528</td>\n",
       "      <td>210</td>\n",
       "      <td>62</td>\n",
       "      <td>215000</td>\n",
       "    </tr>\n",
       "    <tr>\n",
       "      <th>1</th>\n",
       "      <td>526350040</td>\n",
       "      <td>60</td>\n",
       "      <td>1961</td>\n",
       "      <td>0</td>\n",
       "      <td>1</td>\n",
       "      <td>468</td>\n",
       "      <td>270</td>\n",
       "      <td>1</td>\n",
       "      <td>896</td>\n",
       "      <td>0</td>\n",
       "      <td>...</td>\n",
       "      <td>1</td>\n",
       "      <td>2</td>\n",
       "      <td>5</td>\n",
       "      <td>0</td>\n",
       "      <td>3</td>\n",
       "      <td>1</td>\n",
       "      <td>730</td>\n",
       "      <td>140</td>\n",
       "      <td>0</td>\n",
       "      <td>105000</td>\n",
       "    </tr>\n",
       "    <tr>\n",
       "      <th>2</th>\n",
       "      <td>526351010</td>\n",
       "      <td>63</td>\n",
       "      <td>1958</td>\n",
       "      <td>108</td>\n",
       "      <td>1</td>\n",
       "      <td>923</td>\n",
       "      <td>406</td>\n",
       "      <td>1</td>\n",
       "      <td>1329</td>\n",
       "      <td>0</td>\n",
       "      <td>...</td>\n",
       "      <td>1</td>\n",
       "      <td>3</td>\n",
       "      <td>6</td>\n",
       "      <td>0</td>\n",
       "      <td>3</td>\n",
       "      <td>1</td>\n",
       "      <td>312</td>\n",
       "      <td>393</td>\n",
       "      <td>36</td>\n",
       "      <td>172000</td>\n",
       "    </tr>\n",
       "    <tr>\n",
       "      <th>3</th>\n",
       "      <td>526353030</td>\n",
       "      <td>53</td>\n",
       "      <td>1968</td>\n",
       "      <td>0</td>\n",
       "      <td>1</td>\n",
       "      <td>1065</td>\n",
       "      <td>1045</td>\n",
       "      <td>3</td>\n",
       "      <td>2110</td>\n",
       "      <td>0</td>\n",
       "      <td>...</td>\n",
       "      <td>2</td>\n",
       "      <td>3</td>\n",
       "      <td>8</td>\n",
       "      <td>2</td>\n",
       "      <td>3</td>\n",
       "      <td>2</td>\n",
       "      <td>522</td>\n",
       "      <td>0</td>\n",
       "      <td>0</td>\n",
       "      <td>244000</td>\n",
       "    </tr>\n",
       "    <tr>\n",
       "      <th>4</th>\n",
       "      <td>527105010</td>\n",
       "      <td>24</td>\n",
       "      <td>1998</td>\n",
       "      <td>0</td>\n",
       "      <td>1</td>\n",
       "      <td>791</td>\n",
       "      <td>137</td>\n",
       "      <td>2</td>\n",
       "      <td>928</td>\n",
       "      <td>701</td>\n",
       "      <td>...</td>\n",
       "      <td>2</td>\n",
       "      <td>3</td>\n",
       "      <td>6</td>\n",
       "      <td>1</td>\n",
       "      <td>3</td>\n",
       "      <td>2</td>\n",
       "      <td>482</td>\n",
       "      <td>212</td>\n",
       "      <td>34</td>\n",
       "      <td>189900</td>\n",
       "    </tr>\n",
       "  </tbody>\n",
       "</table>\n",
       "<p>5 rows × 23 columns</p>\n",
       "</div>"
      ],
      "text/plain": [
       "         PID  YearBuilt  YearRemodel  VeneerExterior  BsmtFinTp  BsmtFinSqft  \\\n",
       "0  526301100         61         1960             112          1          639   \n",
       "1  526350040         60         1961               0          1          468   \n",
       "2  526351010         63         1958             108          1          923   \n",
       "3  526353030         53         1968               0          1         1065   \n",
       "4  527105010         24         1998               0          1          791   \n",
       "\n",
       "   BsmtUnfinSqft  HeatingQC  FstFlrSqft  SecFlrSqft  ...  FullBathHouse  \\\n",
       "0            441          0        1656           0  ...              1   \n",
       "1            270          1         896           0  ...              1   \n",
       "2            406          1        1329           0  ...              1   \n",
       "3           1045          3        2110           0  ...              2   \n",
       "4            137          2         928         701  ...              2   \n",
       "\n",
       "   BdrmAbvGrnd  RmAbvGrnd  Fireplaces  GarageTp  GarageCars  GarageArea  \\\n",
       "0            3          7           2         3           2         528   \n",
       "1            2          5           0         3           1         730   \n",
       "2            3          6           0         3           1         312   \n",
       "3            3          8           2         3           2         522   \n",
       "4            3          6           1         3           2         482   \n",
       "\n",
       "   WdDckSqft  OpenPrchSqft  SalePrice  \n",
       "0        210            62     215000  \n",
       "1        140             0     105000  \n",
       "2        393            36     172000  \n",
       "3          0             0     244000  \n",
       "4        212            34     189900  \n",
       "\n",
       "[5 rows x 23 columns]"
      ]
     },
     "execution_count": 1096,
     "metadata": {},
     "output_type": "execute_result"
    }
   ],
   "source": [
    "HouseFeatures.head()"
   ]
  },
  {
   "cell_type": "code",
   "execution_count": 1097,
   "metadata": {},
   "outputs": [],
   "source": [
    "HouseFeatures.rename(columns={'YearBuilt': 'Age'}, inplace=True)"
   ]
  },
  {
   "cell_type": "code",
   "execution_count": 1098,
   "metadata": {},
   "outputs": [
    {
     "data": {
      "text/html": [
       "<div>\n",
       "<style scoped>\n",
       "    .dataframe tbody tr th:only-of-type {\n",
       "        vertical-align: middle;\n",
       "    }\n",
       "\n",
       "    .dataframe tbody tr th {\n",
       "        vertical-align: top;\n",
       "    }\n",
       "\n",
       "    .dataframe thead th {\n",
       "        text-align: right;\n",
       "    }\n",
       "</style>\n",
       "<table border=\"1\" class=\"dataframe\">\n",
       "  <thead>\n",
       "    <tr style=\"text-align: right;\">\n",
       "      <th></th>\n",
       "      <th>PID</th>\n",
       "      <th>Age</th>\n",
       "      <th>YearRemodel</th>\n",
       "      <th>VeneerExterior</th>\n",
       "      <th>BsmtFinTp</th>\n",
       "      <th>BsmtFinSqft</th>\n",
       "      <th>BsmtUnfinSqft</th>\n",
       "      <th>HeatingQC</th>\n",
       "      <th>FstFlrSqft</th>\n",
       "      <th>SecFlrSqft</th>\n",
       "      <th>...</th>\n",
       "      <th>FullBathHouse</th>\n",
       "      <th>BdrmAbvGrnd</th>\n",
       "      <th>RmAbvGrnd</th>\n",
       "      <th>Fireplaces</th>\n",
       "      <th>GarageTp</th>\n",
       "      <th>GarageCars</th>\n",
       "      <th>GarageArea</th>\n",
       "      <th>WdDckSqft</th>\n",
       "      <th>OpenPrchSqft</th>\n",
       "      <th>SalePrice</th>\n",
       "    </tr>\n",
       "  </thead>\n",
       "  <tbody>\n",
       "    <tr>\n",
       "      <th>0</th>\n",
       "      <td>526301100</td>\n",
       "      <td>61</td>\n",
       "      <td>1960</td>\n",
       "      <td>112</td>\n",
       "      <td>1</td>\n",
       "      <td>639</td>\n",
       "      <td>441</td>\n",
       "      <td>0</td>\n",
       "      <td>1656</td>\n",
       "      <td>0</td>\n",
       "      <td>...</td>\n",
       "      <td>1</td>\n",
       "      <td>3</td>\n",
       "      <td>7</td>\n",
       "      <td>2</td>\n",
       "      <td>3</td>\n",
       "      <td>2</td>\n",
       "      <td>528</td>\n",
       "      <td>210</td>\n",
       "      <td>62</td>\n",
       "      <td>215000</td>\n",
       "    </tr>\n",
       "    <tr>\n",
       "      <th>1</th>\n",
       "      <td>526350040</td>\n",
       "      <td>60</td>\n",
       "      <td>1961</td>\n",
       "      <td>0</td>\n",
       "      <td>1</td>\n",
       "      <td>468</td>\n",
       "      <td>270</td>\n",
       "      <td>1</td>\n",
       "      <td>896</td>\n",
       "      <td>0</td>\n",
       "      <td>...</td>\n",
       "      <td>1</td>\n",
       "      <td>2</td>\n",
       "      <td>5</td>\n",
       "      <td>0</td>\n",
       "      <td>3</td>\n",
       "      <td>1</td>\n",
       "      <td>730</td>\n",
       "      <td>140</td>\n",
       "      <td>0</td>\n",
       "      <td>105000</td>\n",
       "    </tr>\n",
       "    <tr>\n",
       "      <th>2</th>\n",
       "      <td>526351010</td>\n",
       "      <td>63</td>\n",
       "      <td>1958</td>\n",
       "      <td>108</td>\n",
       "      <td>1</td>\n",
       "      <td>923</td>\n",
       "      <td>406</td>\n",
       "      <td>1</td>\n",
       "      <td>1329</td>\n",
       "      <td>0</td>\n",
       "      <td>...</td>\n",
       "      <td>1</td>\n",
       "      <td>3</td>\n",
       "      <td>6</td>\n",
       "      <td>0</td>\n",
       "      <td>3</td>\n",
       "      <td>1</td>\n",
       "      <td>312</td>\n",
       "      <td>393</td>\n",
       "      <td>36</td>\n",
       "      <td>172000</td>\n",
       "    </tr>\n",
       "    <tr>\n",
       "      <th>3</th>\n",
       "      <td>526353030</td>\n",
       "      <td>53</td>\n",
       "      <td>1968</td>\n",
       "      <td>0</td>\n",
       "      <td>1</td>\n",
       "      <td>1065</td>\n",
       "      <td>1045</td>\n",
       "      <td>3</td>\n",
       "      <td>2110</td>\n",
       "      <td>0</td>\n",
       "      <td>...</td>\n",
       "      <td>2</td>\n",
       "      <td>3</td>\n",
       "      <td>8</td>\n",
       "      <td>2</td>\n",
       "      <td>3</td>\n",
       "      <td>2</td>\n",
       "      <td>522</td>\n",
       "      <td>0</td>\n",
       "      <td>0</td>\n",
       "      <td>244000</td>\n",
       "    </tr>\n",
       "    <tr>\n",
       "      <th>4</th>\n",
       "      <td>527105010</td>\n",
       "      <td>24</td>\n",
       "      <td>1998</td>\n",
       "      <td>0</td>\n",
       "      <td>1</td>\n",
       "      <td>791</td>\n",
       "      <td>137</td>\n",
       "      <td>2</td>\n",
       "      <td>928</td>\n",
       "      <td>701</td>\n",
       "      <td>...</td>\n",
       "      <td>2</td>\n",
       "      <td>3</td>\n",
       "      <td>6</td>\n",
       "      <td>1</td>\n",
       "      <td>3</td>\n",
       "      <td>2</td>\n",
       "      <td>482</td>\n",
       "      <td>212</td>\n",
       "      <td>34</td>\n",
       "      <td>189900</td>\n",
       "    </tr>\n",
       "  </tbody>\n",
       "</table>\n",
       "<p>5 rows × 23 columns</p>\n",
       "</div>"
      ],
      "text/plain": [
       "         PID  Age  YearRemodel  VeneerExterior  BsmtFinTp  BsmtFinSqft  \\\n",
       "0  526301100   61         1960             112          1          639   \n",
       "1  526350040   60         1961               0          1          468   \n",
       "2  526351010   63         1958             108          1          923   \n",
       "3  526353030   53         1968               0          1         1065   \n",
       "4  527105010   24         1998               0          1          791   \n",
       "\n",
       "   BsmtUnfinSqft  HeatingQC  FstFlrSqft  SecFlrSqft  ...  FullBathHouse  \\\n",
       "0            441          0        1656           0  ...              1   \n",
       "1            270          1         896           0  ...              1   \n",
       "2            406          1        1329           0  ...              1   \n",
       "3           1045          3        2110           0  ...              2   \n",
       "4            137          2         928         701  ...              2   \n",
       "\n",
       "   BdrmAbvGrnd  RmAbvGrnd  Fireplaces  GarageTp  GarageCars  GarageArea  \\\n",
       "0            3          7           2         3           2         528   \n",
       "1            2          5           0         3           1         730   \n",
       "2            3          6           0         3           1         312   \n",
       "3            3          8           2         3           2         522   \n",
       "4            3          6           1         3           2         482   \n",
       "\n",
       "   WdDckSqft  OpenPrchSqft  SalePrice  \n",
       "0        210            62     215000  \n",
       "1        140             0     105000  \n",
       "2        393            36     172000  \n",
       "3          0             0     244000  \n",
       "4        212            34     189900  \n",
       "\n",
       "[5 rows x 23 columns]"
      ]
     },
     "execution_count": 1098,
     "metadata": {},
     "output_type": "execute_result"
    }
   ],
   "source": [
    "HouseFeatures.head()"
   ]
  },
  {
   "cell_type": "code",
   "execution_count": 1099,
   "metadata": {},
   "outputs": [],
   "source": [
    "\n",
    "HouseFeatures[\"YearRemodel\"] = HouseFeatures[\"YearRemodel\"].apply(age_calc)"
   ]
  },
  {
   "cell_type": "code",
   "execution_count": 1100,
   "metadata": {},
   "outputs": [],
   "source": [
    "HouseFeatures.rename(columns={'YearRemodel': 'RemodelAge'}, inplace=True)"
   ]
  },
  {
   "cell_type": "code",
   "execution_count": 1101,
   "metadata": {},
   "outputs": [
    {
     "data": {
      "text/html": [
       "<div>\n",
       "<style scoped>\n",
       "    .dataframe tbody tr th:only-of-type {\n",
       "        vertical-align: middle;\n",
       "    }\n",
       "\n",
       "    .dataframe tbody tr th {\n",
       "        vertical-align: top;\n",
       "    }\n",
       "\n",
       "    .dataframe thead th {\n",
       "        text-align: right;\n",
       "    }\n",
       "</style>\n",
       "<table border=\"1\" class=\"dataframe\">\n",
       "  <thead>\n",
       "    <tr style=\"text-align: right;\">\n",
       "      <th></th>\n",
       "      <th>PID</th>\n",
       "      <th>Age</th>\n",
       "      <th>RemodelAge</th>\n",
       "      <th>VeneerExterior</th>\n",
       "      <th>BsmtFinTp</th>\n",
       "      <th>BsmtFinSqft</th>\n",
       "      <th>BsmtUnfinSqft</th>\n",
       "      <th>HeatingQC</th>\n",
       "      <th>FstFlrSqft</th>\n",
       "      <th>SecFlrSqft</th>\n",
       "      <th>...</th>\n",
       "      <th>FullBathHouse</th>\n",
       "      <th>BdrmAbvGrnd</th>\n",
       "      <th>RmAbvGrnd</th>\n",
       "      <th>Fireplaces</th>\n",
       "      <th>GarageTp</th>\n",
       "      <th>GarageCars</th>\n",
       "      <th>GarageArea</th>\n",
       "      <th>WdDckSqft</th>\n",
       "      <th>OpenPrchSqft</th>\n",
       "      <th>SalePrice</th>\n",
       "    </tr>\n",
       "  </thead>\n",
       "  <tbody>\n",
       "    <tr>\n",
       "      <th>0</th>\n",
       "      <td>526301100</td>\n",
       "      <td>61</td>\n",
       "      <td>61</td>\n",
       "      <td>112</td>\n",
       "      <td>1</td>\n",
       "      <td>639</td>\n",
       "      <td>441</td>\n",
       "      <td>0</td>\n",
       "      <td>1656</td>\n",
       "      <td>0</td>\n",
       "      <td>...</td>\n",
       "      <td>1</td>\n",
       "      <td>3</td>\n",
       "      <td>7</td>\n",
       "      <td>2</td>\n",
       "      <td>3</td>\n",
       "      <td>2</td>\n",
       "      <td>528</td>\n",
       "      <td>210</td>\n",
       "      <td>62</td>\n",
       "      <td>215000</td>\n",
       "    </tr>\n",
       "    <tr>\n",
       "      <th>1</th>\n",
       "      <td>526350040</td>\n",
       "      <td>60</td>\n",
       "      <td>60</td>\n",
       "      <td>0</td>\n",
       "      <td>1</td>\n",
       "      <td>468</td>\n",
       "      <td>270</td>\n",
       "      <td>1</td>\n",
       "      <td>896</td>\n",
       "      <td>0</td>\n",
       "      <td>...</td>\n",
       "      <td>1</td>\n",
       "      <td>2</td>\n",
       "      <td>5</td>\n",
       "      <td>0</td>\n",
       "      <td>3</td>\n",
       "      <td>1</td>\n",
       "      <td>730</td>\n",
       "      <td>140</td>\n",
       "      <td>0</td>\n",
       "      <td>105000</td>\n",
       "    </tr>\n",
       "    <tr>\n",
       "      <th>2</th>\n",
       "      <td>526351010</td>\n",
       "      <td>63</td>\n",
       "      <td>63</td>\n",
       "      <td>108</td>\n",
       "      <td>1</td>\n",
       "      <td>923</td>\n",
       "      <td>406</td>\n",
       "      <td>1</td>\n",
       "      <td>1329</td>\n",
       "      <td>0</td>\n",
       "      <td>...</td>\n",
       "      <td>1</td>\n",
       "      <td>3</td>\n",
       "      <td>6</td>\n",
       "      <td>0</td>\n",
       "      <td>3</td>\n",
       "      <td>1</td>\n",
       "      <td>312</td>\n",
       "      <td>393</td>\n",
       "      <td>36</td>\n",
       "      <td>172000</td>\n",
       "    </tr>\n",
       "    <tr>\n",
       "      <th>3</th>\n",
       "      <td>526353030</td>\n",
       "      <td>53</td>\n",
       "      <td>53</td>\n",
       "      <td>0</td>\n",
       "      <td>1</td>\n",
       "      <td>1065</td>\n",
       "      <td>1045</td>\n",
       "      <td>3</td>\n",
       "      <td>2110</td>\n",
       "      <td>0</td>\n",
       "      <td>...</td>\n",
       "      <td>2</td>\n",
       "      <td>3</td>\n",
       "      <td>8</td>\n",
       "      <td>2</td>\n",
       "      <td>3</td>\n",
       "      <td>2</td>\n",
       "      <td>522</td>\n",
       "      <td>0</td>\n",
       "      <td>0</td>\n",
       "      <td>244000</td>\n",
       "    </tr>\n",
       "    <tr>\n",
       "      <th>4</th>\n",
       "      <td>527105010</td>\n",
       "      <td>24</td>\n",
       "      <td>23</td>\n",
       "      <td>0</td>\n",
       "      <td>1</td>\n",
       "      <td>791</td>\n",
       "      <td>137</td>\n",
       "      <td>2</td>\n",
       "      <td>928</td>\n",
       "      <td>701</td>\n",
       "      <td>...</td>\n",
       "      <td>2</td>\n",
       "      <td>3</td>\n",
       "      <td>6</td>\n",
       "      <td>1</td>\n",
       "      <td>3</td>\n",
       "      <td>2</td>\n",
       "      <td>482</td>\n",
       "      <td>212</td>\n",
       "      <td>34</td>\n",
       "      <td>189900</td>\n",
       "    </tr>\n",
       "  </tbody>\n",
       "</table>\n",
       "<p>5 rows × 23 columns</p>\n",
       "</div>"
      ],
      "text/plain": [
       "         PID  Age  RemodelAge  VeneerExterior  BsmtFinTp  BsmtFinSqft  \\\n",
       "0  526301100   61          61             112          1          639   \n",
       "1  526350040   60          60               0          1          468   \n",
       "2  526351010   63          63             108          1          923   \n",
       "3  526353030   53          53               0          1         1065   \n",
       "4  527105010   24          23               0          1          791   \n",
       "\n",
       "   BsmtUnfinSqft  HeatingQC  FstFlrSqft  SecFlrSqft  ...  FullBathHouse  \\\n",
       "0            441          0        1656           0  ...              1   \n",
       "1            270          1         896           0  ...              1   \n",
       "2            406          1        1329           0  ...              1   \n",
       "3           1045          3        2110           0  ...              2   \n",
       "4            137          2         928         701  ...              2   \n",
       "\n",
       "   BdrmAbvGrnd  RmAbvGrnd  Fireplaces  GarageTp  GarageCars  GarageArea  \\\n",
       "0            3          7           2         3           2         528   \n",
       "1            2          5           0         3           1         730   \n",
       "2            3          6           0         3           1         312   \n",
       "3            3          8           2         3           2         522   \n",
       "4            3          6           1         3           2         482   \n",
       "\n",
       "   WdDckSqft  OpenPrchSqft  SalePrice  \n",
       "0        210            62     215000  \n",
       "1        140             0     105000  \n",
       "2        393            36     172000  \n",
       "3          0             0     244000  \n",
       "4        212            34     189900  \n",
       "\n",
       "[5 rows x 23 columns]"
      ]
     },
     "execution_count": 1101,
     "metadata": {},
     "output_type": "execute_result"
    }
   ],
   "source": [
    "HouseFeatures.head()"
   ]
  },
  {
   "cell_type": "code",
   "execution_count": 1102,
   "metadata": {},
   "outputs": [],
   "source": [
    "\n",
    "HouseFeatures[\"AgeRemodelYears\"] = HouseFeatures[\"Age\"] + HouseFeatures[\"RemodelAge\"]"
   ]
  },
  {
   "cell_type": "code",
   "execution_count": 1103,
   "metadata": {},
   "outputs": [],
   "source": [
    "HouseFeatures.drop('Age',  inplace=True, axis=1)\n",
    "HouseFeatures.drop('RemodelAge',  inplace=True, axis=1)"
   ]
  },
  {
   "cell_type": "code",
   "execution_count": 1104,
   "metadata": {},
   "outputs": [
    {
     "data": {
      "text/plain": [
       "['PID',\n",
       " 'VeneerExterior',\n",
       " 'BsmtFinTp',\n",
       " 'BsmtFinSqft',\n",
       " 'BsmtUnfinSqft',\n",
       " 'HeatingQC',\n",
       " 'FstFlrSqft',\n",
       " 'SecFlrSqft',\n",
       " 'AbvGrndLiving',\n",
       " 'FullBathBsmt',\n",
       " 'HalfBathHouse',\n",
       " 'FullBathHouse',\n",
       " 'BdrmAbvGrnd',\n",
       " 'RmAbvGrnd',\n",
       " 'Fireplaces',\n",
       " 'GarageTp',\n",
       " 'GarageCars',\n",
       " 'GarageArea',\n",
       " 'WdDckSqft',\n",
       " 'OpenPrchSqft',\n",
       " 'SalePrice',\n",
       " 'AgeRemodelYears']"
      ]
     },
     "execution_count": 1104,
     "metadata": {},
     "output_type": "execute_result"
    }
   ],
   "source": [
    "HouseFeaturescols = HouseFeatures.columns.tolist()\n",
    "HouseFeaturescols"
   ]
  },
  {
   "cell_type": "code",
   "execution_count": 1105,
   "metadata": {},
   "outputs": [],
   "source": [
    "cols = HouseFeaturescols[0:1]+HouseFeaturescols[-1:] + HouseFeaturescols[1:-1]"
   ]
  },
  {
   "cell_type": "code",
   "execution_count": 1106,
   "metadata": {},
   "outputs": [
    {
     "data": {
      "text/plain": [
       "['PID',\n",
       " 'AgeRemodelYears',\n",
       " 'VeneerExterior',\n",
       " 'BsmtFinTp',\n",
       " 'BsmtFinSqft',\n",
       " 'BsmtUnfinSqft',\n",
       " 'HeatingQC',\n",
       " 'FstFlrSqft',\n",
       " 'SecFlrSqft',\n",
       " 'AbvGrndLiving',\n",
       " 'FullBathBsmt',\n",
       " 'HalfBathHouse',\n",
       " 'FullBathHouse',\n",
       " 'BdrmAbvGrnd',\n",
       " 'RmAbvGrnd',\n",
       " 'Fireplaces',\n",
       " 'GarageTp',\n",
       " 'GarageCars',\n",
       " 'GarageArea',\n",
       " 'WdDckSqft',\n",
       " 'OpenPrchSqft',\n",
       " 'SalePrice']"
      ]
     },
     "execution_count": 1106,
     "metadata": {},
     "output_type": "execute_result"
    }
   ],
   "source": [
    "cols"
   ]
  },
  {
   "cell_type": "code",
   "execution_count": 1107,
   "metadata": {},
   "outputs": [],
   "source": [
    "HouseFeatures = HouseFeatures[cols]"
   ]
  },
  {
   "cell_type": "code",
   "execution_count": 1108,
   "metadata": {},
   "outputs": [
    {
     "data": {
      "text/html": [
       "<div>\n",
       "<style scoped>\n",
       "    .dataframe tbody tr th:only-of-type {\n",
       "        vertical-align: middle;\n",
       "    }\n",
       "\n",
       "    .dataframe tbody tr th {\n",
       "        vertical-align: top;\n",
       "    }\n",
       "\n",
       "    .dataframe thead th {\n",
       "        text-align: right;\n",
       "    }\n",
       "</style>\n",
       "<table border=\"1\" class=\"dataframe\">\n",
       "  <thead>\n",
       "    <tr style=\"text-align: right;\">\n",
       "      <th></th>\n",
       "      <th>PID</th>\n",
       "      <th>AgeRemodelYears</th>\n",
       "      <th>VeneerExterior</th>\n",
       "      <th>BsmtFinTp</th>\n",
       "      <th>BsmtFinSqft</th>\n",
       "      <th>BsmtUnfinSqft</th>\n",
       "      <th>HeatingQC</th>\n",
       "      <th>FstFlrSqft</th>\n",
       "      <th>SecFlrSqft</th>\n",
       "      <th>AbvGrndLiving</th>\n",
       "      <th>...</th>\n",
       "      <th>FullBathHouse</th>\n",
       "      <th>BdrmAbvGrnd</th>\n",
       "      <th>RmAbvGrnd</th>\n",
       "      <th>Fireplaces</th>\n",
       "      <th>GarageTp</th>\n",
       "      <th>GarageCars</th>\n",
       "      <th>GarageArea</th>\n",
       "      <th>WdDckSqft</th>\n",
       "      <th>OpenPrchSqft</th>\n",
       "      <th>SalePrice</th>\n",
       "    </tr>\n",
       "  </thead>\n",
       "  <tbody>\n",
       "    <tr>\n",
       "      <th>0</th>\n",
       "      <td>526301100</td>\n",
       "      <td>122</td>\n",
       "      <td>112</td>\n",
       "      <td>1</td>\n",
       "      <td>639</td>\n",
       "      <td>441</td>\n",
       "      <td>0</td>\n",
       "      <td>1656</td>\n",
       "      <td>0</td>\n",
       "      <td>1656</td>\n",
       "      <td>...</td>\n",
       "      <td>1</td>\n",
       "      <td>3</td>\n",
       "      <td>7</td>\n",
       "      <td>2</td>\n",
       "      <td>3</td>\n",
       "      <td>2</td>\n",
       "      <td>528</td>\n",
       "      <td>210</td>\n",
       "      <td>62</td>\n",
       "      <td>215000</td>\n",
       "    </tr>\n",
       "    <tr>\n",
       "      <th>1</th>\n",
       "      <td>526350040</td>\n",
       "      <td>120</td>\n",
       "      <td>0</td>\n",
       "      <td>1</td>\n",
       "      <td>468</td>\n",
       "      <td>270</td>\n",
       "      <td>1</td>\n",
       "      <td>896</td>\n",
       "      <td>0</td>\n",
       "      <td>896</td>\n",
       "      <td>...</td>\n",
       "      <td>1</td>\n",
       "      <td>2</td>\n",
       "      <td>5</td>\n",
       "      <td>0</td>\n",
       "      <td>3</td>\n",
       "      <td>1</td>\n",
       "      <td>730</td>\n",
       "      <td>140</td>\n",
       "      <td>0</td>\n",
       "      <td>105000</td>\n",
       "    </tr>\n",
       "    <tr>\n",
       "      <th>2</th>\n",
       "      <td>526351010</td>\n",
       "      <td>126</td>\n",
       "      <td>108</td>\n",
       "      <td>1</td>\n",
       "      <td>923</td>\n",
       "      <td>406</td>\n",
       "      <td>1</td>\n",
       "      <td>1329</td>\n",
       "      <td>0</td>\n",
       "      <td>1329</td>\n",
       "      <td>...</td>\n",
       "      <td>1</td>\n",
       "      <td>3</td>\n",
       "      <td>6</td>\n",
       "      <td>0</td>\n",
       "      <td>3</td>\n",
       "      <td>1</td>\n",
       "      <td>312</td>\n",
       "      <td>393</td>\n",
       "      <td>36</td>\n",
       "      <td>172000</td>\n",
       "    </tr>\n",
       "    <tr>\n",
       "      <th>3</th>\n",
       "      <td>526353030</td>\n",
       "      <td>106</td>\n",
       "      <td>0</td>\n",
       "      <td>1</td>\n",
       "      <td>1065</td>\n",
       "      <td>1045</td>\n",
       "      <td>3</td>\n",
       "      <td>2110</td>\n",
       "      <td>0</td>\n",
       "      <td>2110</td>\n",
       "      <td>...</td>\n",
       "      <td>2</td>\n",
       "      <td>3</td>\n",
       "      <td>8</td>\n",
       "      <td>2</td>\n",
       "      <td>3</td>\n",
       "      <td>2</td>\n",
       "      <td>522</td>\n",
       "      <td>0</td>\n",
       "      <td>0</td>\n",
       "      <td>244000</td>\n",
       "    </tr>\n",
       "    <tr>\n",
       "      <th>4</th>\n",
       "      <td>527105010</td>\n",
       "      <td>47</td>\n",
       "      <td>0</td>\n",
       "      <td>1</td>\n",
       "      <td>791</td>\n",
       "      <td>137</td>\n",
       "      <td>2</td>\n",
       "      <td>928</td>\n",
       "      <td>701</td>\n",
       "      <td>1629</td>\n",
       "      <td>...</td>\n",
       "      <td>2</td>\n",
       "      <td>3</td>\n",
       "      <td>6</td>\n",
       "      <td>1</td>\n",
       "      <td>3</td>\n",
       "      <td>2</td>\n",
       "      <td>482</td>\n",
       "      <td>212</td>\n",
       "      <td>34</td>\n",
       "      <td>189900</td>\n",
       "    </tr>\n",
       "  </tbody>\n",
       "</table>\n",
       "<p>5 rows × 22 columns</p>\n",
       "</div>"
      ],
      "text/plain": [
       "         PID  AgeRemodelYears  VeneerExterior  BsmtFinTp  BsmtFinSqft  \\\n",
       "0  526301100              122             112          1          639   \n",
       "1  526350040              120               0          1          468   \n",
       "2  526351010              126             108          1          923   \n",
       "3  526353030              106               0          1         1065   \n",
       "4  527105010               47               0          1          791   \n",
       "\n",
       "   BsmtUnfinSqft  HeatingQC  FstFlrSqft  SecFlrSqft  AbvGrndLiving  ...  \\\n",
       "0            441          0        1656           0           1656  ...   \n",
       "1            270          1         896           0            896  ...   \n",
       "2            406          1        1329           0           1329  ...   \n",
       "3           1045          3        2110           0           2110  ...   \n",
       "4            137          2         928         701           1629  ...   \n",
       "\n",
       "   FullBathHouse  BdrmAbvGrnd  RmAbvGrnd  Fireplaces  GarageTp  GarageCars  \\\n",
       "0              1            3          7           2         3           2   \n",
       "1              1            2          5           0         3           1   \n",
       "2              1            3          6           0         3           1   \n",
       "3              2            3          8           2         3           2   \n",
       "4              2            3          6           1         3           2   \n",
       "\n",
       "   GarageArea  WdDckSqft  OpenPrchSqft  SalePrice  \n",
       "0         528        210            62     215000  \n",
       "1         730        140             0     105000  \n",
       "2         312        393            36     172000  \n",
       "3         522          0             0     244000  \n",
       "4         482        212            34     189900  \n",
       "\n",
       "[5 rows x 22 columns]"
      ]
     },
     "execution_count": 1108,
     "metadata": {},
     "output_type": "execute_result"
    }
   ],
   "source": [
    "HouseFeatures.head()"
   ]
  },
  {
   "cell_type": "code",
   "execution_count": 1109,
   "metadata": {},
   "outputs": [
    {
     "name": "stdout",
     "output_type": "stream",
     "text": [
      "Q_Assesment contains the following column headers with corresponding data types :\n"
     ]
    },
    {
     "data": {
      "text/plain": [
       "PID                 int64\n",
       "OverallQuality      int64\n",
       "OverallCondition    int64\n",
       "dtype: object"
      ]
     },
     "execution_count": 1109,
     "metadata": {},
     "output_type": "execute_result"
    }
   ],
   "source": [
    "print('Q_Assesment contains the following column headers with corresponding data types :')\n",
    "Q_Assesment.dtypes"
   ]
  },
  {
   "cell_type": "code",
   "execution_count": 1110,
   "metadata": {},
   "outputs": [
    {
     "name": "stdout",
     "output_type": "stream",
     "text": [
      "There are no interval variables for Q_Assesment\n"
     ]
    }
   ],
   "source": [
    "print('There are no interval variables for Q_Assesment')"
   ]
  },
  {
   "cell_type": "markdown",
   "metadata": {},
   "source": [
    "## Interval Variables : Summary Statistics"
   ]
  },
  {
   "cell_type": "code",
   "execution_count": 1111,
   "metadata": {},
   "outputs": [
    {
     "name": "stdout",
     "output_type": "stream",
     "text": [
      "Summary statistics for interval variables of PropSurvey1 :\n"
     ]
    },
    {
     "data": {
      "text/html": [
       "<div>\n",
       "<style scoped>\n",
       "    .dataframe tbody tr th:only-of-type {\n",
       "        vertical-align: middle;\n",
       "    }\n",
       "\n",
       "    .dataframe tbody tr th {\n",
       "        vertical-align: top;\n",
       "    }\n",
       "\n",
       "    .dataframe thead th {\n",
       "        text-align: right;\n",
       "    }\n",
       "</style>\n",
       "<table border=\"1\" class=\"dataframe\">\n",
       "  <thead>\n",
       "    <tr style=\"text-align: right;\">\n",
       "      <th></th>\n",
       "      <th>LotArea</th>\n",
       "    </tr>\n",
       "  </thead>\n",
       "  <tbody>\n",
       "    <tr>\n",
       "      <th>count</th>\n",
       "      <td>600.000000</td>\n",
       "    </tr>\n",
       "    <tr>\n",
       "      <th>mean</th>\n",
       "      <td>9403.418333</td>\n",
       "    </tr>\n",
       "    <tr>\n",
       "      <th>std</th>\n",
       "      <td>4636.681113</td>\n",
       "    </tr>\n",
       "    <tr>\n",
       "      <th>min</th>\n",
       "      <td>1476.000000</td>\n",
       "    </tr>\n",
       "    <tr>\n",
       "      <th>25%</th>\n",
       "      <td>7205.250000</td>\n",
       "    </tr>\n",
       "    <tr>\n",
       "      <th>50%</th>\n",
       "      <td>9343.500000</td>\n",
       "    </tr>\n",
       "    <tr>\n",
       "      <th>75%</th>\n",
       "      <td>10995.500000</td>\n",
       "    </tr>\n",
       "    <tr>\n",
       "      <th>max</th>\n",
       "      <td>57200.000000</td>\n",
       "    </tr>\n",
       "  </tbody>\n",
       "</table>\n",
       "</div>"
      ],
      "text/plain": [
       "            LotArea\n",
       "count    600.000000\n",
       "mean    9403.418333\n",
       "std     4636.681113\n",
       "min     1476.000000\n",
       "25%     7205.250000\n",
       "50%     9343.500000\n",
       "75%    10995.500000\n",
       "max    57200.000000"
      ]
     },
     "execution_count": 1111,
     "metadata": {},
     "output_type": "execute_result"
    }
   ],
   "source": [
    "print('Summary statistics for interval variables of PropSurvey1 :')\n",
    "PropSurvey1[['LotArea']].describe()"
   ]
  },
  {
   "cell_type": "code",
   "execution_count": 1112,
   "metadata": {},
   "outputs": [
    {
     "name": "stdout",
     "output_type": "stream",
     "text": [
      "Summary statistics for interval variables of PropSurvey2 :\n"
     ]
    },
    {
     "data": {
      "text/html": [
       "<div>\n",
       "<style scoped>\n",
       "    .dataframe tbody tr th:only-of-type {\n",
       "        vertical-align: middle;\n",
       "    }\n",
       "\n",
       "    .dataframe tbody tr th {\n",
       "        vertical-align: top;\n",
       "    }\n",
       "\n",
       "    .dataframe thead th {\n",
       "        text-align: right;\n",
       "    }\n",
       "</style>\n",
       "<table border=\"1\" class=\"dataframe\">\n",
       "  <thead>\n",
       "    <tr style=\"text-align: right;\">\n",
       "      <th></th>\n",
       "      <th>LotArea</th>\n",
       "    </tr>\n",
       "  </thead>\n",
       "  <tbody>\n",
       "    <tr>\n",
       "      <th>count</th>\n",
       "      <td>1770.000000</td>\n",
       "    </tr>\n",
       "    <tr>\n",
       "      <th>mean</th>\n",
       "      <td>9801.694915</td>\n",
       "    </tr>\n",
       "    <tr>\n",
       "      <th>std</th>\n",
       "      <td>6587.298945</td>\n",
       "    </tr>\n",
       "    <tr>\n",
       "      <th>min</th>\n",
       "      <td>1300.000000</td>\n",
       "    </tr>\n",
       "    <tr>\n",
       "      <th>25%</th>\n",
       "      <td>7200.000000</td>\n",
       "    </tr>\n",
       "    <tr>\n",
       "      <th>50%</th>\n",
       "      <td>9305.500000</td>\n",
       "    </tr>\n",
       "    <tr>\n",
       "      <th>75%</th>\n",
       "      <td>11268.750000</td>\n",
       "    </tr>\n",
       "    <tr>\n",
       "      <th>max</th>\n",
       "      <td>159000.000000</td>\n",
       "    </tr>\n",
       "  </tbody>\n",
       "</table>\n",
       "</div>"
      ],
      "text/plain": [
       "             LotArea\n",
       "count    1770.000000\n",
       "mean     9801.694915\n",
       "std      6587.298945\n",
       "min      1300.000000\n",
       "25%      7200.000000\n",
       "50%      9305.500000\n",
       "75%     11268.750000\n",
       "max    159000.000000"
      ]
     },
     "execution_count": 1112,
     "metadata": {},
     "output_type": "execute_result"
    }
   ],
   "source": [
    "print('Summary statistics for interval variables of PropSurvey2 :')\n",
    "PropSurvey2[['LotArea']].describe()"
   ]
  },
  {
   "cell_type": "code",
   "execution_count": 1113,
   "metadata": {},
   "outputs": [
    {
     "name": "stdout",
     "output_type": "stream",
     "text": [
      "Summary statistics for interval variables of HouseFeatures :\n"
     ]
    },
    {
     "data": {
      "text/html": [
       "<div>\n",
       "<style scoped>\n",
       "    .dataframe tbody tr th:only-of-type {\n",
       "        vertical-align: middle;\n",
       "    }\n",
       "\n",
       "    .dataframe tbody tr th {\n",
       "        vertical-align: top;\n",
       "    }\n",
       "\n",
       "    .dataframe thead th {\n",
       "        text-align: right;\n",
       "    }\n",
       "</style>\n",
       "<table border=\"1\" class=\"dataframe\">\n",
       "  <thead>\n",
       "    <tr style=\"text-align: right;\">\n",
       "      <th></th>\n",
       "      <th>AgeRemodelYears</th>\n",
       "      <th>VeneerExterior</th>\n",
       "      <th>BsmtFinSqft</th>\n",
       "      <th>BsmtUnfinSqft</th>\n",
       "      <th>FstFlrSqft</th>\n",
       "      <th>SecFlrSqft</th>\n",
       "      <th>FullBathHouse</th>\n",
       "      <th>BdrmAbvGrnd</th>\n",
       "      <th>RmAbvGrnd</th>\n",
       "      <th>Fireplaces</th>\n",
       "      <th>GarageCars</th>\n",
       "      <th>GarageArea</th>\n",
       "      <th>WdDckSqft</th>\n",
       "      <th>OpenPrchSqft</th>\n",
       "      <th>SalePrice</th>\n",
       "    </tr>\n",
       "  </thead>\n",
       "  <tbody>\n",
       "    <tr>\n",
       "      <th>count</th>\n",
       "      <td>2370.000000</td>\n",
       "      <td>2370.000000</td>\n",
       "      <td>2370.000000</td>\n",
       "      <td>2370.000000</td>\n",
       "      <td>2370.000000</td>\n",
       "      <td>2370.000000</td>\n",
       "      <td>2370.000000</td>\n",
       "      <td>2370.000000</td>\n",
       "      <td>2370.000000</td>\n",
       "      <td>2370.000000</td>\n",
       "      <td>2370.000000</td>\n",
       "      <td>2370.000000</td>\n",
       "      <td>2370.000000</td>\n",
       "      <td>2370.000000</td>\n",
       "      <td>2370.000000</td>\n",
       "    </tr>\n",
       "    <tr>\n",
       "      <th>mean</th>\n",
       "      <td>87.342194</td>\n",
       "      <td>88.143882</td>\n",
       "      <td>429.805907</td>\n",
       "      <td>557.101688</td>\n",
       "      <td>1116.442616</td>\n",
       "      <td>325.198734</td>\n",
       "      <td>1.508017</td>\n",
       "      <td>2.816456</td>\n",
       "      <td>6.258650</td>\n",
       "      <td>0.589451</td>\n",
       "      <td>1.718987</td>\n",
       "      <td>457.978903</td>\n",
       "      <td>91.650633</td>\n",
       "      <td>46.002532</td>\n",
       "      <td>173730.772574</td>\n",
       "    </tr>\n",
       "    <tr>\n",
       "      <th>std</th>\n",
       "      <td>45.537647</td>\n",
       "      <td>158.718586</td>\n",
       "      <td>408.779757</td>\n",
       "      <td>410.685375</td>\n",
       "      <td>344.282409</td>\n",
       "      <td>406.198426</td>\n",
       "      <td>0.501727</td>\n",
       "      <td>0.742817</td>\n",
       "      <td>1.392625</td>\n",
       "      <td>0.630429</td>\n",
       "      <td>0.708998</td>\n",
       "      <td>197.608559</td>\n",
       "      <td>120.616635</td>\n",
       "      <td>64.245617</td>\n",
       "      <td>64080.843305</td>\n",
       "    </tr>\n",
       "    <tr>\n",
       "      <th>min</th>\n",
       "      <td>22.000000</td>\n",
       "      <td>0.000000</td>\n",
       "      <td>0.000000</td>\n",
       "      <td>0.000000</td>\n",
       "      <td>407.000000</td>\n",
       "      <td>0.000000</td>\n",
       "      <td>0.000000</td>\n",
       "      <td>0.000000</td>\n",
       "      <td>3.000000</td>\n",
       "      <td>0.000000</td>\n",
       "      <td>0.000000</td>\n",
       "      <td>0.000000</td>\n",
       "      <td>0.000000</td>\n",
       "      <td>0.000000</td>\n",
       "      <td>12789.000000</td>\n",
       "    </tr>\n",
       "    <tr>\n",
       "      <th>25%</th>\n",
       "      <td>42.250000</td>\n",
       "      <td>0.000000</td>\n",
       "      <td>0.000000</td>\n",
       "      <td>239.250000</td>\n",
       "      <td>864.000000</td>\n",
       "      <td>0.000000</td>\n",
       "      <td>1.000000</td>\n",
       "      <td>2.000000</td>\n",
       "      <td>5.000000</td>\n",
       "      <td>0.000000</td>\n",
       "      <td>1.000000</td>\n",
       "      <td>312.000000</td>\n",
       "      <td>0.000000</td>\n",
       "      <td>0.000000</td>\n",
       "      <td>129900.000000</td>\n",
       "    </tr>\n",
       "    <tr>\n",
       "      <th>50%</th>\n",
       "      <td>88.000000</td>\n",
       "      <td>0.000000</td>\n",
       "      <td>378.000000</td>\n",
       "      <td>470.000000</td>\n",
       "      <td>1056.000000</td>\n",
       "      <td>0.000000</td>\n",
       "      <td>2.000000</td>\n",
       "      <td>3.000000</td>\n",
       "      <td>6.000000</td>\n",
       "      <td>1.000000</td>\n",
       "      <td>2.000000</td>\n",
       "      <td>463.000000</td>\n",
       "      <td>0.000000</td>\n",
       "      <td>25.000000</td>\n",
       "      <td>159000.000000</td>\n",
       "    </tr>\n",
       "    <tr>\n",
       "      <th>75%</th>\n",
       "      <td>122.000000</td>\n",
       "      <td>144.000000</td>\n",
       "      <td>715.500000</td>\n",
       "      <td>792.000000</td>\n",
       "      <td>1331.500000</td>\n",
       "      <td>688.750000</td>\n",
       "      <td>2.000000</td>\n",
       "      <td>3.000000</td>\n",
       "      <td>7.000000</td>\n",
       "      <td>1.000000</td>\n",
       "      <td>2.000000</td>\n",
       "      <td>572.000000</td>\n",
       "      <td>168.000000</td>\n",
       "      <td>68.000000</td>\n",
       "      <td>207000.000000</td>\n",
       "    </tr>\n",
       "    <tr>\n",
       "      <th>max</th>\n",
       "      <td>212.000000</td>\n",
       "      <td>1600.000000</td>\n",
       "      <td>2085.000000</td>\n",
       "      <td>2140.000000</td>\n",
       "      <td>2898.000000</td>\n",
       "      <td>1721.000000</td>\n",
       "      <td>2.000000</td>\n",
       "      <td>6.000000</td>\n",
       "      <td>12.000000</td>\n",
       "      <td>4.000000</td>\n",
       "      <td>5.000000</td>\n",
       "      <td>1488.000000</td>\n",
       "      <td>736.000000</td>\n",
       "      <td>547.000000</td>\n",
       "      <td>475000.000000</td>\n",
       "    </tr>\n",
       "  </tbody>\n",
       "</table>\n",
       "</div>"
      ],
      "text/plain": [
       "       AgeRemodelYears  VeneerExterior  BsmtFinSqft  BsmtUnfinSqft  \\\n",
       "count      2370.000000     2370.000000  2370.000000    2370.000000   \n",
       "mean         87.342194       88.143882   429.805907     557.101688   \n",
       "std          45.537647      158.718586   408.779757     410.685375   \n",
       "min          22.000000        0.000000     0.000000       0.000000   \n",
       "25%          42.250000        0.000000     0.000000     239.250000   \n",
       "50%          88.000000        0.000000   378.000000     470.000000   \n",
       "75%         122.000000      144.000000   715.500000     792.000000   \n",
       "max         212.000000     1600.000000  2085.000000    2140.000000   \n",
       "\n",
       "        FstFlrSqft   SecFlrSqft  FullBathHouse  BdrmAbvGrnd    RmAbvGrnd  \\\n",
       "count  2370.000000  2370.000000    2370.000000  2370.000000  2370.000000   \n",
       "mean   1116.442616   325.198734       1.508017     2.816456     6.258650   \n",
       "std     344.282409   406.198426       0.501727     0.742817     1.392625   \n",
       "min     407.000000     0.000000       0.000000     0.000000     3.000000   \n",
       "25%     864.000000     0.000000       1.000000     2.000000     5.000000   \n",
       "50%    1056.000000     0.000000       2.000000     3.000000     6.000000   \n",
       "75%    1331.500000   688.750000       2.000000     3.000000     7.000000   \n",
       "max    2898.000000  1721.000000       2.000000     6.000000    12.000000   \n",
       "\n",
       "        Fireplaces   GarageCars   GarageArea    WdDckSqft  OpenPrchSqft  \\\n",
       "count  2370.000000  2370.000000  2370.000000  2370.000000   2370.000000   \n",
       "mean      0.589451     1.718987   457.978903    91.650633     46.002532   \n",
       "std       0.630429     0.708998   197.608559   120.616635     64.245617   \n",
       "min       0.000000     0.000000     0.000000     0.000000      0.000000   \n",
       "25%       0.000000     1.000000   312.000000     0.000000      0.000000   \n",
       "50%       1.000000     2.000000   463.000000     0.000000     25.000000   \n",
       "75%       1.000000     2.000000   572.000000   168.000000     68.000000   \n",
       "max       4.000000     5.000000  1488.000000   736.000000    547.000000   \n",
       "\n",
       "           SalePrice  \n",
       "count    2370.000000  \n",
       "mean   173730.772574  \n",
       "std     64080.843305  \n",
       "min     12789.000000  \n",
       "25%    129900.000000  \n",
       "50%    159000.000000  \n",
       "75%    207000.000000  \n",
       "max    475000.000000  "
      ]
     },
     "execution_count": 1113,
     "metadata": {},
     "output_type": "execute_result"
    }
   ],
   "source": [
    "print('Summary statistics for interval variables of HouseFeatures :')\n",
    "HF_IntVars = ['AgeRemodelYears','VeneerExterior','BsmtFinSqft','BsmtUnfinSqft','FstFlrSqft','SecFlrSqft','FullBathHouse','BdrmAbvGrnd','RmAbvGrnd','Fireplaces','GarageCars','GarageArea','WdDckSqft','OpenPrchSqft','SalePrice']\n",
    "HouseFeatures[HF_IntVars].describe()"
   ]
  },
  {
   "cell_type": "markdown",
   "metadata": {},
   "source": [
    "## Nominal/Binary Variables: Distributions of Unique Levels"
   ]
  },
  {
   "cell_type": "code",
   "execution_count": 1114,
   "metadata": {},
   "outputs": [
    {
     "name": "stdout",
     "output_type": "stream",
     "text": [
      "Distriution of Lot Shape in PropSurvey1 :\n"
     ]
    },
    {
     "data": {
      "text/plain": [
       "1    398\n",
       "0    202\n",
       "Name: LotShape, dtype: int64"
      ]
     },
     "execution_count": 1114,
     "metadata": {},
     "output_type": "execute_result"
    }
   ],
   "source": [
    "#Distribution of nomianl variables of PropSurvey1\n",
    "print('Distriution of Lot Shape in PropSurvey1 :')\n",
    "PropSurvey1['LotShape'].value_counts()"
   ]
  },
  {
   "cell_type": "code",
   "execution_count": 1115,
   "metadata": {},
   "outputs": [
    {
     "name": "stdout",
     "output_type": "stream",
     "text": [
      "Distriution of Lot Shape in PropSurvey2 :\n"
     ]
    },
    {
     "data": {
      "text/plain": [
       "1    1127\n",
       "0     643\n",
       "Name: LotShape, dtype: int64"
      ]
     },
     "execution_count": 1115,
     "metadata": {},
     "output_type": "execute_result"
    }
   ],
   "source": [
    "#Distribution of nomianl variables of PropSurvey1\n",
    "print('Distriution of Lot Shape in PropSurvey2 :')\n",
    "PropSurvey2['LotShape'].value_counts()"
   ]
  },
  {
   "cell_type": "code",
   "execution_count": 1116,
   "metadata": {},
   "outputs": [
    {
     "name": "stdout",
     "output_type": "stream",
     "text": [
      "Distriution of Basement Finish Type in HouseFeatures :\n"
     ]
    },
    {
     "data": {
      "text/plain": [
       "1    1670\n",
       "0     700\n",
       "Name: BsmtFinTp, dtype: int64"
      ]
     },
     "execution_count": 1116,
     "metadata": {},
     "output_type": "execute_result"
    }
   ],
   "source": [
    "#Distribution of nomianl variables of HouseFeatures\n",
    "print('Distriution of Basement Finish Type in HouseFeatures :')\n",
    "\n",
    "HouseFeatures['BsmtFinTp'].value_counts()\n"
   ]
  },
  {
   "cell_type": "code",
   "execution_count": 1117,
   "metadata": {},
   "outputs": [
    {
     "name": "stdout",
     "output_type": "stream",
     "text": [
      "Distriution of Heating Quality Condition in HouseFeatures :\n"
     ]
    },
    {
     "data": {
      "text/plain": [
       "3    1200\n",
       "1     704\n",
       "2     400\n",
       "0      66\n",
       "Name: HeatingQC, dtype: int64"
      ]
     },
     "execution_count": 1117,
     "metadata": {},
     "output_type": "execute_result"
    }
   ],
   "source": [
    "#Distribution of nomianl variables of HouseFeatures\n",
    "print('Distriution of Heating Quality Condition in HouseFeatures :')\n",
    "\n",
    "HouseFeatures['HeatingQC'].value_counts()"
   ]
  },
  {
   "cell_type": "code",
   "execution_count": 1118,
   "metadata": {},
   "outputs": [
    {
     "name": "stdout",
     "output_type": "stream",
     "text": [
      "Distriution of Garage Type in HouseFeatures :\n"
     ]
    },
    {
     "data": {
      "text/plain": [
       "3    1444\n",
       "1     682\n",
       "2     139\n",
       "0     105\n",
       "Name: GarageTp, dtype: int64"
      ]
     },
     "execution_count": 1118,
     "metadata": {},
     "output_type": "execute_result"
    }
   ],
   "source": [
    "#Distribution of nomianl variables of HouseFeatures\n",
    "print('Distriution of Garage Type in HouseFeatures :')\n",
    "\n",
    "HouseFeatures['GarageTp'].value_counts() "
   ]
  },
  {
   "cell_type": "code",
   "execution_count": 1119,
   "metadata": {},
   "outputs": [
    {
     "name": "stdout",
     "output_type": "stream",
     "text": [
      "Distriution of Overall Quality in Q_Assesment :\n"
     ]
    },
    {
     "data": {
      "text/plain": [
       "5     686\n",
       "6     644\n",
       "7     506\n",
       "8     302\n",
       "4     163\n",
       "9      38\n",
       "3      24\n",
       "2       6\n",
       "10      1\n",
       "Name: OverallQuality, dtype: int64"
      ]
     },
     "execution_count": 1119,
     "metadata": {},
     "output_type": "execute_result"
    }
   ],
   "source": [
    "#Distribution of nomianl variables of QAssesment\n",
    "print('Distriution of Overall Quality in Q_Assesment :')\n",
    "\n",
    "Q_Assesment['OverallQuality'].value_counts()"
   ]
  },
  {
   "cell_type": "code",
   "execution_count": 1120,
   "metadata": {},
   "outputs": [
    {
     "name": "stdout",
     "output_type": "stream",
     "text": [
      "Distriution of Overall Condition in Q_Assesment :\n"
     ]
    },
    {
     "data": {
      "text/plain": [
       "5    1299\n",
       "6     459\n",
       "7     343\n",
       "8     129\n",
       "4      68\n",
       "3      32\n",
       "9      31\n",
       "2       6\n",
       "1       3\n",
       "Name: OverallCondition, dtype: int64"
      ]
     },
     "execution_count": 1120,
     "metadata": {},
     "output_type": "execute_result"
    }
   ],
   "source": [
    "#Distribution of nomianl variables of QAssesment\n",
    "print('Distriution of Overall Condition in Q_Assesment :')\n",
    "\n",
    "Q_Assesment['OverallCondition'].value_counts()"
   ]
  },
  {
   "cell_type": "markdown",
   "metadata": {},
   "source": [
    "## Append and Merge All DataFrames into One"
   ]
  },
  {
   "cell_type": "code",
   "execution_count": 1121,
   "metadata": {},
   "outputs": [
    {
     "name": "stdout",
     "output_type": "stream",
     "text": [
      "PropSurvey1 has 0 missing values.\n",
      "PropSurvey2 has 0 missing values.\n",
      "HouseFeatures has 0 missing values.\n",
      "Q_Assesment has 0 missing values.\n"
     ]
    }
   ],
   "source": [
    "#Check missing values in all datasets\n",
    "print('PropSurvey1 has', PropSurvey1.isnull().sum().sum(), 'missing values.')\n",
    "print('PropSurvey2 has', PropSurvey2.isnull().sum().sum(), 'missing values.')\n",
    "print('HouseFeatures has', HouseFeatures.isnull().sum().sum(), 'missing values.')\n",
    "print('Q_Assesment has', Q_Assesment.isnull().sum().sum(), 'missing values.')\n"
   ]
  },
  {
   "cell_type": "code",
   "execution_count": 1122,
   "metadata": {},
   "outputs": [
    {
     "data": {
      "text/html": [
       "<div>\n",
       "<style scoped>\n",
       "    .dataframe tbody tr th:only-of-type {\n",
       "        vertical-align: middle;\n",
       "    }\n",
       "\n",
       "    .dataframe tbody tr th {\n",
       "        vertical-align: top;\n",
       "    }\n",
       "\n",
       "    .dataframe thead th {\n",
       "        text-align: right;\n",
       "    }\n",
       "</style>\n",
       "<table border=\"1\" class=\"dataframe\">\n",
       "  <thead>\n",
       "    <tr style=\"text-align: right;\">\n",
       "      <th></th>\n",
       "      <th>PID</th>\n",
       "      <th>LotArea</th>\n",
       "      <th>LotShape</th>\n",
       "      <th>BldgTp</th>\n",
       "    </tr>\n",
       "  </thead>\n",
       "  <tbody>\n",
       "    <tr>\n",
       "      <th>0</th>\n",
       "      <td>526301100</td>\n",
       "      <td>31770</td>\n",
       "      <td>0</td>\n",
       "      <td>1</td>\n",
       "    </tr>\n",
       "    <tr>\n",
       "      <th>1</th>\n",
       "      <td>526350040</td>\n",
       "      <td>11622</td>\n",
       "      <td>1</td>\n",
       "      <td>1</td>\n",
       "    </tr>\n",
       "    <tr>\n",
       "      <th>2</th>\n",
       "      <td>526351010</td>\n",
       "      <td>14267</td>\n",
       "      <td>0</td>\n",
       "      <td>1</td>\n",
       "    </tr>\n",
       "    <tr>\n",
       "      <th>3</th>\n",
       "      <td>526353030</td>\n",
       "      <td>11160</td>\n",
       "      <td>1</td>\n",
       "      <td>1</td>\n",
       "    </tr>\n",
       "  </tbody>\n",
       "</table>\n",
       "</div>"
      ],
      "text/plain": [
       "         PID  LotArea  LotShape  BldgTp\n",
       "0  526301100    31770         0       1\n",
       "1  526350040    11622         1       1\n",
       "2  526351010    14267         0       1\n",
       "3  526353030    11160         1       1"
      ]
     },
     "execution_count": 1122,
     "metadata": {},
     "output_type": "execute_result"
    }
   ],
   "source": [
    "#Append PropSurvey1 and PropSurvey2 into single PropSurvey DF\n",
    "\n",
    "PropSurv = PropSurvey1.append([PropSurvey2])\n",
    "PropSurv.head(4)\n"
   ]
  },
  {
   "cell_type": "code",
   "execution_count": 1123,
   "metadata": {},
   "outputs": [
    {
     "name": "stdout",
     "output_type": "stream",
     "text": [
      "PropSurv has 0 missing values.\n"
     ]
    }
   ],
   "source": [
    "#Check for null in new PropSurv\n",
    "print('PropSurv has', PropSurv.isnull().sum().sum(), 'missing values.')"
   ]
  },
  {
   "cell_type": "code",
   "execution_count": 1124,
   "metadata": {},
   "outputs": [
    {
     "data": {
      "text/html": [
       "<div>\n",
       "<style scoped>\n",
       "    .dataframe tbody tr th:only-of-type {\n",
       "        vertical-align: middle;\n",
       "    }\n",
       "\n",
       "    .dataframe tbody tr th {\n",
       "        vertical-align: top;\n",
       "    }\n",
       "\n",
       "    .dataframe thead th {\n",
       "        text-align: right;\n",
       "    }\n",
       "</style>\n",
       "<table border=\"1\" class=\"dataframe\">\n",
       "  <thead>\n",
       "    <tr style=\"text-align: right;\">\n",
       "      <th></th>\n",
       "      <th>PID</th>\n",
       "      <th>LotArea</th>\n",
       "      <th>LotShape</th>\n",
       "      <th>BldgTp</th>\n",
       "      <th>AgeRemodelYears</th>\n",
       "      <th>VeneerExterior</th>\n",
       "      <th>BsmtFinTp</th>\n",
       "      <th>BsmtFinSqft</th>\n",
       "      <th>BsmtUnfinSqft</th>\n",
       "      <th>HeatingQC</th>\n",
       "      <th>...</th>\n",
       "      <th>FullBathHouse</th>\n",
       "      <th>BdrmAbvGrnd</th>\n",
       "      <th>RmAbvGrnd</th>\n",
       "      <th>Fireplaces</th>\n",
       "      <th>GarageTp</th>\n",
       "      <th>GarageCars</th>\n",
       "      <th>GarageArea</th>\n",
       "      <th>WdDckSqft</th>\n",
       "      <th>OpenPrchSqft</th>\n",
       "      <th>SalePrice</th>\n",
       "    </tr>\n",
       "  </thead>\n",
       "  <tbody>\n",
       "    <tr>\n",
       "      <th>0</th>\n",
       "      <td>526301100</td>\n",
       "      <td>31770</td>\n",
       "      <td>0</td>\n",
       "      <td>1</td>\n",
       "      <td>122</td>\n",
       "      <td>112</td>\n",
       "      <td>1</td>\n",
       "      <td>639</td>\n",
       "      <td>441</td>\n",
       "      <td>0</td>\n",
       "      <td>...</td>\n",
       "      <td>1</td>\n",
       "      <td>3</td>\n",
       "      <td>7</td>\n",
       "      <td>2</td>\n",
       "      <td>3</td>\n",
       "      <td>2</td>\n",
       "      <td>528</td>\n",
       "      <td>210</td>\n",
       "      <td>62</td>\n",
       "      <td>215000</td>\n",
       "    </tr>\n",
       "    <tr>\n",
       "      <th>1</th>\n",
       "      <td>526350040</td>\n",
       "      <td>11622</td>\n",
       "      <td>1</td>\n",
       "      <td>1</td>\n",
       "      <td>120</td>\n",
       "      <td>0</td>\n",
       "      <td>1</td>\n",
       "      <td>468</td>\n",
       "      <td>270</td>\n",
       "      <td>1</td>\n",
       "      <td>...</td>\n",
       "      <td>1</td>\n",
       "      <td>2</td>\n",
       "      <td>5</td>\n",
       "      <td>0</td>\n",
       "      <td>3</td>\n",
       "      <td>1</td>\n",
       "      <td>730</td>\n",
       "      <td>140</td>\n",
       "      <td>0</td>\n",
       "      <td>105000</td>\n",
       "    </tr>\n",
       "    <tr>\n",
       "      <th>2</th>\n",
       "      <td>526351010</td>\n",
       "      <td>14267</td>\n",
       "      <td>0</td>\n",
       "      <td>1</td>\n",
       "      <td>126</td>\n",
       "      <td>108</td>\n",
       "      <td>1</td>\n",
       "      <td>923</td>\n",
       "      <td>406</td>\n",
       "      <td>1</td>\n",
       "      <td>...</td>\n",
       "      <td>1</td>\n",
       "      <td>3</td>\n",
       "      <td>6</td>\n",
       "      <td>0</td>\n",
       "      <td>3</td>\n",
       "      <td>1</td>\n",
       "      <td>312</td>\n",
       "      <td>393</td>\n",
       "      <td>36</td>\n",
       "      <td>172000</td>\n",
       "    </tr>\n",
       "    <tr>\n",
       "      <th>3</th>\n",
       "      <td>526353030</td>\n",
       "      <td>11160</td>\n",
       "      <td>1</td>\n",
       "      <td>1</td>\n",
       "      <td>106</td>\n",
       "      <td>0</td>\n",
       "      <td>1</td>\n",
       "      <td>1065</td>\n",
       "      <td>1045</td>\n",
       "      <td>3</td>\n",
       "      <td>...</td>\n",
       "      <td>2</td>\n",
       "      <td>3</td>\n",
       "      <td>8</td>\n",
       "      <td>2</td>\n",
       "      <td>3</td>\n",
       "      <td>2</td>\n",
       "      <td>522</td>\n",
       "      <td>0</td>\n",
       "      <td>0</td>\n",
       "      <td>244000</td>\n",
       "    </tr>\n",
       "  </tbody>\n",
       "</table>\n",
       "<p>4 rows × 25 columns</p>\n",
       "</div>"
      ],
      "text/plain": [
       "         PID  LotArea  LotShape  BldgTp  AgeRemodelYears  VeneerExterior  \\\n",
       "0  526301100    31770         0       1              122             112   \n",
       "1  526350040    11622         1       1              120               0   \n",
       "2  526351010    14267         0       1              126             108   \n",
       "3  526353030    11160         1       1              106               0   \n",
       "\n",
       "   BsmtFinTp  BsmtFinSqft  BsmtUnfinSqft  HeatingQC  ...  FullBathHouse  \\\n",
       "0          1          639            441          0  ...              1   \n",
       "1          1          468            270          1  ...              1   \n",
       "2          1          923            406          1  ...              1   \n",
       "3          1         1065           1045          3  ...              2   \n",
       "\n",
       "   BdrmAbvGrnd  RmAbvGrnd  Fireplaces  GarageTp  GarageCars  GarageArea  \\\n",
       "0            3          7           2         3           2         528   \n",
       "1            2          5           0         3           1         730   \n",
       "2            3          6           0         3           1         312   \n",
       "3            3          8           2         3           2         522   \n",
       "\n",
       "   WdDckSqft  OpenPrchSqft  SalePrice  \n",
       "0        210            62     215000  \n",
       "1        140             0     105000  \n",
       "2        393            36     172000  \n",
       "3          0             0     244000  \n",
       "\n",
       "[4 rows x 25 columns]"
      ]
     },
     "execution_count": 1124,
     "metadata": {},
     "output_type": "execute_result"
    }
   ],
   "source": [
    "#Merge PropSurv with HouseFeatures\n",
    "PropSurv_HF = pd.merge(left=PropSurv, right=HouseFeatures, on='PID', how='inner', validate='1:1')\n",
    "PropSurv_HF.head(4)"
   ]
  },
  {
   "cell_type": "code",
   "execution_count": 1125,
   "metadata": {},
   "outputs": [
    {
     "name": "stdout",
     "output_type": "stream",
     "text": [
      "PropSurv_HF has 0 missing values.\n"
     ]
    }
   ],
   "source": [
    "print('PropSurv_HF has', PropSurv_HF.isnull().sum().sum(), 'missing values.')"
   ]
  },
  {
   "cell_type": "code",
   "execution_count": 1126,
   "metadata": {},
   "outputs": [
    {
     "data": {
      "text/html": [
       "<div>\n",
       "<style scoped>\n",
       "    .dataframe tbody tr th:only-of-type {\n",
       "        vertical-align: middle;\n",
       "    }\n",
       "\n",
       "    .dataframe tbody tr th {\n",
       "        vertical-align: top;\n",
       "    }\n",
       "\n",
       "    .dataframe thead th {\n",
       "        text-align: right;\n",
       "    }\n",
       "</style>\n",
       "<table border=\"1\" class=\"dataframe\">\n",
       "  <thead>\n",
       "    <tr style=\"text-align: right;\">\n",
       "      <th></th>\n",
       "      <th>PID</th>\n",
       "      <th>LotArea</th>\n",
       "      <th>LotShape</th>\n",
       "      <th>BldgTp</th>\n",
       "      <th>AgeRemodelYears</th>\n",
       "      <th>VeneerExterior</th>\n",
       "      <th>BsmtFinTp</th>\n",
       "      <th>BsmtFinSqft</th>\n",
       "      <th>BsmtUnfinSqft</th>\n",
       "      <th>HeatingQC</th>\n",
       "      <th>...</th>\n",
       "      <th>RmAbvGrnd</th>\n",
       "      <th>Fireplaces</th>\n",
       "      <th>GarageTp</th>\n",
       "      <th>GarageCars</th>\n",
       "      <th>GarageArea</th>\n",
       "      <th>WdDckSqft</th>\n",
       "      <th>OpenPrchSqft</th>\n",
       "      <th>SalePrice</th>\n",
       "      <th>OverallQuality</th>\n",
       "      <th>OverallCondition</th>\n",
       "    </tr>\n",
       "  </thead>\n",
       "  <tbody>\n",
       "    <tr>\n",
       "      <th>0</th>\n",
       "      <td>526301100</td>\n",
       "      <td>31770</td>\n",
       "      <td>0</td>\n",
       "      <td>1</td>\n",
       "      <td>122</td>\n",
       "      <td>112</td>\n",
       "      <td>1</td>\n",
       "      <td>639</td>\n",
       "      <td>441</td>\n",
       "      <td>0</td>\n",
       "      <td>...</td>\n",
       "      <td>7</td>\n",
       "      <td>2</td>\n",
       "      <td>3</td>\n",
       "      <td>2</td>\n",
       "      <td>528</td>\n",
       "      <td>210</td>\n",
       "      <td>62</td>\n",
       "      <td>215000</td>\n",
       "      <td>6</td>\n",
       "      <td>5</td>\n",
       "    </tr>\n",
       "    <tr>\n",
       "      <th>1</th>\n",
       "      <td>526350040</td>\n",
       "      <td>11622</td>\n",
       "      <td>1</td>\n",
       "      <td>1</td>\n",
       "      <td>120</td>\n",
       "      <td>0</td>\n",
       "      <td>1</td>\n",
       "      <td>468</td>\n",
       "      <td>270</td>\n",
       "      <td>1</td>\n",
       "      <td>...</td>\n",
       "      <td>5</td>\n",
       "      <td>0</td>\n",
       "      <td>3</td>\n",
       "      <td>1</td>\n",
       "      <td>730</td>\n",
       "      <td>140</td>\n",
       "      <td>0</td>\n",
       "      <td>105000</td>\n",
       "      <td>5</td>\n",
       "      <td>6</td>\n",
       "    </tr>\n",
       "    <tr>\n",
       "      <th>2</th>\n",
       "      <td>526351010</td>\n",
       "      <td>14267</td>\n",
       "      <td>0</td>\n",
       "      <td>1</td>\n",
       "      <td>126</td>\n",
       "      <td>108</td>\n",
       "      <td>1</td>\n",
       "      <td>923</td>\n",
       "      <td>406</td>\n",
       "      <td>1</td>\n",
       "      <td>...</td>\n",
       "      <td>6</td>\n",
       "      <td>0</td>\n",
       "      <td>3</td>\n",
       "      <td>1</td>\n",
       "      <td>312</td>\n",
       "      <td>393</td>\n",
       "      <td>36</td>\n",
       "      <td>172000</td>\n",
       "      <td>6</td>\n",
       "      <td>6</td>\n",
       "    </tr>\n",
       "    <tr>\n",
       "      <th>3</th>\n",
       "      <td>526353030</td>\n",
       "      <td>11160</td>\n",
       "      <td>1</td>\n",
       "      <td>1</td>\n",
       "      <td>106</td>\n",
       "      <td>0</td>\n",
       "      <td>1</td>\n",
       "      <td>1065</td>\n",
       "      <td>1045</td>\n",
       "      <td>3</td>\n",
       "      <td>...</td>\n",
       "      <td>8</td>\n",
       "      <td>2</td>\n",
       "      <td>3</td>\n",
       "      <td>2</td>\n",
       "      <td>522</td>\n",
       "      <td>0</td>\n",
       "      <td>0</td>\n",
       "      <td>244000</td>\n",
       "      <td>7</td>\n",
       "      <td>5</td>\n",
       "    </tr>\n",
       "  </tbody>\n",
       "</table>\n",
       "<p>4 rows × 27 columns</p>\n",
       "</div>"
      ],
      "text/plain": [
       "         PID  LotArea  LotShape  BldgTp  AgeRemodelYears  VeneerExterior  \\\n",
       "0  526301100    31770         0       1              122             112   \n",
       "1  526350040    11622         1       1              120               0   \n",
       "2  526351010    14267         0       1              126             108   \n",
       "3  526353030    11160         1       1              106               0   \n",
       "\n",
       "   BsmtFinTp  BsmtFinSqft  BsmtUnfinSqft  HeatingQC  ...  RmAbvGrnd  \\\n",
       "0          1          639            441          0  ...          7   \n",
       "1          1          468            270          1  ...          5   \n",
       "2          1          923            406          1  ...          6   \n",
       "3          1         1065           1045          3  ...          8   \n",
       "\n",
       "   Fireplaces  GarageTp  GarageCars  GarageArea  WdDckSqft  OpenPrchSqft  \\\n",
       "0           2         3           2         528        210            62   \n",
       "1           0         3           1         730        140             0   \n",
       "2           0         3           1         312        393            36   \n",
       "3           2         3           2         522          0             0   \n",
       "\n",
       "   SalePrice  OverallQuality  OverallCondition  \n",
       "0     215000               6                 5  \n",
       "1     105000               5                 6  \n",
       "2     172000               6                 6  \n",
       "3     244000               7                 5  \n",
       "\n",
       "[4 rows x 27 columns]"
      ]
     },
     "execution_count": 1126,
     "metadata": {},
     "output_type": "execute_result"
    }
   ],
   "source": [
    "# Merge PropSurv_HF with Q_Assesment\n",
    "# This is the final merged dataset\n",
    "TrainingSet = pd.merge(left=PropSurv_HF, right=Q_Assesment, on='PID', how='inner', validate='1:1')\n",
    "TrainingSet.head(4)"
   ]
  },
  {
   "cell_type": "code",
   "execution_count": 1127,
   "metadata": {},
   "outputs": [
    {
     "name": "stdout",
     "output_type": "stream",
     "text": [
      "TrainingSet has 0 missing values.\n"
     ]
    }
   ],
   "source": [
    "print('TrainingSet has', TrainingSet.isnull().sum().sum(), 'missing values.')"
   ]
  },
  {
   "cell_type": "markdown",
   "metadata": {},
   "source": [
    "## Both Interval and Nominal Variables: Skewness of Distributions and Possible Outliers"
   ]
  },
  {
   "cell_type": "code",
   "execution_count": 1128,
   "metadata": {},
   "outputs": [
    {
     "data": {
      "text/plain": [
       "Text(0, 0.5, 'Count')"
      ]
     },
     "execution_count": 1128,
     "metadata": {},
     "output_type": "execute_result"
    },
    {
     "data": {
      "image/png": "[encoded data removed]",
      "text/plain": [
       "<Figure size 360x288 with 1 Axes>"
      ]
     },
     "metadata": {
      "needs_background": "light"
     },
     "output_type": "display_data"
    }
   ],
   "source": [
    "fignew = plt.figure(figsize=(5, 4))\n",
    "# \"rwidth=\" specifies the percent of the x range ocupied by each bin to be reserved for some white gap between bins\n",
    "pltYearBuilt = TrainingSet['LotArea'].plot.hist(bins=9, rwidth=0.9)\n",
    "\n",
    "pltYearBuilt.set_xlabel('LotArea')\n",
    "pltYearBuilt.set_ylabel('Count')"
   ]
  },
  {
   "cell_type": "code",
   "execution_count": 1129,
   "metadata": {},
   "outputs": [
    {
     "data": {
      "text/plain": [
       "Text(0.5, 1.0, 'AgeRemodelYears')"
      ]
     },
     "execution_count": 1129,
     "metadata": {},
     "output_type": "execute_result"
    },
    {
     "data": {
      "image/png": "[encoded data removed]",
      "text/plain": [
       "<Figure size 360x288 with 1 Axes>"
      ]
     },
     "metadata": {
      "needs_background": "light"
     },
     "output_type": "display_data"
    }
   ],
   "source": [
    "fignew = plt.figure(figsize=(5, 4))\n",
    "# \"rwidth=\" specifies the percent of the x range ocupied by each bin to be reserved for some white gap between bins\n",
    "pltYearBuilt = TrainingSet['AgeRemodelYears'].plot.hist(bins=5, rwidth=0.9)\n",
    "\n",
    "pltYearBuilt.set_xlabel('AgeRemodelYears')\n",
    "pltYearBuilt.set_ylabel('Count')\n",
    "pltYearBuilt.set_title('AgeRemodelYears')"
   ]
  },
  {
   "cell_type": "code",
   "execution_count": 1130,
   "metadata": {},
   "outputs": [
    {
     "data": {
      "text/plain": [
       "Text(0.5, 1.0, 'VeneerExterior Area')"
      ]
     },
     "execution_count": 1130,
     "metadata": {},
     "output_type": "execute_result"
    },
    {
     "data": {
      "image/png": "[encoded data removed]",
      "text/plain": [
       "<Figure size 360x288 with 1 Axes>"
      ]
     },
     "metadata": {
      "needs_background": "light"
     },
     "output_type": "display_data"
    }
   ],
   "source": [
    "fignew = plt.figure(figsize=(5, 4))\n",
    "# \"rwidth=\" specifies the percent of the x range ocupied by each bin to be reserved for some white gap between bins\n",
    "pltYearBuilt = TrainingSet['VeneerExterior'].plot.hist(bins=7, rwidth=0.9)\n",
    "\n",
    "pltYearBuilt.set_xlabel('VeneerExterior')\n",
    "pltYearBuilt.set_ylabel('Area')\n",
    "pltYearBuilt.set_title('VeneerExterior Area')"
   ]
  },
  {
   "cell_type": "code",
   "execution_count": 1131,
   "metadata": {},
   "outputs": [
    {
     "data": {
      "text/plain": [
       "Text(0.5, 1.0, 'BsmtFinSqft Area')"
      ]
     },
     "execution_count": 1131,
     "metadata": {},
     "output_type": "execute_result"
    },
    {
     "data": {
      "image/png": "[encoded data removed]",
      "text/plain": [
       "<Figure size 360x288 with 1 Axes>"
      ]
     },
     "metadata": {
      "needs_background": "light"
     },
     "output_type": "display_data"
    }
   ],
   "source": [
    "fignew = plt.figure(figsize=(5, 4))\n",
    "# \"rwidth=\" specifies the percent of the x range ocupied by each bin to be reserved for some white gap between bins\n",
    "pltYearBuilt = TrainingSet['BsmtFinSqft'].plot.hist(bins=7, rwidth=0.9)\n",
    "\n",
    "pltYearBuilt.set_xlabel('BsmtFinSqft')\n",
    "pltYearBuilt.set_ylabel('Area')\n",
    "pltYearBuilt.set_title('BsmtFinSqft Area')"
   ]
  },
  {
   "cell_type": "code",
   "execution_count": 1132,
   "metadata": {},
   "outputs": [
    {
     "data": {
      "text/plain": [
       "Text(0.5, 1.0, 'BsmtUnfinSqft Area')"
      ]
     },
     "execution_count": 1132,
     "metadata": {},
     "output_type": "execute_result"
    },
    {
     "data": {
      "image/png": "[encoded data removed]",
      "text/plain": [
       "<Figure size 360x288 with 1 Axes>"
      ]
     },
     "metadata": {
      "needs_background": "light"
     },
     "output_type": "display_data"
    }
   ],
   "source": [
    "fignew = plt.figure(figsize=(5, 4))\n",
    "# \"rwidth=\" specifies the percent of the x range ocupied by each bin to be reserved for some white gap between bins\n",
    "pltYearBuilt = TrainingSet['BsmtUnfinSqft'].plot.hist(bins=7, rwidth=0.9)\n",
    "\n",
    "pltYearBuilt.set_xlabel('BsmtUnfinSqft')\n",
    "pltYearBuilt.set_ylabel('Area')\n",
    "pltYearBuilt.set_title('BsmtUnfinSqft Area')"
   ]
  },
  {
   "cell_type": "code",
   "execution_count": 1133,
   "metadata": {},
   "outputs": [
    {
     "data": {
      "text/plain": [
       "Text(0.5, 1.0, 'FstFlrSqft Area')"
      ]
     },
     "execution_count": 1133,
     "metadata": {},
     "output_type": "execute_result"
    },
    {
     "data": {
      "image/png": "[encoded data removed]",
      "text/plain": [
       "<Figure size 360x288 with 1 Axes>"
      ]
     },
     "metadata": {
      "needs_background": "light"
     },
     "output_type": "display_data"
    }
   ],
   "source": [
    "fignew = plt.figure(figsize=(5, 4))\n",
    "# \"rwidth=\" specifies the percent of the x range ocupied by each bin to be reserved for some white gap between bins\n",
    "pltYearBuilt = TrainingSet['FstFlrSqft'].plot.hist(bins=7, rwidth=0.9)\n",
    "\n",
    "pltYearBuilt.set_xlabel('FstFlrSqft')\n",
    "pltYearBuilt.set_ylabel('Area')\n",
    "pltYearBuilt.set_title('FstFlrSqft Area')"
   ]
  },
  {
   "cell_type": "code",
   "execution_count": 1134,
   "metadata": {},
   "outputs": [
    {
     "data": {
      "text/plain": [
       "Text(0.5, 1.0, 'SecFlrSqft Area')"
      ]
     },
     "execution_count": 1134,
     "metadata": {},
     "output_type": "execute_result"
    },
    {
     "data": {
      "image/png": "[encoded data removed]",
      "text/plain": [
       "<Figure size 360x288 with 1 Axes>"
      ]
     },
     "metadata": {
      "needs_background": "light"
     },
     "output_type": "display_data"
    }
   ],
   "source": [
    "fignew = plt.figure(figsize=(5, 4))\n",
    "# \"rwidth=\" specifies the percent of the x range ocupied by each bin to be reserved for some white gap between bins\n",
    "pltYearBuilt = TrainingSet['SecFlrSqft'].plot.hist(bins=7, rwidth=0.9)\n",
    "\n",
    "pltYearBuilt.set_xlabel('SecFlrSqft')\n",
    "pltYearBuilt.set_ylabel('Area')\n",
    "pltYearBuilt.set_title('SecFlrSqft Area')"
   ]
  },
  {
   "cell_type": "code",
   "execution_count": 1135,
   "metadata": {},
   "outputs": [
    {
     "data": {
      "text/plain": [
       "Text(0, 0.5, 'Count')"
      ]
     },
     "execution_count": 1135,
     "metadata": {},
     "output_type": "execute_result"
    },
    {
     "data": {
      "image/png": "[encoded data removed]",
      "text/plain": [
       "<Figure size 360x288 with 1 Axes>"
      ]
     },
     "metadata": {
      "needs_background": "light"
     },
     "output_type": "display_data"
    }
   ],
   "source": [
    "fignew = plt.figure(figsize=(5, 4))\n",
    "# \"rwidth=\" specifies the percent of the x range ocupied by each bin to be reserved for some white gap between bins\n",
    "pltYearBuilt = TrainingSet['AbvGrndLiving'].plot.hist(bins=7, rwidth=0.9)\n",
    "\n",
    "pltYearBuilt.set_xlabel('AbvGrndLiving')\n",
    "pltYearBuilt.set_ylabel('Count')"
   ]
  },
  {
   "cell_type": "code",
   "execution_count": 1136,
   "metadata": {},
   "outputs": [
    {
     "data": {
      "text/plain": [
       "Text(0, 0.5, 'House Count')"
      ]
     },
     "execution_count": 1136,
     "metadata": {},
     "output_type": "execute_result"
    },
    {
     "data": {
      "image/png": "[encoded data removed]",
      "text/plain": [
       "<Figure size 360x288 with 1 Axes>"
      ]
     },
     "metadata": {
      "needs_background": "light"
     },
     "output_type": "display_data"
    }
   ],
   "source": [
    "fignew = plt.figure(figsize=(5, 4))\n",
    "# \"rwidth=\" specifies the percent of the x range ocupied by each bin to be reserved for some white gap between bins\n",
    "pltYearBuilt = TrainingSet['FullBathHouse'].plot.hist(bins=3, rwidth=0.7)\n",
    "\n",
    "pltYearBuilt.set_xlabel('FullBathHouse')\n",
    "pltYearBuilt.set_ylabel('House Count')"
   ]
  },
  {
   "cell_type": "code",
   "execution_count": 1137,
   "metadata": {},
   "outputs": [
    {
     "data": {
      "text/plain": [
       "Text(0, 0.5, 'Count')"
      ]
     },
     "execution_count": 1137,
     "metadata": {},
     "output_type": "execute_result"
    },
    {
     "data": {
      "image/png": "[encoded data removed]",
      "text/plain": [
       "<Figure size 360x288 with 1 Axes>"
      ]
     },
     "metadata": {
      "needs_background": "light"
     },
     "output_type": "display_data"
    }
   ],
   "source": [
    "fignew = plt.figure(figsize=(5, 4))\n",
    "# \"rwidth=\" specifies the percent of the x range ocupied by each bin to be reserved for some white gap between bins\n",
    "pltYearBuilt = TrainingSet['BdrmAbvGrnd'].plot.hist(bins=5, rwidth=0.7)\n",
    "\n",
    "pltYearBuilt.set_xlabel('BdrmAbvGrnd')\n",
    "pltYearBuilt.set_ylabel('Count')"
   ]
  },
  {
   "cell_type": "code",
   "execution_count": 1138,
   "metadata": {},
   "outputs": [
    {
     "data": {
      "text/plain": [
       "Text(0, 0.5, 'Count')"
      ]
     },
     "execution_count": 1138,
     "metadata": {},
     "output_type": "execute_result"
    },
    {
     "data": {
      "image/png": "[encoded data removed]",
      "text/plain": [
       "<Figure size 360x288 with 1 Axes>"
      ]
     },
     "metadata": {
      "needs_background": "light"
     },
     "output_type": "display_data"
    }
   ],
   "source": [
    "fignew = plt.figure(figsize=(5, 4))\n",
    "# \"rwidth=\" specifies the percent of the x range ocupied by each bin to be reserved for some white gap between bins\n",
    "pltYearBuilt = TrainingSet['RmAbvGrnd'].plot.hist(bins=7, rwidth=0.7)\n",
    "\n",
    "pltYearBuilt.set_xlabel('RmAbvGrnd')\n",
    "pltYearBuilt.set_ylabel('Count')"
   ]
  },
  {
   "cell_type": "code",
   "execution_count": 1139,
   "metadata": {},
   "outputs": [
    {
     "data": {
      "text/plain": [
       "Text(0, 0.5, 'House Count')"
      ]
     },
     "execution_count": 1139,
     "metadata": {},
     "output_type": "execute_result"
    },
    {
     "data": {
      "image/png": "[encoded data removed]",
      "text/plain": [
       "<Figure size 360x288 with 1 Axes>"
      ]
     },
     "metadata": {
      "needs_background": "light"
     },
     "output_type": "display_data"
    }
   ],
   "source": [
    "fignew = plt.figure(figsize=(5, 4))\n",
    "# \"rwidth=\" specifies the percent of the x range ocupied by each bin to be reserved for some white gap between bins\n",
    "pltYearBuilt = TrainingSet['Fireplaces'].plot.hist(bins=5, rwidth=0.7)\n",
    "\n",
    "pltYearBuilt.set_xlabel('Fireplaces')\n",
    "pltYearBuilt.set_ylabel('House Count')"
   ]
  },
  {
   "cell_type": "code",
   "execution_count": 1140,
   "metadata": {},
   "outputs": [
    {
     "data": {
      "text/plain": [
       "Text(0, 0.5, 'House Count')"
      ]
     },
     "execution_count": 1140,
     "metadata": {},
     "output_type": "execute_result"
    },
    {
     "data": {
      "image/png": "[encoded data removed]",
      "text/plain": [
       "<Figure size 360x288 with 1 Axes>"
      ]
     },
     "metadata": {
      "needs_background": "light"
     },
     "output_type": "display_data"
    }
   ],
   "source": [
    "fignew = plt.figure(figsize=(5, 4))\n",
    "# \"rwidth=\" specifies the percent of the x range ocupied by each bin to be reserved for some white gap between bins\n",
    "pltYearBuilt = TrainingSet['GarageCars'].plot.hist(bins=5, rwidth=0.7)\n",
    "\n",
    "pltYearBuilt.set_xlabel('Garage Car Capcity (in Cars)')\n",
    "pltYearBuilt.set_ylabel('House Count')"
   ]
  },
  {
   "cell_type": "code",
   "execution_count": 1141,
   "metadata": {},
   "outputs": [
    {
     "data": {
      "text/plain": [
       "Text(0, 0.5, 'Area')"
      ]
     },
     "execution_count": 1141,
     "metadata": {},
     "output_type": "execute_result"
    },
    {
     "data": {
      "image/png": "[encoded data removed]",
      "text/plain": [
       "<Figure size 360x288 with 1 Axes>"
      ]
     },
     "metadata": {
      "needs_background": "light"
     },
     "output_type": "display_data"
    }
   ],
   "source": [
    "fignew = plt.figure(figsize=(5, 4))\n",
    "# \"rwidth=\" specifies the percent of the x range ocupied by each bin to be reserved for some white gap between bins\n",
    "pltYearBuilt = TrainingSet['GarageArea'].plot.hist(bins=5, rwidth=0.7)\n",
    "\n",
    "pltYearBuilt.set_xlabel('GarageArea')\n",
    "pltYearBuilt.set_ylabel('Area')"
   ]
  },
  {
   "cell_type": "code",
   "execution_count": 1142,
   "metadata": {},
   "outputs": [
    {
     "data": {
      "text/plain": [
       "Text(0, 0.5, 'Area')"
      ]
     },
     "execution_count": 1142,
     "metadata": {},
     "output_type": "execute_result"
    },
    {
     "data": {
      "image/png": "[encoded data removed]",
      "text/plain": [
       "<Figure size 360x288 with 1 Axes>"
      ]
     },
     "metadata": {
      "needs_background": "light"
     },
     "output_type": "display_data"
    }
   ],
   "source": [
    "fignew = plt.figure(figsize=(5, 4))\n",
    "# \"rwidth=\" specifies the percent of the x range ocupied by each bin to be reserved for some white gap between bins\n",
    "pltYearBuilt = TrainingSet['WdDckSqft'].plot.hist(bins=5, rwidth=0.7)\n",
    "\n",
    "pltYearBuilt.set_xlabel('WdDckSqft')\n",
    "pltYearBuilt.set_ylabel('Area')"
   ]
  },
  {
   "cell_type": "code",
   "execution_count": 1143,
   "metadata": {},
   "outputs": [
    {
     "data": {
      "text/plain": [
       "Text(0, 0.5, 'Area')"
      ]
     },
     "execution_count": 1143,
     "metadata": {},
     "output_type": "execute_result"
    },
    {
     "data": {
      "image/png": "[encoded data removed]",
      "text/plain": [
       "<Figure size 360x288 with 1 Axes>"
      ]
     },
     "metadata": {
      "needs_background": "light"
     },
     "output_type": "display_data"
    }
   ],
   "source": [
    "fignew = plt.figure(figsize=(5, 4))\n",
    "# \"rwidth=\" specifies the percent of the x range ocupied by each bin to be reserved for some white gap between bins\n",
    "pltYearBuilt = TrainingSet['OpenPrchSqft'].plot.hist(bins=4, rwidth=0.7)\n",
    "\n",
    "pltYearBuilt.set_xlabel('OpenPrchSqft')\n",
    "pltYearBuilt.set_ylabel('Area')"
   ]
  },
  {
   "cell_type": "code",
   "execution_count": 1144,
   "metadata": {},
   "outputs": [],
   "source": [
    "#  Skewness shown in LotArea, VeneerExterior, and OpenPrchSqft"
   ]
  },
  {
   "cell_type": "markdown",
   "metadata": {},
   "source": [
    "## Step 1.2: Import & Understand Score Dataset"
   ]
  },
  {
   "cell_type": "code",
   "execution_count": 1145,
   "metadata": {},
   "outputs": [],
   "source": [
    "Score = pd.read_csv('Score_Data-No_Sale_Price.csv')"
   ]
  },
  {
   "cell_type": "code",
   "execution_count": 1146,
   "metadata": {},
   "outputs": [
    {
     "data": {
      "text/html": [
       "<div>\n",
       "<style scoped>\n",
       "    .dataframe tbody tr th:only-of-type {\n",
       "        vertical-align: middle;\n",
       "    }\n",
       "\n",
       "    .dataframe tbody tr th {\n",
       "        vertical-align: top;\n",
       "    }\n",
       "\n",
       "    .dataframe thead th {\n",
       "        text-align: right;\n",
       "    }\n",
       "</style>\n",
       "<table border=\"1\" class=\"dataframe\">\n",
       "  <thead>\n",
       "    <tr style=\"text-align: right;\">\n",
       "      <th></th>\n",
       "      <th>PID</th>\n",
       "      <th>LotArea</th>\n",
       "      <th>LotShape</th>\n",
       "      <th>BldgTp</th>\n",
       "      <th>OverallQuality</th>\n",
       "      <th>OverallCondition</th>\n",
       "      <th>YearBuilt</th>\n",
       "      <th>YearRemodel</th>\n",
       "      <th>VeneerExterior</th>\n",
       "      <th>BsmtFinTp</th>\n",
       "      <th>...</th>\n",
       "      <th>HalfBathHouse</th>\n",
       "      <th>FullBathHouse</th>\n",
       "      <th>BdrmAbvGrnd</th>\n",
       "      <th>RmAbvGrnd</th>\n",
       "      <th>Fireplaces</th>\n",
       "      <th>GarageTp</th>\n",
       "      <th>GarageCars</th>\n",
       "      <th>GarageArea</th>\n",
       "      <th>WdDckSqft</th>\n",
       "      <th>OpenPrchSqft</th>\n",
       "    </tr>\n",
       "  </thead>\n",
       "  <tbody>\n",
       "    <tr>\n",
       "      <th>0</th>\n",
       "      <td>528445060</td>\n",
       "      <td>8987</td>\n",
       "      <td>1</td>\n",
       "      <td>1</td>\n",
       "      <td>8</td>\n",
       "      <td>5</td>\n",
       "      <td>2005</td>\n",
       "      <td>2006</td>\n",
       "      <td>226.0</td>\n",
       "      <td>0</td>\n",
       "      <td>...</td>\n",
       "      <td>0</td>\n",
       "      <td>2</td>\n",
       "      <td>2.0</td>\n",
       "      <td>6.0</td>\n",
       "      <td>1</td>\n",
       "      <td>3</td>\n",
       "      <td>3</td>\n",
       "      <td>880</td>\n",
       "      <td>144</td>\n",
       "      <td>0</td>\n",
       "    </tr>\n",
       "    <tr>\n",
       "      <th>1</th>\n",
       "      <td>528456160</td>\n",
       "      <td>9215</td>\n",
       "      <td>1</td>\n",
       "      <td>1</td>\n",
       "      <td>7</td>\n",
       "      <td>5</td>\n",
       "      <td>2009</td>\n",
       "      <td>2010</td>\n",
       "      <td>0.0</td>\n",
       "      <td>0</td>\n",
       "      <td>...</td>\n",
       "      <td>0</td>\n",
       "      <td>2</td>\n",
       "      <td>2.0</td>\n",
       "      <td>4.0</td>\n",
       "      <td>0</td>\n",
       "      <td>3</td>\n",
       "      <td>2</td>\n",
       "      <td>676</td>\n",
       "      <td>0</td>\n",
       "      <td>136</td>\n",
       "    </tr>\n",
       "    <tr>\n",
       "      <th>2</th>\n",
       "      <td>528458070</td>\n",
       "      <td>8640</td>\n",
       "      <td>1</td>\n",
       "      <td>1</td>\n",
       "      <td>7</td>\n",
       "      <td>5</td>\n",
       "      <td>2009</td>\n",
       "      <td>2009</td>\n",
       "      <td>0.0</td>\n",
       "      <td>1</td>\n",
       "      <td>...</td>\n",
       "      <td>1</td>\n",
       "      <td>2</td>\n",
       "      <td>3.0</td>\n",
       "      <td>7.0</td>\n",
       "      <td>0</td>\n",
       "      <td>3</td>\n",
       "      <td>2</td>\n",
       "      <td>614</td>\n",
       "      <td>169</td>\n",
       "      <td>45</td>\n",
       "    </tr>\n",
       "    <tr>\n",
       "      <th>3</th>\n",
       "      <td>906380190</td>\n",
       "      <td>6762</td>\n",
       "      <td>1</td>\n",
       "      <td>1</td>\n",
       "      <td>7</td>\n",
       "      <td>5</td>\n",
       "      <td>2006</td>\n",
       "      <td>2006</td>\n",
       "      <td>24.0</td>\n",
       "      <td>1</td>\n",
       "      <td>...</td>\n",
       "      <td>0</td>\n",
       "      <td>2</td>\n",
       "      <td>2.0</td>\n",
       "      <td>6.0</td>\n",
       "      <td>0</td>\n",
       "      <td>3</td>\n",
       "      <td>2</td>\n",
       "      <td>632</td>\n",
       "      <td>105</td>\n",
       "      <td>61</td>\n",
       "    </tr>\n",
       "    <tr>\n",
       "      <th>4</th>\n",
       "      <td>906385010</td>\n",
       "      <td>10402</td>\n",
       "      <td>0</td>\n",
       "      <td>1</td>\n",
       "      <td>7</td>\n",
       "      <td>5</td>\n",
       "      <td>2009</td>\n",
       "      <td>2009</td>\n",
       "      <td>0.0</td>\n",
       "      <td>0</td>\n",
       "      <td>...</td>\n",
       "      <td>0</td>\n",
       "      <td>2</td>\n",
       "      <td>3.0</td>\n",
       "      <td>6.0</td>\n",
       "      <td>0</td>\n",
       "      <td>3</td>\n",
       "      <td>3</td>\n",
       "      <td>740</td>\n",
       "      <td>0</td>\n",
       "      <td>36</td>\n",
       "    </tr>\n",
       "  </tbody>\n",
       "</table>\n",
       "<p>5 rows × 27 columns</p>\n",
       "</div>"
      ],
      "text/plain": [
       "         PID  LotArea  LotShape  BldgTp  OverallQuality  OverallCondition  \\\n",
       "0  528445060     8987         1       1               8                 5   \n",
       "1  528456160     9215         1       1               7                 5   \n",
       "2  528458070     8640         1       1               7                 5   \n",
       "3  906380190     6762         1       1               7                 5   \n",
       "4  906385010    10402         0       1               7                 5   \n",
       "\n",
       "   YearBuilt  YearRemodel  VeneerExterior  BsmtFinTp  ...  HalfBathHouse  \\\n",
       "0       2005         2006           226.0          0  ...              0   \n",
       "1       2009         2010             0.0          0  ...              0   \n",
       "2       2009         2009             0.0          1  ...              1   \n",
       "3       2006         2006            24.0          1  ...              0   \n",
       "4       2009         2009             0.0          0  ...              0   \n",
       "\n",
       "   FullBathHouse  BdrmAbvGrnd  RmAbvGrnd  Fireplaces  GarageTp  GarageCars  \\\n",
       "0              2          2.0        6.0           1         3           3   \n",
       "1              2          2.0        4.0           0         3           2   \n",
       "2              2          3.0        7.0           0         3           2   \n",
       "3              2          2.0        6.0           0         3           2   \n",
       "4              2          3.0        6.0           0         3           3   \n",
       "\n",
       "   GarageArea  WdDckSqft  OpenPrchSqft  \n",
       "0         880        144             0  \n",
       "1         676          0           136  \n",
       "2         614        169            45  \n",
       "3         632        105            61  \n",
       "4         740          0            36  \n",
       "\n",
       "[5 rows x 27 columns]"
      ]
     },
     "execution_count": 1146,
     "metadata": {},
     "output_type": "execute_result"
    }
   ],
   "source": [
    "Score.head()"
   ]
  },
  {
   "cell_type": "code",
   "execution_count": 1147,
   "metadata": {},
   "outputs": [
    {
     "data": {
      "text/html": [
       "<div>\n",
       "<style scoped>\n",
       "    .dataframe tbody tr th:only-of-type {\n",
       "        vertical-align: middle;\n",
       "    }\n",
       "\n",
       "    .dataframe tbody tr th {\n",
       "        vertical-align: top;\n",
       "    }\n",
       "\n",
       "    .dataframe thead th {\n",
       "        text-align: right;\n",
       "    }\n",
       "</style>\n",
       "<table border=\"1\" class=\"dataframe\">\n",
       "  <thead>\n",
       "    <tr style=\"text-align: right;\">\n",
       "      <th></th>\n",
       "      <th>PID</th>\n",
       "      <th>LotArea</th>\n",
       "      <th>LotShape</th>\n",
       "      <th>BldgTp</th>\n",
       "      <th>AgeRemodelYears</th>\n",
       "      <th>VeneerExterior</th>\n",
       "      <th>BsmtFinTp</th>\n",
       "      <th>BsmtFinSqft</th>\n",
       "      <th>BsmtUnfinSqft</th>\n",
       "      <th>HeatingQC</th>\n",
       "      <th>...</th>\n",
       "      <th>RmAbvGrnd</th>\n",
       "      <th>Fireplaces</th>\n",
       "      <th>GarageTp</th>\n",
       "      <th>GarageCars</th>\n",
       "      <th>GarageArea</th>\n",
       "      <th>WdDckSqft</th>\n",
       "      <th>OpenPrchSqft</th>\n",
       "      <th>SalePrice</th>\n",
       "      <th>OverallQuality</th>\n",
       "      <th>OverallCondition</th>\n",
       "    </tr>\n",
       "  </thead>\n",
       "  <tbody>\n",
       "    <tr>\n",
       "      <th>0</th>\n",
       "      <td>526301100</td>\n",
       "      <td>31770</td>\n",
       "      <td>0</td>\n",
       "      <td>1</td>\n",
       "      <td>122</td>\n",
       "      <td>112</td>\n",
       "      <td>1</td>\n",
       "      <td>639</td>\n",
       "      <td>441</td>\n",
       "      <td>0</td>\n",
       "      <td>...</td>\n",
       "      <td>7</td>\n",
       "      <td>2</td>\n",
       "      <td>3</td>\n",
       "      <td>2</td>\n",
       "      <td>528</td>\n",
       "      <td>210</td>\n",
       "      <td>62</td>\n",
       "      <td>215000</td>\n",
       "      <td>6</td>\n",
       "      <td>5</td>\n",
       "    </tr>\n",
       "    <tr>\n",
       "      <th>1</th>\n",
       "      <td>526350040</td>\n",
       "      <td>11622</td>\n",
       "      <td>1</td>\n",
       "      <td>1</td>\n",
       "      <td>120</td>\n",
       "      <td>0</td>\n",
       "      <td>1</td>\n",
       "      <td>468</td>\n",
       "      <td>270</td>\n",
       "      <td>1</td>\n",
       "      <td>...</td>\n",
       "      <td>5</td>\n",
       "      <td>0</td>\n",
       "      <td>3</td>\n",
       "      <td>1</td>\n",
       "      <td>730</td>\n",
       "      <td>140</td>\n",
       "      <td>0</td>\n",
       "      <td>105000</td>\n",
       "      <td>5</td>\n",
       "      <td>6</td>\n",
       "    </tr>\n",
       "    <tr>\n",
       "      <th>2</th>\n",
       "      <td>526351010</td>\n",
       "      <td>14267</td>\n",
       "      <td>0</td>\n",
       "      <td>1</td>\n",
       "      <td>126</td>\n",
       "      <td>108</td>\n",
       "      <td>1</td>\n",
       "      <td>923</td>\n",
       "      <td>406</td>\n",
       "      <td>1</td>\n",
       "      <td>...</td>\n",
       "      <td>6</td>\n",
       "      <td>0</td>\n",
       "      <td>3</td>\n",
       "      <td>1</td>\n",
       "      <td>312</td>\n",
       "      <td>393</td>\n",
       "      <td>36</td>\n",
       "      <td>172000</td>\n",
       "      <td>6</td>\n",
       "      <td>6</td>\n",
       "    </tr>\n",
       "    <tr>\n",
       "      <th>3</th>\n",
       "      <td>526353030</td>\n",
       "      <td>11160</td>\n",
       "      <td>1</td>\n",
       "      <td>1</td>\n",
       "      <td>106</td>\n",
       "      <td>0</td>\n",
       "      <td>1</td>\n",
       "      <td>1065</td>\n",
       "      <td>1045</td>\n",
       "      <td>3</td>\n",
       "      <td>...</td>\n",
       "      <td>8</td>\n",
       "      <td>2</td>\n",
       "      <td>3</td>\n",
       "      <td>2</td>\n",
       "      <td>522</td>\n",
       "      <td>0</td>\n",
       "      <td>0</td>\n",
       "      <td>244000</td>\n",
       "      <td>7</td>\n",
       "      <td>5</td>\n",
       "    </tr>\n",
       "    <tr>\n",
       "      <th>4</th>\n",
       "      <td>527105010</td>\n",
       "      <td>13830</td>\n",
       "      <td>0</td>\n",
       "      <td>1</td>\n",
       "      <td>47</td>\n",
       "      <td>0</td>\n",
       "      <td>1</td>\n",
       "      <td>791</td>\n",
       "      <td>137</td>\n",
       "      <td>2</td>\n",
       "      <td>...</td>\n",
       "      <td>6</td>\n",
       "      <td>1</td>\n",
       "      <td>3</td>\n",
       "      <td>2</td>\n",
       "      <td>482</td>\n",
       "      <td>212</td>\n",
       "      <td>34</td>\n",
       "      <td>189900</td>\n",
       "      <td>5</td>\n",
       "      <td>5</td>\n",
       "    </tr>\n",
       "  </tbody>\n",
       "</table>\n",
       "<p>5 rows × 27 columns</p>\n",
       "</div>"
      ],
      "text/plain": [
       "         PID  LotArea  LotShape  BldgTp  AgeRemodelYears  VeneerExterior  \\\n",
       "0  526301100    31770         0       1              122             112   \n",
       "1  526350040    11622         1       1              120               0   \n",
       "2  526351010    14267         0       1              126             108   \n",
       "3  526353030    11160         1       1              106               0   \n",
       "4  527105010    13830         0       1               47               0   \n",
       "\n",
       "   BsmtFinTp  BsmtFinSqft  BsmtUnfinSqft  HeatingQC  ...  RmAbvGrnd  \\\n",
       "0          1          639            441          0  ...          7   \n",
       "1          1          468            270          1  ...          5   \n",
       "2          1          923            406          1  ...          6   \n",
       "3          1         1065           1045          3  ...          8   \n",
       "4          1          791            137          2  ...          6   \n",
       "\n",
       "   Fireplaces  GarageTp  GarageCars  GarageArea  WdDckSqft  OpenPrchSqft  \\\n",
       "0           2         3           2         528        210            62   \n",
       "1           0         3           1         730        140             0   \n",
       "2           0         3           1         312        393            36   \n",
       "3           2         3           2         522          0             0   \n",
       "4           1         3           2         482        212            34   \n",
       "\n",
       "   SalePrice  OverallQuality  OverallCondition  \n",
       "0     215000               6                 5  \n",
       "1     105000               5                 6  \n",
       "2     172000               6                 6  \n",
       "3     244000               7                 5  \n",
       "4     189900               5                 5  \n",
       "\n",
       "[5 rows x 27 columns]"
      ]
     },
     "execution_count": 1147,
     "metadata": {},
     "output_type": "execute_result"
    }
   ],
   "source": [
    "TrainingSet.head()"
   ]
  },
  {
   "cell_type": "markdown",
   "metadata": {},
   "source": [
    "After careful observation, we discovered that there is no Sales Price in the Score dataset."
   ]
  },
  {
   "cell_type": "markdown",
   "metadata": {},
   "source": [
    "***\n",
    "# Exploratory Data Analyses & Finish Data Preprocessing"
   ]
  },
  {
   "cell_type": "markdown",
   "metadata": {},
   "source": [
    "## Step 2: Deep EDAs, Confirm Assumptions & Generate Leads\n",
    "Build codes, and/or identify any reason for building custom functions and using them (note: custom functions should be included in the `\"Step 0. Import Necessary Packages, Define Utilities\"` section), in order to gather some intelligence about the different input variables and their potential informative-ness in regards to the target variable"
   ]
  },
  {
   "cell_type": "code",
   "execution_count": 1148,
   "metadata": {},
   "outputs": [],
   "source": [
    "\n",
    "import seaborn as sns\n",
    "sns.set_style('ticks')"
   ]
  },
  {
   "cell_type": "code",
   "execution_count": 1149,
   "metadata": {},
   "outputs": [
    {
     "data": {
      "text/html": [
       "<div>\n",
       "<style scoped>\n",
       "    .dataframe tbody tr th:only-of-type {\n",
       "        vertical-align: middle;\n",
       "    }\n",
       "\n",
       "    .dataframe tbody tr th {\n",
       "        vertical-align: top;\n",
       "    }\n",
       "\n",
       "    .dataframe thead th {\n",
       "        text-align: right;\n",
       "    }\n",
       "</style>\n",
       "<table border=\"1\" class=\"dataframe\">\n",
       "  <thead>\n",
       "    <tr style=\"text-align: right;\">\n",
       "      <th></th>\n",
       "      <th>PID</th>\n",
       "      <th>LotArea</th>\n",
       "      <th>LotShape</th>\n",
       "      <th>BldgTp</th>\n",
       "      <th>AgeRemodelYears</th>\n",
       "      <th>VeneerExterior</th>\n",
       "      <th>BsmtFinTp</th>\n",
       "      <th>BsmtFinSqft</th>\n",
       "      <th>BsmtUnfinSqft</th>\n",
       "      <th>HeatingQC</th>\n",
       "      <th>...</th>\n",
       "      <th>RmAbvGrnd</th>\n",
       "      <th>Fireplaces</th>\n",
       "      <th>GarageTp</th>\n",
       "      <th>GarageCars</th>\n",
       "      <th>GarageArea</th>\n",
       "      <th>WdDckSqft</th>\n",
       "      <th>OpenPrchSqft</th>\n",
       "      <th>SalePrice</th>\n",
       "      <th>OverallQuality</th>\n",
       "      <th>OverallCondition</th>\n",
       "    </tr>\n",
       "  </thead>\n",
       "  <tbody>\n",
       "    <tr>\n",
       "      <th>PID</th>\n",
       "      <td>1.000000</td>\n",
       "      <td>0.033321</td>\n",
       "      <td>0.117828</td>\n",
       "      <td>0.157367</td>\n",
       "      <td>0.280954</td>\n",
       "      <td>-0.209688</td>\n",
       "      <td>-0.086958</td>\n",
       "      <td>-0.112254</td>\n",
       "      <td>-0.047409</td>\n",
       "      <td>-0.068412</td>\n",
       "      <td>...</td>\n",
       "      <td>-0.068212</td>\n",
       "      <td>-0.089072</td>\n",
       "      <td>-0.284161</td>\n",
       "      <td>-0.226571</td>\n",
       "      <td>-0.196249</td>\n",
       "      <td>-0.030366</td>\n",
       "      <td>-0.072043</td>\n",
       "      <td>-0.220939</td>\n",
       "      <td>-0.235921</td>\n",
       "      <td>0.137142</td>\n",
       "    </tr>\n",
       "    <tr>\n",
       "      <th>LotArea</th>\n",
       "      <td>0.033321</td>\n",
       "      <td>1.000000</td>\n",
       "      <td>-0.245026</td>\n",
       "      <td>0.354803</td>\n",
       "      <td>-0.025606</td>\n",
       "      <td>0.108173</td>\n",
       "      <td>0.035284</td>\n",
       "      <td>0.141155</td>\n",
       "      <td>0.052453</td>\n",
       "      <td>0.002976</td>\n",
       "      <td>...</td>\n",
       "      <td>0.217184</td>\n",
       "      <td>0.261200</td>\n",
       "      <td>0.194103</td>\n",
       "      <td>0.176603</td>\n",
       "      <td>0.203278</td>\n",
       "      <td>0.117744</td>\n",
       "      <td>0.090270</td>\n",
       "      <td>0.290162</td>\n",
       "      <td>0.080854</td>\n",
       "      <td>-0.033855</td>\n",
       "    </tr>\n",
       "    <tr>\n",
       "      <th>LotShape</th>\n",
       "      <td>0.117828</td>\n",
       "      <td>-0.245026</td>\n",
       "      <td>1.000000</td>\n",
       "      <td>-0.063758</td>\n",
       "      <td>0.277061</td>\n",
       "      <td>-0.091866</td>\n",
       "      <td>-0.078355</td>\n",
       "      <td>-0.151263</td>\n",
       "      <td>-0.004748</td>\n",
       "      <td>-0.120582</td>\n",
       "      <td>...</td>\n",
       "      <td>-0.135676</td>\n",
       "      <td>-0.187162</td>\n",
       "      <td>-0.246136</td>\n",
       "      <td>-0.250359</td>\n",
       "      <td>-0.219441</td>\n",
       "      <td>-0.167002</td>\n",
       "      <td>-0.096851</td>\n",
       "      <td>-0.322661</td>\n",
       "      <td>-0.256937</td>\n",
       "      <td>0.099448</td>\n",
       "    </tr>\n",
       "    <tr>\n",
       "      <th>BldgTp</th>\n",
       "      <td>0.157367</td>\n",
       "      <td>0.354803</td>\n",
       "      <td>-0.063758</td>\n",
       "      <td>1.000000</td>\n",
       "      <td>0.243153</td>\n",
       "      <td>-0.070431</td>\n",
       "      <td>-0.081584</td>\n",
       "      <td>-0.035602</td>\n",
       "      <td>0.062998</td>\n",
       "      <td>-0.072598</td>\n",
       "      <td>...</td>\n",
       "      <td>0.275416</td>\n",
       "      <td>0.035758</td>\n",
       "      <td>-0.034654</td>\n",
       "      <td>-0.023170</td>\n",
       "      <td>0.046293</td>\n",
       "      <td>0.007968</td>\n",
       "      <td>-0.002307</td>\n",
       "      <td>0.035231</td>\n",
       "      <td>-0.142992</td>\n",
       "      <td>0.143696</td>\n",
       "    </tr>\n",
       "    <tr>\n",
       "      <th>AgeRemodelYears</th>\n",
       "      <td>0.280954</td>\n",
       "      <td>-0.025606</td>\n",
       "      <td>0.277061</td>\n",
       "      <td>0.243153</td>\n",
       "      <td>1.000000</td>\n",
       "      <td>-0.246364</td>\n",
       "      <td>-0.060852</td>\n",
       "      <td>-0.197930</td>\n",
       "      <td>-0.154819</td>\n",
       "      <td>-0.522912</td>\n",
       "      <td>...</td>\n",
       "      <td>-0.171197</td>\n",
       "      <td>-0.135878</td>\n",
       "      <td>-0.481546</td>\n",
       "      <td>-0.547475</td>\n",
       "      <td>-0.477487</td>\n",
       "      <td>-0.240186</td>\n",
       "      <td>-0.247071</td>\n",
       "      <td>-0.626278</td>\n",
       "      <td>-0.620282</td>\n",
       "      <td>0.260073</td>\n",
       "    </tr>\n",
       "    <tr>\n",
       "      <th>VeneerExterior</th>\n",
       "      <td>-0.209688</td>\n",
       "      <td>0.108173</td>\n",
       "      <td>-0.091866</td>\n",
       "      <td>-0.070431</td>\n",
       "      <td>-0.246364</td>\n",
       "      <td>1.000000</td>\n",
       "      <td>0.114318</td>\n",
       "      <td>0.220944</td>\n",
       "      <td>0.044521</td>\n",
       "      <td>0.133432</td>\n",
       "      <td>...</td>\n",
       "      <td>0.214808</td>\n",
       "      <td>0.229848</td>\n",
       "      <td>0.228365</td>\n",
       "      <td>0.315848</td>\n",
       "      <td>0.307945</td>\n",
       "      <td>0.120585</td>\n",
       "      <td>0.102535</td>\n",
       "      <td>0.415283</td>\n",
       "      <td>0.333396</td>\n",
       "      <td>-0.135116</td>\n",
       "    </tr>\n",
       "    <tr>\n",
       "      <th>BsmtFinTp</th>\n",
       "      <td>-0.086958</td>\n",
       "      <td>0.035284</td>\n",
       "      <td>-0.078355</td>\n",
       "      <td>-0.081584</td>\n",
       "      <td>-0.060852</td>\n",
       "      <td>0.114318</td>\n",
       "      <td>1.000000</td>\n",
       "      <td>0.680872</td>\n",
       "      <td>-0.596296</td>\n",
       "      <td>-0.086697</td>\n",
       "      <td>...</td>\n",
       "      <td>-0.134812</td>\n",
       "      <td>0.119763</td>\n",
       "      <td>0.204253</td>\n",
       "      <td>0.036914</td>\n",
       "      <td>0.077142</td>\n",
       "      <td>0.096963</td>\n",
       "      <td>-0.018852</td>\n",
       "      <td>0.116483</td>\n",
       "      <td>-0.012968</td>\n",
       "      <td>0.028086</td>\n",
       "    </tr>\n",
       "    <tr>\n",
       "      <th>BsmtFinSqft</th>\n",
       "      <td>-0.112254</td>\n",
       "      <td>0.141155</td>\n",
       "      <td>-0.151263</td>\n",
       "      <td>-0.035602</td>\n",
       "      <td>-0.197930</td>\n",
       "      <td>0.220944</td>\n",
       "      <td>0.680872</td>\n",
       "      <td>1.000000</td>\n",
       "      <td>-0.581040</td>\n",
       "      <td>0.027391</td>\n",
       "      <td>...</td>\n",
       "      <td>-0.021538</td>\n",
       "      <td>0.253205</td>\n",
       "      <td>0.299605</td>\n",
       "      <td>0.213129</td>\n",
       "      <td>0.256428</td>\n",
       "      <td>0.195898</td>\n",
       "      <td>0.071901</td>\n",
       "      <td>0.384289</td>\n",
       "      <td>0.170686</td>\n",
       "      <td>-0.046918</td>\n",
       "    </tr>\n",
       "    <tr>\n",
       "      <th>BsmtUnfinSqft</th>\n",
       "      <td>-0.047409</td>\n",
       "      <td>0.052453</td>\n",
       "      <td>-0.004748</td>\n",
       "      <td>0.062998</td>\n",
       "      <td>-0.154819</td>\n",
       "      <td>0.044521</td>\n",
       "      <td>-0.596296</td>\n",
       "      <td>-0.581040</td>\n",
       "      <td>1.000000</td>\n",
       "      <td>0.195086</td>\n",
       "      <td>...</td>\n",
       "      <td>0.228299</td>\n",
       "      <td>-0.002260</td>\n",
       "      <td>0.050486</td>\n",
       "      <td>0.181349</td>\n",
       "      <td>0.152591</td>\n",
       "      <td>-0.073316</td>\n",
       "      <td>0.107748</td>\n",
       "      <td>0.158441</td>\n",
       "      <td>0.265052</td>\n",
       "      <td>-0.152395</td>\n",
       "    </tr>\n",
       "    <tr>\n",
       "      <th>HeatingQC</th>\n",
       "      <td>-0.068412</td>\n",
       "      <td>0.002976</td>\n",
       "      <td>-0.120582</td>\n",
       "      <td>-0.072598</td>\n",
       "      <td>-0.522912</td>\n",
       "      <td>0.133432</td>\n",
       "      <td>-0.086697</td>\n",
       "      <td>0.027391</td>\n",
       "      <td>0.195086</td>\n",
       "      <td>1.000000</td>\n",
       "      <td>...</td>\n",
       "      <td>0.206045</td>\n",
       "      <td>0.083280</td>\n",
       "      <td>0.177562</td>\n",
       "      <td>0.328696</td>\n",
       "      <td>0.285335</td>\n",
       "      <td>0.095389</td>\n",
       "      <td>0.189586</td>\n",
       "      <td>0.438989</td>\n",
       "      <td>0.424262</td>\n",
       "      <td>-0.053227</td>\n",
       "    </tr>\n",
       "    <tr>\n",
       "      <th>FstFlrSqft</th>\n",
       "      <td>-0.153736</td>\n",
       "      <td>0.315105</td>\n",
       "      <td>-0.205155</td>\n",
       "      <td>0.105957</td>\n",
       "      <td>-0.302546</td>\n",
       "      <td>0.303536</td>\n",
       "      <td>0.153707</td>\n",
       "      <td>0.402694</td>\n",
       "      <td>0.289950</td>\n",
       "      <td>0.173391</td>\n",
       "      <td>...</td>\n",
       "      <td>0.311950</td>\n",
       "      <td>0.393509</td>\n",
       "      <td>0.431562</td>\n",
       "      <td>0.429535</td>\n",
       "      <td>0.462136</td>\n",
       "      <td>0.210884</td>\n",
       "      <td>0.176674</td>\n",
       "      <td>0.629534</td>\n",
       "      <td>0.441923</td>\n",
       "      <td>-0.154766</td>\n",
       "    </tr>\n",
       "    <tr>\n",
       "      <th>SecFlrSqft</th>\n",
       "      <td>0.007854</td>\n",
       "      <td>0.023072</td>\n",
       "      <td>-0.059149</td>\n",
       "      <td>0.047518</td>\n",
       "      <td>-0.089675</td>\n",
       "      <td>0.113385</td>\n",
       "      <td>-0.194873</td>\n",
       "      <td>-0.203622</td>\n",
       "      <td>-0.019750</td>\n",
       "      <td>0.173745</td>\n",
       "      <td>...</td>\n",
       "      <td>0.603976</td>\n",
       "      <td>0.151626</td>\n",
       "      <td>-0.074120</td>\n",
       "      <td>0.177825</td>\n",
       "      <td>0.117512</td>\n",
       "      <td>0.056845</td>\n",
       "      <td>0.197060</td>\n",
       "      <td>0.284066</td>\n",
       "      <td>0.259236</td>\n",
       "      <td>-0.015531</td>\n",
       "    </tr>\n",
       "    <tr>\n",
       "      <th>AbvGrndLiving</th>\n",
       "      <td>-0.107110</td>\n",
       "      <td>0.264917</td>\n",
       "      <td>-0.208801</td>\n",
       "      <td>0.128065</td>\n",
       "      <td>-0.303120</td>\n",
       "      <td>0.332229</td>\n",
       "      <td>-0.065909</td>\n",
       "      <td>0.118312</td>\n",
       "      <td>0.211021</td>\n",
       "      <td>0.288213</td>\n",
       "      <td>...</td>\n",
       "      <td>0.802214</td>\n",
       "      <td>0.442172</td>\n",
       "      <td>0.253668</td>\n",
       "      <td>0.489970</td>\n",
       "      <td>0.461594</td>\n",
       "      <td>0.213775</td>\n",
       "      <td>0.316335</td>\n",
       "      <td>0.741919</td>\n",
       "      <td>0.573400</td>\n",
       "      <td>-0.130955</td>\n",
       "    </tr>\n",
       "    <tr>\n",
       "      <th>FullBathBsmt</th>\n",
       "      <td>-0.058387</td>\n",
       "      <td>0.071594</td>\n",
       "      <td>-0.084806</td>\n",
       "      <td>-0.049387</td>\n",
       "      <td>-0.165939</td>\n",
       "      <td>0.102816</td>\n",
       "      <td>0.510811</td>\n",
       "      <td>0.615401</td>\n",
       "      <td>-0.442824</td>\n",
       "      <td>0.053106</td>\n",
       "      <td>...</td>\n",
       "      <td>-0.081789</td>\n",
       "      <td>0.139619</td>\n",
       "      <td>0.198634</td>\n",
       "      <td>0.126898</td>\n",
       "      <td>0.156326</td>\n",
       "      <td>0.154457</td>\n",
       "      <td>0.064231</td>\n",
       "      <td>0.247587</td>\n",
       "      <td>0.102600</td>\n",
       "      <td>-0.036379</td>\n",
       "    </tr>\n",
       "    <tr>\n",
       "      <th>HalfBathHouse</th>\n",
       "      <td>-0.167080</td>\n",
       "      <td>0.026421</td>\n",
       "      <td>-0.135828</td>\n",
       "      <td>-0.036449</td>\n",
       "      <td>-0.280955</td>\n",
       "      <td>0.185576</td>\n",
       "      <td>-0.067914</td>\n",
       "      <td>-0.054916</td>\n",
       "      <td>-0.049871</td>\n",
       "      <td>0.173408</td>\n",
       "      <td>...</td>\n",
       "      <td>0.377960</td>\n",
       "      <td>0.162178</td>\n",
       "      <td>0.117174</td>\n",
       "      <td>0.223940</td>\n",
       "      <td>0.159400</td>\n",
       "      <td>0.088405</td>\n",
       "      <td>0.190879</td>\n",
       "      <td>0.303561</td>\n",
       "      <td>0.270022</td>\n",
       "      <td>-0.101988</td>\n",
       "    </tr>\n",
       "    <tr>\n",
       "      <th>FullBathHouse</th>\n",
       "      <td>-0.185578</td>\n",
       "      <td>0.116713</td>\n",
       "      <td>-0.220793</td>\n",
       "      <td>-0.097823</td>\n",
       "      <td>-0.572372</td>\n",
       "      <td>0.237590</td>\n",
       "      <td>-0.080000</td>\n",
       "      <td>0.068709</td>\n",
       "      <td>0.254172</td>\n",
       "      <td>0.379653</td>\n",
       "      <td>...</td>\n",
       "      <td>0.477016</td>\n",
       "      <td>0.240618</td>\n",
       "      <td>0.336955</td>\n",
       "      <td>0.529648</td>\n",
       "      <td>0.441980</td>\n",
       "      <td>0.179778</td>\n",
       "      <td>0.268550</td>\n",
       "      <td>0.590486</td>\n",
       "      <td>0.578414</td>\n",
       "      <td>-0.247994</td>\n",
       "    </tr>\n",
       "    <tr>\n",
       "      <th>BdrmAbvGrnd</th>\n",
       "      <td>0.006184</td>\n",
       "      <td>0.185440</td>\n",
       "      <td>-0.042815</td>\n",
       "      <td>0.368024</td>\n",
       "      <td>0.039956</td>\n",
       "      <td>0.107721</td>\n",
       "      <td>-0.100230</td>\n",
       "      <td>-0.108579</td>\n",
       "      <td>0.130727</td>\n",
       "      <td>0.031181</td>\n",
       "      <td>...</td>\n",
       "      <td>0.680030</td>\n",
       "      <td>0.092314</td>\n",
       "      <td>0.010866</td>\n",
       "      <td>0.099996</td>\n",
       "      <td>0.087177</td>\n",
       "      <td>0.047128</td>\n",
       "      <td>0.108488</td>\n",
       "      <td>0.192239</td>\n",
       "      <td>0.089851</td>\n",
       "      <td>-0.001963</td>\n",
       "    </tr>\n",
       "    <tr>\n",
       "      <th>RmAbvGrnd</th>\n",
       "      <td>-0.068212</td>\n",
       "      <td>0.217184</td>\n",
       "      <td>-0.135676</td>\n",
       "      <td>0.275416</td>\n",
       "      <td>-0.171197</td>\n",
       "      <td>0.214808</td>\n",
       "      <td>-0.134812</td>\n",
       "      <td>-0.021538</td>\n",
       "      <td>0.228299</td>\n",
       "      <td>0.206045</td>\n",
       "      <td>...</td>\n",
       "      <td>1.000000</td>\n",
       "      <td>0.313321</td>\n",
       "      <td>0.153998</td>\n",
       "      <td>0.347685</td>\n",
       "      <td>0.311000</td>\n",
       "      <td>0.152862</td>\n",
       "      <td>0.219257</td>\n",
       "      <td>0.527042</td>\n",
       "      <td>0.391820</td>\n",
       "      <td>-0.077297</td>\n",
       "    </tr>\n",
       "    <tr>\n",
       "      <th>Fireplaces</th>\n",
       "      <td>-0.089072</td>\n",
       "      <td>0.261200</td>\n",
       "      <td>-0.187162</td>\n",
       "      <td>0.035758</td>\n",
       "      <td>-0.135878</td>\n",
       "      <td>0.229848</td>\n",
       "      <td>0.119763</td>\n",
       "      <td>0.253205</td>\n",
       "      <td>-0.002260</td>\n",
       "      <td>0.083280</td>\n",
       "      <td>...</td>\n",
       "      <td>0.313321</td>\n",
       "      <td>1.000000</td>\n",
       "      <td>0.292059</td>\n",
       "      <td>0.298027</td>\n",
       "      <td>0.261026</td>\n",
       "      <td>0.191108</td>\n",
       "      <td>0.141652</td>\n",
       "      <td>0.462909</td>\n",
       "      <td>0.347647</td>\n",
       "      <td>-0.064555</td>\n",
       "    </tr>\n",
       "    <tr>\n",
       "      <th>GarageTp</th>\n",
       "      <td>-0.284161</td>\n",
       "      <td>0.194103</td>\n",
       "      <td>-0.246136</td>\n",
       "      <td>-0.034654</td>\n",
       "      <td>-0.481546</td>\n",
       "      <td>0.228365</td>\n",
       "      <td>0.204253</td>\n",
       "      <td>0.299605</td>\n",
       "      <td>0.050486</td>\n",
       "      <td>0.177562</td>\n",
       "      <td>...</td>\n",
       "      <td>0.153998</td>\n",
       "      <td>0.292059</td>\n",
       "      <td>1.000000</td>\n",
       "      <td>0.440926</td>\n",
       "      <td>0.415059</td>\n",
       "      <td>0.231618</td>\n",
       "      <td>0.135299</td>\n",
       "      <td>0.459829</td>\n",
       "      <td>0.400395</td>\n",
       "      <td>-0.201731</td>\n",
       "    </tr>\n",
       "    <tr>\n",
       "      <th>GarageCars</th>\n",
       "      <td>-0.226571</td>\n",
       "      <td>0.176603</td>\n",
       "      <td>-0.250359</td>\n",
       "      <td>-0.023170</td>\n",
       "      <td>-0.547475</td>\n",
       "      <td>0.315848</td>\n",
       "      <td>0.036914</td>\n",
       "      <td>0.213129</td>\n",
       "      <td>0.181349</td>\n",
       "      <td>0.328696</td>\n",
       "      <td>...</td>\n",
       "      <td>0.347685</td>\n",
       "      <td>0.298027</td>\n",
       "      <td>0.440926</td>\n",
       "      <td>1.000000</td>\n",
       "      <td>0.882917</td>\n",
       "      <td>0.209642</td>\n",
       "      <td>0.202938</td>\n",
       "      <td>0.669653</td>\n",
       "      <td>0.592664</td>\n",
       "      <td>-0.221783</td>\n",
       "    </tr>\n",
       "    <tr>\n",
       "      <th>GarageArea</th>\n",
       "      <td>-0.196249</td>\n",
       "      <td>0.203278</td>\n",
       "      <td>-0.219441</td>\n",
       "      <td>0.046293</td>\n",
       "      <td>-0.477487</td>\n",
       "      <td>0.307945</td>\n",
       "      <td>0.077142</td>\n",
       "      <td>0.256428</td>\n",
       "      <td>0.152591</td>\n",
       "      <td>0.285335</td>\n",
       "      <td>...</td>\n",
       "      <td>0.311000</td>\n",
       "      <td>0.261026</td>\n",
       "      <td>0.415059</td>\n",
       "      <td>0.882917</td>\n",
       "      <td>1.000000</td>\n",
       "      <td>0.204467</td>\n",
       "      <td>0.209486</td>\n",
       "      <td>0.652042</td>\n",
       "      <td>0.535823</td>\n",
       "      <td>-0.192911</td>\n",
       "    </tr>\n",
       "    <tr>\n",
       "      <th>WdDckSqft</th>\n",
       "      <td>-0.030366</td>\n",
       "      <td>0.117744</td>\n",
       "      <td>-0.167002</td>\n",
       "      <td>0.007968</td>\n",
       "      <td>-0.240186</td>\n",
       "      <td>0.120585</td>\n",
       "      <td>0.096963</td>\n",
       "      <td>0.195898</td>\n",
       "      <td>-0.073316</td>\n",
       "      <td>0.095389</td>\n",
       "      <td>...</td>\n",
       "      <td>0.152862</td>\n",
       "      <td>0.191108</td>\n",
       "      <td>0.231618</td>\n",
       "      <td>0.209642</td>\n",
       "      <td>0.204467</td>\n",
       "      <td>1.000000</td>\n",
       "      <td>0.018564</td>\n",
       "      <td>0.293314</td>\n",
       "      <td>0.206190</td>\n",
       "      <td>-0.001546</td>\n",
       "    </tr>\n",
       "    <tr>\n",
       "      <th>OpenPrchSqft</th>\n",
       "      <td>-0.072043</td>\n",
       "      <td>0.090270</td>\n",
       "      <td>-0.096851</td>\n",
       "      <td>-0.002307</td>\n",
       "      <td>-0.247071</td>\n",
       "      <td>0.102535</td>\n",
       "      <td>-0.018852</td>\n",
       "      <td>0.071901</td>\n",
       "      <td>0.107748</td>\n",
       "      <td>0.189586</td>\n",
       "      <td>...</td>\n",
       "      <td>0.219257</td>\n",
       "      <td>0.141652</td>\n",
       "      <td>0.135299</td>\n",
       "      <td>0.202938</td>\n",
       "      <td>0.209486</td>\n",
       "      <td>0.018564</td>\n",
       "      <td>1.000000</td>\n",
       "      <td>0.334222</td>\n",
       "      <td>0.283925</td>\n",
       "      <td>-0.090611</td>\n",
       "    </tr>\n",
       "    <tr>\n",
       "      <th>SalePrice</th>\n",
       "      <td>-0.220939</td>\n",
       "      <td>0.290162</td>\n",
       "      <td>-0.322661</td>\n",
       "      <td>0.035231</td>\n",
       "      <td>-0.626278</td>\n",
       "      <td>0.415283</td>\n",
       "      <td>0.116483</td>\n",
       "      <td>0.384289</td>\n",
       "      <td>0.158441</td>\n",
       "      <td>0.438989</td>\n",
       "      <td>...</td>\n",
       "      <td>0.527042</td>\n",
       "      <td>0.462909</td>\n",
       "      <td>0.459829</td>\n",
       "      <td>0.669653</td>\n",
       "      <td>0.652042</td>\n",
       "      <td>0.293314</td>\n",
       "      <td>0.334222</td>\n",
       "      <td>1.000000</td>\n",
       "      <td>0.780217</td>\n",
       "      <td>-0.136934</td>\n",
       "    </tr>\n",
       "    <tr>\n",
       "      <th>OverallQuality</th>\n",
       "      <td>-0.235921</td>\n",
       "      <td>0.080854</td>\n",
       "      <td>-0.256937</td>\n",
       "      <td>-0.142992</td>\n",
       "      <td>-0.620282</td>\n",
       "      <td>0.333396</td>\n",
       "      <td>-0.012968</td>\n",
       "      <td>0.170686</td>\n",
       "      <td>0.265052</td>\n",
       "      <td>0.424262</td>\n",
       "      <td>...</td>\n",
       "      <td>0.391820</td>\n",
       "      <td>0.347647</td>\n",
       "      <td>0.400395</td>\n",
       "      <td>0.592664</td>\n",
       "      <td>0.535823</td>\n",
       "      <td>0.206190</td>\n",
       "      <td>0.283925</td>\n",
       "      <td>0.780217</td>\n",
       "      <td>1.000000</td>\n",
       "      <td>-0.150922</td>\n",
       "    </tr>\n",
       "    <tr>\n",
       "      <th>OverallCondition</th>\n",
       "      <td>0.137142</td>\n",
       "      <td>-0.033855</td>\n",
       "      <td>0.099448</td>\n",
       "      <td>0.143696</td>\n",
       "      <td>0.260073</td>\n",
       "      <td>-0.135116</td>\n",
       "      <td>0.028086</td>\n",
       "      <td>-0.046918</td>\n",
       "      <td>-0.152395</td>\n",
       "      <td>-0.053227</td>\n",
       "      <td>...</td>\n",
       "      <td>-0.077297</td>\n",
       "      <td>-0.064555</td>\n",
       "      <td>-0.201731</td>\n",
       "      <td>-0.221783</td>\n",
       "      <td>-0.192911</td>\n",
       "      <td>-0.001546</td>\n",
       "      <td>-0.090611</td>\n",
       "      <td>-0.136934</td>\n",
       "      <td>-0.150922</td>\n",
       "      <td>1.000000</td>\n",
       "    </tr>\n",
       "  </tbody>\n",
       "</table>\n",
       "<p>27 rows × 27 columns</p>\n",
       "</div>"
      ],
      "text/plain": [
       "                       PID   LotArea  LotShape    BldgTp  AgeRemodelYears  \\\n",
       "PID               1.000000  0.033321  0.117828  0.157367         0.280954   \n",
       "LotArea           0.033321  1.000000 -0.245026  0.354803        -0.025606   \n",
       "LotShape          0.117828 -0.245026  1.000000 -0.063758         0.277061   \n",
       "BldgTp            0.157367  0.354803 -0.063758  1.000000         0.243153   \n",
       "AgeRemodelYears   0.280954 -0.025606  0.277061  0.243153         1.000000   \n",
       "VeneerExterior   -0.209688  0.108173 -0.091866 -0.070431        -0.246364   \n",
       "BsmtFinTp        -0.086958  0.035284 -0.078355 -0.081584        -0.060852   \n",
       "BsmtFinSqft      -0.112254  0.141155 -0.151263 -0.035602        -0.197930   \n",
       "BsmtUnfinSqft    -0.047409  0.052453 -0.004748  0.062998        -0.154819   \n",
       "HeatingQC        -0.068412  0.002976 -0.120582 -0.072598        -0.522912   \n",
       "FstFlrSqft       -0.153736  0.315105 -0.205155  0.105957        -0.302546   \n",
       "SecFlrSqft        0.007854  0.023072 -0.059149  0.047518        -0.089675   \n",
       "AbvGrndLiving    -0.107110  0.264917 -0.208801  0.128065        -0.303120   \n",
       "FullBathBsmt     -0.058387  0.071594 -0.084806 -0.049387        -0.165939   \n",
       "HalfBathHouse    -0.167080  0.026421 -0.135828 -0.036449        -0.280955   \n",
       "FullBathHouse    -0.185578  0.116713 -0.220793 -0.097823        -0.572372   \n",
       "BdrmAbvGrnd       0.006184  0.185440 -0.042815  0.368024         0.039956   \n",
       "RmAbvGrnd        -0.068212  0.217184 -0.135676  0.275416        -0.171197   \n",
       "Fireplaces       -0.089072  0.261200 -0.187162  0.035758        -0.135878   \n",
       "GarageTp         -0.284161  0.194103 -0.246136 -0.034654        -0.481546   \n",
       "GarageCars       -0.226571  0.176603 -0.250359 -0.023170        -0.547475   \n",
       "GarageArea       -0.196249  0.203278 -0.219441  0.046293        -0.477487   \n",
       "WdDckSqft        -0.030366  0.117744 -0.167002  0.007968        -0.240186   \n",
       "OpenPrchSqft     -0.072043  0.090270 -0.096851 -0.002307        -0.247071   \n",
       "SalePrice        -0.220939  0.290162 -0.322661  0.035231        -0.626278   \n",
       "OverallQuality   -0.235921  0.080854 -0.256937 -0.142992        -0.620282   \n",
       "OverallCondition  0.137142 -0.033855  0.099448  0.143696         0.260073   \n",
       "\n",
       "                  VeneerExterior  BsmtFinTp  BsmtFinSqft  BsmtUnfinSqft  \\\n",
       "PID                    -0.209688  -0.086958    -0.112254      -0.047409   \n",
       "LotArea                 0.108173   0.035284     0.141155       0.052453   \n",
       "LotShape               -0.091866  -0.078355    -0.151263      -0.004748   \n",
       "BldgTp                 -0.070431  -0.081584    -0.035602       0.062998   \n",
       "AgeRemodelYears        -0.246364  -0.060852    -0.197930      -0.154819   \n",
       "VeneerExterior          1.000000   0.114318     0.220944       0.044521   \n",
       "BsmtFinTp               0.114318   1.000000     0.680872      -0.596296   \n",
       "BsmtFinSqft             0.220944   0.680872     1.000000      -0.581040   \n",
       "BsmtUnfinSqft           0.044521  -0.596296    -0.581040       1.000000   \n",
       "HeatingQC               0.133432  -0.086697     0.027391       0.195086   \n",
       "FstFlrSqft              0.303536   0.153707     0.402694       0.289950   \n",
       "SecFlrSqft              0.113385  -0.194873    -0.203622      -0.019750   \n",
       "AbvGrndLiving           0.332229  -0.065909     0.118312       0.211021   \n",
       "FullBathBsmt            0.102816   0.510811     0.615401      -0.442824   \n",
       "HalfBathHouse           0.185576  -0.067914    -0.054916      -0.049871   \n",
       "FullBathHouse           0.237590  -0.080000     0.068709       0.254172   \n",
       "BdrmAbvGrnd             0.107721  -0.100230    -0.108579       0.130727   \n",
       "RmAbvGrnd               0.214808  -0.134812    -0.021538       0.228299   \n",
       "Fireplaces              0.229848   0.119763     0.253205      -0.002260   \n",
       "GarageTp                0.228365   0.204253     0.299605       0.050486   \n",
       "GarageCars              0.315848   0.036914     0.213129       0.181349   \n",
       "GarageArea              0.307945   0.077142     0.256428       0.152591   \n",
       "WdDckSqft               0.120585   0.096963     0.195898      -0.073316   \n",
       "OpenPrchSqft            0.102535  -0.018852     0.071901       0.107748   \n",
       "SalePrice               0.415283   0.116483     0.384289       0.158441   \n",
       "OverallQuality          0.333396  -0.012968     0.170686       0.265052   \n",
       "OverallCondition       -0.135116   0.028086    -0.046918      -0.152395   \n",
       "\n",
       "                  HeatingQC  ...  RmAbvGrnd  Fireplaces  GarageTp  GarageCars  \\\n",
       "PID               -0.068412  ...  -0.068212   -0.089072 -0.284161   -0.226571   \n",
       "LotArea            0.002976  ...   0.217184    0.261200  0.194103    0.176603   \n",
       "LotShape          -0.120582  ...  -0.135676   -0.187162 -0.246136   -0.250359   \n",
       "BldgTp            -0.072598  ...   0.275416    0.035758 -0.034654   -0.023170   \n",
       "AgeRemodelYears   -0.522912  ...  -0.171197   -0.135878 -0.481546   -0.547475   \n",
       "VeneerExterior     0.133432  ...   0.214808    0.229848  0.228365    0.315848   \n",
       "BsmtFinTp         -0.086697  ...  -0.134812    0.119763  0.204253    0.036914   \n",
       "BsmtFinSqft        0.027391  ...  -0.021538    0.253205  0.299605    0.213129   \n",
       "BsmtUnfinSqft      0.195086  ...   0.228299   -0.002260  0.050486    0.181349   \n",
       "HeatingQC          1.000000  ...   0.206045    0.083280  0.177562    0.328696   \n",
       "FstFlrSqft         0.173391  ...   0.311950    0.393509  0.431562    0.429535   \n",
       "SecFlrSqft         0.173745  ...   0.603976    0.151626 -0.074120    0.177825   \n",
       "AbvGrndLiving      0.288213  ...   0.802214    0.442172  0.253668    0.489970   \n",
       "FullBathBsmt       0.053106  ...  -0.081789    0.139619  0.198634    0.126898   \n",
       "HalfBathHouse      0.173408  ...   0.377960    0.162178  0.117174    0.223940   \n",
       "FullBathHouse      0.379653  ...   0.477016    0.240618  0.336955    0.529648   \n",
       "BdrmAbvGrnd        0.031181  ...   0.680030    0.092314  0.010866    0.099996   \n",
       "RmAbvGrnd          0.206045  ...   1.000000    0.313321  0.153998    0.347685   \n",
       "Fireplaces         0.083280  ...   0.313321    1.000000  0.292059    0.298027   \n",
       "GarageTp           0.177562  ...   0.153998    0.292059  1.000000    0.440926   \n",
       "GarageCars         0.328696  ...   0.347685    0.298027  0.440926    1.000000   \n",
       "GarageArea         0.285335  ...   0.311000    0.261026  0.415059    0.882917   \n",
       "WdDckSqft          0.095389  ...   0.152862    0.191108  0.231618    0.209642   \n",
       "OpenPrchSqft       0.189586  ...   0.219257    0.141652  0.135299    0.202938   \n",
       "SalePrice          0.438989  ...   0.527042    0.462909  0.459829    0.669653   \n",
       "OverallQuality     0.424262  ...   0.391820    0.347647  0.400395    0.592664   \n",
       "OverallCondition  -0.053227  ...  -0.077297   -0.064555 -0.201731   -0.221783   \n",
       "\n",
       "                  GarageArea  WdDckSqft  OpenPrchSqft  SalePrice  \\\n",
       "PID                -0.196249  -0.030366     -0.072043  -0.220939   \n",
       "LotArea             0.203278   0.117744      0.090270   0.290162   \n",
       "LotShape           -0.219441  -0.167002     -0.096851  -0.322661   \n",
       "BldgTp              0.046293   0.007968     -0.002307   0.035231   \n",
       "AgeRemodelYears    -0.477487  -0.240186     -0.247071  -0.626278   \n",
       "VeneerExterior      0.307945   0.120585      0.102535   0.415283   \n",
       "BsmtFinTp           0.077142   0.096963     -0.018852   0.116483   \n",
       "BsmtFinSqft         0.256428   0.195898      0.071901   0.384289   \n",
       "BsmtUnfinSqft       0.152591  -0.073316      0.107748   0.158441   \n",
       "HeatingQC           0.285335   0.095389      0.189586   0.438989   \n",
       "FstFlrSqft          0.462136   0.210884      0.176674   0.629534   \n",
       "SecFlrSqft          0.117512   0.056845      0.197060   0.284066   \n",
       "AbvGrndLiving       0.461594   0.213775      0.316335   0.741919   \n",
       "FullBathBsmt        0.156326   0.154457      0.064231   0.247587   \n",
       "HalfBathHouse       0.159400   0.088405      0.190879   0.303561   \n",
       "FullBathHouse       0.441980   0.179778      0.268550   0.590486   \n",
       "BdrmAbvGrnd         0.087177   0.047128      0.108488   0.192239   \n",
       "RmAbvGrnd           0.311000   0.152862      0.219257   0.527042   \n",
       "Fireplaces          0.261026   0.191108      0.141652   0.462909   \n",
       "GarageTp            0.415059   0.231618      0.135299   0.459829   \n",
       "GarageCars          0.882917   0.209642      0.202938   0.669653   \n",
       "GarageArea          1.000000   0.204467      0.209486   0.652042   \n",
       "WdDckSqft           0.204467   1.000000      0.018564   0.293314   \n",
       "OpenPrchSqft        0.209486   0.018564      1.000000   0.334222   \n",
       "SalePrice           0.652042   0.293314      0.334222   1.000000   \n",
       "OverallQuality      0.535823   0.206190      0.283925   0.780217   \n",
       "OverallCondition   -0.192911  -0.001546     -0.090611  -0.136934   \n",
       "\n",
       "                  OverallQuality  OverallCondition  \n",
       "PID                    -0.235921          0.137142  \n",
       "LotArea                 0.080854         -0.033855  \n",
       "LotShape               -0.256937          0.099448  \n",
       "BldgTp                 -0.142992          0.143696  \n",
       "AgeRemodelYears        -0.620282          0.260073  \n",
       "VeneerExterior          0.333396         -0.135116  \n",
       "BsmtFinTp              -0.012968          0.028086  \n",
       "BsmtFinSqft             0.170686         -0.046918  \n",
       "BsmtUnfinSqft           0.265052         -0.152395  \n",
       "HeatingQC               0.424262         -0.053227  \n",
       "FstFlrSqft              0.441923         -0.154766  \n",
       "SecFlrSqft              0.259236         -0.015531  \n",
       "AbvGrndLiving           0.573400         -0.130955  \n",
       "FullBathBsmt            0.102600         -0.036379  \n",
       "HalfBathHouse           0.270022         -0.101988  \n",
       "FullBathHouse           0.578414         -0.247994  \n",
       "BdrmAbvGrnd             0.089851         -0.001963  \n",
       "RmAbvGrnd               0.391820         -0.077297  \n",
       "Fireplaces              0.347647         -0.064555  \n",
       "GarageTp                0.400395         -0.201731  \n",
       "GarageCars              0.592664         -0.221783  \n",
       "GarageArea              0.535823         -0.192911  \n",
       "WdDckSqft               0.206190         -0.001546  \n",
       "OpenPrchSqft            0.283925         -0.090611  \n",
       "SalePrice               0.780217         -0.136934  \n",
       "OverallQuality          1.000000         -0.150922  \n",
       "OverallCondition       -0.150922          1.000000  \n",
       "\n",
       "[27 rows x 27 columns]"
      ]
     },
     "execution_count": 1149,
     "metadata": {},
     "output_type": "execute_result"
    }
   ],
   "source": [
    "TrainingSet.corr()"
   ]
  },
  {
   "cell_type": "code",
   "execution_count": 1150,
   "metadata": {},
   "outputs": [
    {
     "data": {
      "text/plain": [
       "<AxesSubplot:>"
      ]
     },
     "execution_count": 1150,
     "metadata": {},
     "output_type": "execute_result"
    },
    {
     "data": {
      "image/png": "[encoded data removed]",
      "text/plain": [
       "<Figure size 576x576 with 2 Axes>"
      ]
     },
     "metadata": {},
     "output_type": "display_data"
    }
   ],
   "source": [
    "#Heat map of all interval variables for 'SalePrice'\n",
    "train_interval_corr = TrainingSet[['SalePrice', 'LotArea','AgeRemodelYears','VeneerExterior','BsmtFinSqft','BsmtUnfinSqft','FstFlrSqft','SecFlrSqft','FullBathHouse','BdrmAbvGrnd','RmAbvGrnd','Fireplaces','GarageCars','GarageArea','WdDckSqft','OpenPrchSqft']].corr()\n",
    "\n",
    "\n",
    "\n",
    "mask = np.triu(np.ones_like(train_interval_corr,bool))\n",
    "f, ax = plt.subplots(1,1, figsize=(8,8))\n",
    "cmap = sns.diverging_palette(220, 10, as_cmap=True)\n",
    "\n",
    "sns.heatmap(train_interval_corr, mask=mask, cmap=cmap, vmax=1, center=0.1, square=True, ax=ax,\n",
    "           linewidths=.5)"
   ]
  },
  {
   "cell_type": "code",
   "execution_count": 1151,
   "metadata": {},
   "outputs": [
    {
     "data": {
      "text/plain": [
       "<AxesSubplot:>"
      ]
     },
     "execution_count": 1151,
     "metadata": {},
     "output_type": "execute_result"
    },
    {
     "data": {
      "image/png": "[encoded data removed]",
      "text/plain": [
       "<Figure size 576x576 with 2 Axes>"
      ]
     },
     "metadata": {},
     "output_type": "display_data"
    }
   ],
   "source": [
    "#Heat map of all nominal variables for 'SalePrice'\n",
    "train_interval_corr = TrainingSet[['SalePrice', 'LotShape', 'BsmtFinTp','HeatingQC','GarageTp','OverallQuality','OverallCondition']].corr()\n",
    "\n",
    "\n",
    "\n",
    "mask = np.triu(np.ones_like(train_interval_corr,bool))\n",
    "f, ax = plt.subplots(1,1, figsize=(8,8))\n",
    "cmap = sns.diverging_palette(220, 10, as_cmap=True)\n",
    "\n",
    "sns.heatmap(train_interval_corr, mask=mask, cmap=cmap, vmax=1, center=0.1, square=True, ax=ax,\n",
    "           linewidths=.5)"
   ]
  },
  {
   "cell_type": "markdown",
   "metadata": {},
   "source": [
    "1. Of the interval input variables, likely useful ones include:\n",
    "    1. FstFirSqft\n",
    "    1. FullBathHouse\n",
    "    1. RmAbvGrnd\n",
    "    1. Fireplaces\n",
    "    1. GarageCars\n",
    "1. Of the binary input variables:\n",
    "    1. HeatingQC\n",
    "    1. GarageTp\n",
    "    1. OverallQuality"
   ]
  },
  {
   "cell_type": "markdown",
   "metadata": {},
   "source": [
    "**NOTE**  \n",
    "\n",
    "OverallQuality by far is the most informative attribute for predicting SalesPrice\n",
    "\n",
    "Although  GarageCars and GarageTp seem similar, they do not have a high corelation so we keep these attributes in the model.\n",
    "GarageAreas is correlated to GarageCars though."
   ]
  },
  {
   "cell_type": "markdown",
   "metadata": {},
   "source": [
    "## Step 3.1: Preprocess the Train Dataset\n",
    "Continue to finish preprocessing the Train data"
   ]
  },
  {
   "cell_type": "code",
   "execution_count": 1152,
   "metadata": {},
   "outputs": [
    {
     "data": {
      "text/html": [
       "<div>\n",
       "<style scoped>\n",
       "    .dataframe tbody tr th:only-of-type {\n",
       "        vertical-align: middle;\n",
       "    }\n",
       "\n",
       "    .dataframe tbody tr th {\n",
       "        vertical-align: top;\n",
       "    }\n",
       "\n",
       "    .dataframe thead th {\n",
       "        text-align: right;\n",
       "    }\n",
       "</style>\n",
       "<table border=\"1\" class=\"dataframe\">\n",
       "  <thead>\n",
       "    <tr style=\"text-align: right;\">\n",
       "      <th></th>\n",
       "      <th>BldgTp</th>\n",
       "      <th>LotShape</th>\n",
       "      <th>BsmtFinTp</th>\n",
       "      <th>FullBathBsmt</th>\n",
       "      <th>HalfBathHouse</th>\n",
       "    </tr>\n",
       "  </thead>\n",
       "  <tbody>\n",
       "    <tr>\n",
       "      <th>0</th>\n",
       "      <td>1</td>\n",
       "      <td>0</td>\n",
       "      <td>1</td>\n",
       "      <td>1</td>\n",
       "      <td>0</td>\n",
       "    </tr>\n",
       "    <tr>\n",
       "      <th>1</th>\n",
       "      <td>1</td>\n",
       "      <td>1</td>\n",
       "      <td>1</td>\n",
       "      <td>0</td>\n",
       "      <td>0</td>\n",
       "    </tr>\n",
       "    <tr>\n",
       "      <th>2</th>\n",
       "      <td>1</td>\n",
       "      <td>0</td>\n",
       "      <td>1</td>\n",
       "      <td>0</td>\n",
       "      <td>1</td>\n",
       "    </tr>\n",
       "    <tr>\n",
       "      <th>3</th>\n",
       "      <td>1</td>\n",
       "      <td>1</td>\n",
       "      <td>1</td>\n",
       "      <td>1</td>\n",
       "      <td>1</td>\n",
       "    </tr>\n",
       "    <tr>\n",
       "      <th>4</th>\n",
       "      <td>1</td>\n",
       "      <td>0</td>\n",
       "      <td>1</td>\n",
       "      <td>0</td>\n",
       "      <td>1</td>\n",
       "    </tr>\n",
       "  </tbody>\n",
       "</table>\n",
       "</div>"
      ],
      "text/plain": [
       "   BldgTp  LotShape  BsmtFinTp  FullBathBsmt  HalfBathHouse\n",
       "0       1         0          1             1              0\n",
       "1       1         1          1             0              0\n",
       "2       1         0          1             0              1\n",
       "3       1         1          1             1              1\n",
       "4       1         0          1             0              1"
      ]
     },
     "metadata": {},
     "output_type": "display_data"
    },
    {
     "data": {
      "text/html": [
       "<div>\n",
       "<style scoped>\n",
       "    .dataframe tbody tr th:only-of-type {\n",
       "        vertical-align: middle;\n",
       "    }\n",
       "\n",
       "    .dataframe tbody tr th {\n",
       "        vertical-align: top;\n",
       "    }\n",
       "\n",
       "    .dataframe thead th {\n",
       "        text-align: right;\n",
       "    }\n",
       "</style>\n",
       "<table border=\"1\" class=\"dataframe\">\n",
       "  <thead>\n",
       "    <tr style=\"text-align: right;\">\n",
       "      <th></th>\n",
       "      <th>BldgTp</th>\n",
       "      <th>LotShape</th>\n",
       "      <th>BsmtFinTp</th>\n",
       "      <th>FullBathBsmt</th>\n",
       "      <th>HalfBathHouse</th>\n",
       "    </tr>\n",
       "  </thead>\n",
       "  <tbody>\n",
       "    <tr>\n",
       "      <th>2365</th>\n",
       "      <td>1</td>\n",
       "      <td>1</td>\n",
       "      <td>1</td>\n",
       "      <td>1</td>\n",
       "      <td>0</td>\n",
       "    </tr>\n",
       "    <tr>\n",
       "      <th>2366</th>\n",
       "      <td>1</td>\n",
       "      <td>0</td>\n",
       "      <td>1</td>\n",
       "      <td>1</td>\n",
       "      <td>0</td>\n",
       "    </tr>\n",
       "    <tr>\n",
       "      <th>2367</th>\n",
       "      <td>1</td>\n",
       "      <td>0</td>\n",
       "      <td>1</td>\n",
       "      <td>1</td>\n",
       "      <td>0</td>\n",
       "    </tr>\n",
       "    <tr>\n",
       "      <th>2368</th>\n",
       "      <td>1</td>\n",
       "      <td>1</td>\n",
       "      <td>1</td>\n",
       "      <td>0</td>\n",
       "      <td>0</td>\n",
       "    </tr>\n",
       "    <tr>\n",
       "      <th>2369</th>\n",
       "      <td>1</td>\n",
       "      <td>1</td>\n",
       "      <td>1</td>\n",
       "      <td>1</td>\n",
       "      <td>0</td>\n",
       "    </tr>\n",
       "  </tbody>\n",
       "</table>\n",
       "</div>"
      ],
      "text/plain": [
       "      BldgTp  LotShape  BsmtFinTp  FullBathBsmt  HalfBathHouse\n",
       "2365       1         1          1             1              0\n",
       "2366       1         0          1             1              0\n",
       "2367       1         0          1             1              0\n",
       "2368       1         1          1             0              0\n",
       "2369       1         1          1             1              0"
      ]
     },
     "metadata": {},
     "output_type": "display_data"
    }
   ],
   "source": [
    "## column labels of all binary and nominal variables - confirm there are 17 items\n",
    "oneHotCols = ['BldgTp', 'LotShape', 'BsmtFinTp', 'FullBathBsmt', 'HalfBathHouse']\n",
    "\n",
    "dfDummified = pd.get_dummies(TrainingSet[oneHotCols])\n",
    "display(dfDummified.head(), dfDummified.tail())"
   ]
  },
  {
   "cell_type": "code",
   "execution_count": 1153,
   "metadata": {},
   "outputs": [
    {
     "name": "stdout",
     "output_type": "stream",
     "text": [
      "Total number of input variables to preprocess: 26\n"
     ]
    }
   ],
   "source": [
    "print(f'Total number of input variables to preprocess: {TrainingSet.drop(columns=[\"SalePrice\"]).shape[1]}')"
   ]
  },
  {
   "cell_type": "code",
   "execution_count": 1154,
   "metadata": {},
   "outputs": [],
   "source": [
    "oneHotEncoder = preprocessing.OneHotEncoder()"
   ]
  },
  {
   "cell_type": "code",
   "execution_count": 1155,
   "metadata": {},
   "outputs": [
    {
     "name": "stdout",
     "output_type": "stream",
     "text": [
      "['BldgTp', 'LotShape', 'BsmtFinTp', 'FullBathBsmt', 'HalfBathHouse']\n",
      "\n",
      "After encoding, there are 10 columns encoded with labels as followws:\n",
      "\n",
      "[0, 1, 0, 1, 0, 1, 0, 1, 0, 1]\n"
     ]
    }
   ],
   "source": [
    "print(oneHotCols)\n",
    "oneHotEncoder.fit(TrainingSet[oneHotCols])\n",
    "\n",
    "# use np.concatenate() function to \"glue\" all arrays into just one array, then convert to list\n",
    "encodedLabels = np.concatenate(oneHotEncoder.categories_)\n",
    "print('\\nAfter encoding, there are {} columns encoded with labels as followws:\\n'.format(encodedLabels.shape[0]))\n",
    "print(list(encodedLabels))"
   ]
  },
  {
   "cell_type": "code",
   "execution_count": 1156,
   "metadata": {},
   "outputs": [],
   "source": [
    "# separate target and input dataframes\n",
    "Y = TrainingSet[['SalePrice']]\n",
    "X = TrainingSet.drop(columns='SalePrice')\n",
    "\n",
    "# preprae label lists: make sure all input variables are included: 30 in total verified\n",
    "binominalCols = ['BldgTp', 'LotShape', 'BsmtFinTp', 'FullBathBsmt', 'HalfBathHouse']\n",
    "intervalLogCols = ['LotArea', 'VeneerExterior', 'OpenPrchSqft']\n",
    "intervalCols = ['AgeRemodelYears' , 'BsmtFinSqft', 'BsmtUnfinSqft', 'FstFlrSqft', 'SecFlrSqft', 'AbvGrndLiving', \n",
    "                'FullBathHouse', 'BdrmAbvGrnd', 'RmAbvGrnd', 'Fireplaces', 'GarageCars', 'GarageArea', 'WdDckSqft']\n",
    "OrdinalCol1 = ['OverallQuality']\n",
    "OrdinalCol2 = ['OverallCondition']\n",
    "OrdinalCol3 = ['HeatingQC']\n",
    "OrdinalCol4 = ['GarageTp']"
   ]
  },
  {
   "cell_type": "code",
   "execution_count": 1157,
   "metadata": {},
   "outputs": [
    {
     "data": {
      "text/plain": [
       "((2370, 5), (2370, 3), (2370, 13), (2370, 1), (2370, 1), (2370, 1), (2370, 1))"
      ]
     },
     "execution_count": 1157,
     "metadata": {},
     "output_type": "execute_result"
    }
   ],
   "source": [
    "\n",
    "X_binominal = X[binominalCols].copy()\n",
    "X_intervalLog = X[intervalLogCols].copy()\n",
    "X_interval = X[intervalCols].copy()\n",
    "X_ordinal1 = X[OrdinalCol1].copy()\n",
    "X_ordinal2 = X[OrdinalCol2].copy()\n",
    "X_ordinal3 = X[OrdinalCol3].copy()\n",
    "X_ordinal4 = X[OrdinalCol4].copy()\n",
    "# sanity check\n",
    "X_binominal.shape, X_intervalLog.shape, X_interval.shape, X_ordinal1.shape, X_ordinal2.shape, X_ordinal3.shape, X_ordinal4.shape"
   ]
  },
  {
   "cell_type": "code",
   "execution_count": 1158,
   "metadata": {},
   "outputs": [],
   "source": [
    "# make Pipeline 1 for X_nominal\n",
    "## Pipeline 1: nominal variables only -> impute missing values -> One Hot Encoding (then clean labels)\n",
    "transformerbinominal = make_pipeline(SimpleImputer(strategy = 'most_frequent'), preprocessing.OneHotEncoder())"
   ]
  },
  {
   "cell_type": "code",
   "execution_count": 1159,
   "metadata": {},
   "outputs": [],
   "source": [
    "oneHotEncoder = preprocessing.OneHotEncoder()\n",
    "oneHotEncoder.fit(X_binominal)\n",
    "labelsPpl1= ['BldgTp Town', 'BldgTp Detached', 'LotShape NR', 'LotShape R',\n",
    "                                            'BsmtFinTp UF', 'BsmtFiinTp F','FullBathBsmt not', 'FullBathBsmt yes',\n",
    "                                            'HalfBathHouse not', 'HalfBathHouse yes']"
   ]
  },
  {
   "cell_type": "code",
   "execution_count": 1160,
   "metadata": {},
   "outputs": [
    {
     "data": {
      "text/html": [
       "<div>\n",
       "<style scoped>\n",
       "    .dataframe tbody tr th:only-of-type {\n",
       "        vertical-align: middle;\n",
       "    }\n",
       "\n",
       "    .dataframe tbody tr th {\n",
       "        vertical-align: top;\n",
       "    }\n",
       "\n",
       "    .dataframe thead th {\n",
       "        text-align: right;\n",
       "    }\n",
       "</style>\n",
       "<table border=\"1\" class=\"dataframe\">\n",
       "  <thead>\n",
       "    <tr style=\"text-align: right;\">\n",
       "      <th></th>\n",
       "      <th>BldgTp Town</th>\n",
       "      <th>BldgTp Detached</th>\n",
       "      <th>LotShape NR</th>\n",
       "      <th>LotShape R</th>\n",
       "      <th>BsmtFinTp UF</th>\n",
       "      <th>BsmtFiinTp F</th>\n",
       "      <th>FullBathBsmt not</th>\n",
       "      <th>FullBathBsmt yes</th>\n",
       "      <th>HalfBathHouse not</th>\n",
       "      <th>HalfBathHouse yes</th>\n",
       "    </tr>\n",
       "  </thead>\n",
       "  <tbody>\n",
       "    <tr>\n",
       "      <th>0</th>\n",
       "      <td>0.0</td>\n",
       "      <td>1.0</td>\n",
       "      <td>1.0</td>\n",
       "      <td>0.0</td>\n",
       "      <td>0.0</td>\n",
       "      <td>1.0</td>\n",
       "      <td>0.0</td>\n",
       "      <td>1.0</td>\n",
       "      <td>1.0</td>\n",
       "      <td>0.0</td>\n",
       "    </tr>\n",
       "    <tr>\n",
       "      <th>1</th>\n",
       "      <td>0.0</td>\n",
       "      <td>1.0</td>\n",
       "      <td>0.0</td>\n",
       "      <td>1.0</td>\n",
       "      <td>0.0</td>\n",
       "      <td>1.0</td>\n",
       "      <td>1.0</td>\n",
       "      <td>0.0</td>\n",
       "      <td>1.0</td>\n",
       "      <td>0.0</td>\n",
       "    </tr>\n",
       "    <tr>\n",
       "      <th>2</th>\n",
       "      <td>0.0</td>\n",
       "      <td>1.0</td>\n",
       "      <td>1.0</td>\n",
       "      <td>0.0</td>\n",
       "      <td>0.0</td>\n",
       "      <td>1.0</td>\n",
       "      <td>1.0</td>\n",
       "      <td>0.0</td>\n",
       "      <td>0.0</td>\n",
       "      <td>1.0</td>\n",
       "    </tr>\n",
       "    <tr>\n",
       "      <th>3</th>\n",
       "      <td>0.0</td>\n",
       "      <td>1.0</td>\n",
       "      <td>0.0</td>\n",
       "      <td>1.0</td>\n",
       "      <td>0.0</td>\n",
       "      <td>1.0</td>\n",
       "      <td>0.0</td>\n",
       "      <td>1.0</td>\n",
       "      <td>0.0</td>\n",
       "      <td>1.0</td>\n",
       "    </tr>\n",
       "    <tr>\n",
       "      <th>4</th>\n",
       "      <td>0.0</td>\n",
       "      <td>1.0</td>\n",
       "      <td>1.0</td>\n",
       "      <td>0.0</td>\n",
       "      <td>0.0</td>\n",
       "      <td>1.0</td>\n",
       "      <td>1.0</td>\n",
       "      <td>0.0</td>\n",
       "      <td>0.0</td>\n",
       "      <td>1.0</td>\n",
       "    </tr>\n",
       "  </tbody>\n",
       "</table>\n",
       "</div>"
      ],
      "text/plain": [
       "   BldgTp Town  BldgTp Detached  LotShape NR  LotShape R  BsmtFinTp UF  \\\n",
       "0          0.0              1.0          1.0         0.0           0.0   \n",
       "1          0.0              1.0          0.0         1.0           0.0   \n",
       "2          0.0              1.0          1.0         0.0           0.0   \n",
       "3          0.0              1.0          0.0         1.0           0.0   \n",
       "4          0.0              1.0          1.0         0.0           0.0   \n",
       "\n",
       "   BsmtFiinTp F  FullBathBsmt not  FullBathBsmt yes  HalfBathHouse not  \\\n",
       "0           1.0               0.0               1.0                1.0   \n",
       "1           1.0               1.0               0.0                1.0   \n",
       "2           1.0               1.0               0.0                0.0   \n",
       "3           1.0               0.0               1.0                0.0   \n",
       "4           1.0               1.0               0.0                0.0   \n",
       "\n",
       "   HalfBathHouse yes  \n",
       "0                0.0  \n",
       "1                0.0  \n",
       "2                1.0  \n",
       "3                1.0  \n",
       "4                1.0  "
      ]
     },
     "execution_count": 1160,
     "metadata": {},
     "output_type": "execute_result"
    }
   ],
   "source": [
    "# test Pipeline 1\n",
    "outputPpl1 = transformerbinominal.fit_transform(X_binominal).toarray()\n",
    "outPpl1 = pd.DataFrame(outputPpl1, columns=labelsPpl1, index=X_binominal.index)\n",
    "outPpl1.head()"
   ]
  },
  {
   "cell_type": "code",
   "execution_count": 1161,
   "metadata": {},
   "outputs": [],
   "source": [
    "# make Pipeline 2 for X_intervalLog\n",
    "## Pipeline 2: interval variables that need logarithm transformation -> impute missing values -> \n",
    "##               log1p transformation -> z-standardization\n",
    "transformerIntervalLog = make_pipeline(SimpleImputer(strategy = 'median'), \n",
    "                                       preprocessing.FunctionTransformer(np.log1p, validate=False),\n",
    "                                       preprocessing.StandardScaler())\n",
    "\n",
    "labelsPpl2 = X_intervalLog.add_suffix('Log1p_z').columns.tolist()"
   ]
  },
  {
   "cell_type": "code",
   "execution_count": 1162,
   "metadata": {},
   "outputs": [
    {
     "data": {
      "text/html": [
       "<div>\n",
       "<style scoped>\n",
       "    .dataframe tbody tr th:only-of-type {\n",
       "        vertical-align: middle;\n",
       "    }\n",
       "\n",
       "    .dataframe tbody tr th {\n",
       "        vertical-align: top;\n",
       "    }\n",
       "\n",
       "    .dataframe thead th {\n",
       "        text-align: right;\n",
       "    }\n",
       "</style>\n",
       "<table border=\"1\" class=\"dataframe\">\n",
       "  <thead>\n",
       "    <tr style=\"text-align: right;\">\n",
       "      <th></th>\n",
       "      <th>LotAreaLog1p_z</th>\n",
       "      <th>VeneerExteriorLog1p_z</th>\n",
       "      <th>OpenPrchSqftLog1p_z</th>\n",
       "    </tr>\n",
       "  </thead>\n",
       "  <tbody>\n",
       "    <tr>\n",
       "      <th>0</th>\n",
       "      <td>2.577555</td>\n",
       "      <td>1.086051</td>\n",
       "      <td>0.857098</td>\n",
       "    </tr>\n",
       "    <tr>\n",
       "      <th>1</th>\n",
       "      <td>0.596241</td>\n",
       "      <td>-0.762629</td>\n",
       "      <td>-1.073082</td>\n",
       "    </tr>\n",
       "    <tr>\n",
       "      <th>2</th>\n",
       "      <td>1.000227</td>\n",
       "      <td>1.071958</td>\n",
       "      <td>0.609151</td>\n",
       "    </tr>\n",
       "    <tr>\n",
       "      <th>3</th>\n",
       "      <td>0.516323</td>\n",
       "      <td>-0.762629</td>\n",
       "      <td>-1.073082</td>\n",
       "    </tr>\n",
       "    <tr>\n",
       "      <th>4</th>\n",
       "      <td>0.938936</td>\n",
       "      <td>-0.762629</td>\n",
       "      <td>0.583263</td>\n",
       "    </tr>\n",
       "  </tbody>\n",
       "</table>\n",
       "</div>"
      ],
      "text/plain": [
       "   LotAreaLog1p_z  VeneerExteriorLog1p_z  OpenPrchSqftLog1p_z\n",
       "0        2.577555               1.086051             0.857098\n",
       "1        0.596241              -0.762629            -1.073082\n",
       "2        1.000227               1.071958             0.609151\n",
       "3        0.516323              -0.762629            -1.073082\n",
       "4        0.938936              -0.762629             0.583263"
      ]
     },
     "execution_count": 1162,
     "metadata": {},
     "output_type": "execute_result"
    }
   ],
   "source": [
    "# test Pipeline 2\n",
    "outputPpl2 = transformerIntervalLog.fit_transform(X_intervalLog)\n",
    "outPpl2 = pd.DataFrame(outputPpl2, columns=labelsPpl2, index=X_intervalLog.index)\n",
    "outPpl2.head()"
   ]
  },
  {
   "cell_type": "code",
   "execution_count": 1163,
   "metadata": {},
   "outputs": [],
   "source": [
    "# make Pipeline 3 for X_interval\n",
    "## Pipeline 3: the rest of interval variables -> impute missing values -> z-standardization\n",
    "transformerInterval = make_pipeline(SimpleImputer(strategy = 'median'), preprocessing.StandardScaler())\n",
    "\n",
    "labelsPpl3 = X_interval.add_suffix('_z').columns.tolist()"
   ]
  },
  {
   "cell_type": "code",
   "execution_count": 1164,
   "metadata": {},
   "outputs": [
    {
     "data": {
      "text/html": [
       "<div>\n",
       "<style scoped>\n",
       "    .dataframe tbody tr th:only-of-type {\n",
       "        vertical-align: middle;\n",
       "    }\n",
       "\n",
       "    .dataframe tbody tr th {\n",
       "        vertical-align: top;\n",
       "    }\n",
       "\n",
       "    .dataframe thead th {\n",
       "        text-align: right;\n",
       "    }\n",
       "</style>\n",
       "<table border=\"1\" class=\"dataframe\">\n",
       "  <thead>\n",
       "    <tr style=\"text-align: right;\">\n",
       "      <th></th>\n",
       "      <th>AgeRemodelYears_z</th>\n",
       "      <th>BsmtFinSqft_z</th>\n",
       "      <th>BsmtUnfinSqft_z</th>\n",
       "      <th>FstFlrSqft_z</th>\n",
       "      <th>SecFlrSqft_z</th>\n",
       "      <th>AbvGrndLiving_z</th>\n",
       "      <th>FullBathHouse_z</th>\n",
       "      <th>BdrmAbvGrnd_z</th>\n",
       "      <th>RmAbvGrnd_z</th>\n",
       "      <th>Fireplaces_z</th>\n",
       "      <th>GarageCars_z</th>\n",
       "      <th>GarageArea_z</th>\n",
       "      <th>WdDckSqft_z</th>\n",
       "    </tr>\n",
       "  </thead>\n",
       "  <tbody>\n",
       "    <tr>\n",
       "      <th>0</th>\n",
       "      <td>0.761241</td>\n",
       "      <td>0.511861</td>\n",
       "      <td>-0.282762</td>\n",
       "      <td>1.567525</td>\n",
       "      <td>-0.800760</td>\n",
       "      <td>0.470986</td>\n",
       "      <td>-1.012751</td>\n",
       "      <td>0.247145</td>\n",
       "      <td>0.532453</td>\n",
       "      <td>2.237915</td>\n",
       "      <td>0.396435</td>\n",
       "      <td>0.354417</td>\n",
       "      <td>0.981410</td>\n",
       "    </tr>\n",
       "    <tr>\n",
       "      <th>1</th>\n",
       "      <td>0.717312</td>\n",
       "      <td>0.093454</td>\n",
       "      <td>-0.699227</td>\n",
       "      <td>-0.640431</td>\n",
       "      <td>-0.800760</td>\n",
       "      <td>-1.234949</td>\n",
       "      <td>-1.012751</td>\n",
       "      <td>-1.099367</td>\n",
       "      <td>-0.903987</td>\n",
       "      <td>-0.935198</td>\n",
       "      <td>-1.014303</td>\n",
       "      <td>1.376856</td>\n",
       "      <td>0.400936</td>\n",
       "    </tr>\n",
       "    <tr>\n",
       "      <th>2</th>\n",
       "      <td>0.849099</td>\n",
       "      <td>1.206758</td>\n",
       "      <td>-0.368003</td>\n",
       "      <td>0.617523</td>\n",
       "      <td>-0.800760</td>\n",
       "      <td>-0.263015</td>\n",
       "      <td>-1.012751</td>\n",
       "      <td>0.247145</td>\n",
       "      <td>-0.185767</td>\n",
       "      <td>-0.935198</td>\n",
       "      <td>-1.014303</td>\n",
       "      <td>-0.738884</td>\n",
       "      <td>2.498934</td>\n",
       "    </tr>\n",
       "    <tr>\n",
       "      <th>3</th>\n",
       "      <td>0.409809</td>\n",
       "      <td>1.554206</td>\n",
       "      <td>1.188261</td>\n",
       "      <td>2.886488</td>\n",
       "      <td>-0.800760</td>\n",
       "      <td>1.490057</td>\n",
       "      <td>0.980787</td>\n",
       "      <td>0.247145</td>\n",
       "      <td>1.250673</td>\n",
       "      <td>2.237915</td>\n",
       "      <td>0.396435</td>\n",
       "      <td>0.324048</td>\n",
       "      <td>-0.760011</td>\n",
       "    </tr>\n",
       "    <tr>\n",
       "      <th>4</th>\n",
       "      <td>-0.886096</td>\n",
       "      <td>0.883777</td>\n",
       "      <td>-1.023144</td>\n",
       "      <td>-0.547464</td>\n",
       "      <td>0.925362</td>\n",
       "      <td>0.410380</td>\n",
       "      <td>0.980787</td>\n",
       "      <td>0.247145</td>\n",
       "      <td>-0.185767</td>\n",
       "      <td>0.651359</td>\n",
       "      <td>0.396435</td>\n",
       "      <td>0.121585</td>\n",
       "      <td>0.997995</td>\n",
       "    </tr>\n",
       "  </tbody>\n",
       "</table>\n",
       "</div>"
      ],
      "text/plain": [
       "   AgeRemodelYears_z  BsmtFinSqft_z  BsmtUnfinSqft_z  FstFlrSqft_z  \\\n",
       "0           0.761241       0.511861        -0.282762      1.567525   \n",
       "1           0.717312       0.093454        -0.699227     -0.640431   \n",
       "2           0.849099       1.206758        -0.368003      0.617523   \n",
       "3           0.409809       1.554206         1.188261      2.886488   \n",
       "4          -0.886096       0.883777        -1.023144     -0.547464   \n",
       "\n",
       "   SecFlrSqft_z  AbvGrndLiving_z  FullBathHouse_z  BdrmAbvGrnd_z  RmAbvGrnd_z  \\\n",
       "0     -0.800760         0.470986        -1.012751       0.247145     0.532453   \n",
       "1     -0.800760        -1.234949        -1.012751      -1.099367    -0.903987   \n",
       "2     -0.800760        -0.263015        -1.012751       0.247145    -0.185767   \n",
       "3     -0.800760         1.490057         0.980787       0.247145     1.250673   \n",
       "4      0.925362         0.410380         0.980787       0.247145    -0.185767   \n",
       "\n",
       "   Fireplaces_z  GarageCars_z  GarageArea_z  WdDckSqft_z  \n",
       "0      2.237915      0.396435      0.354417     0.981410  \n",
       "1     -0.935198     -1.014303      1.376856     0.400936  \n",
       "2     -0.935198     -1.014303     -0.738884     2.498934  \n",
       "3      2.237915      0.396435      0.324048    -0.760011  \n",
       "4      0.651359      0.396435      0.121585     0.997995  "
      ]
     },
     "execution_count": 1164,
     "metadata": {},
     "output_type": "execute_result"
    }
   ],
   "source": [
    "# test Pipeline 3\n",
    "outputPpl3 = transformerInterval.fit_transform(X_interval)\n",
    "outPpl3 = pd.DataFrame(outputPpl3, columns=labelsPpl3, index=X_interval.index)\n",
    "outPpl3.head()"
   ]
  },
  {
   "cell_type": "code",
   "execution_count": 1165,
   "metadata": {},
   "outputs": [],
   "source": [
    "# make Pipeline 4 for OrdinalCol1\n",
    "transformerOrdinal1 = make_pipeline(SimpleImputer(strategy = 'most_frequent'), preprocessing.OneHotEncoder())"
   ]
  },
  {
   "cell_type": "code",
   "execution_count": 1166,
   "metadata": {},
   "outputs": [
    {
     "data": {
      "text/plain": [
       "OneHotEncoder()"
      ]
     },
     "execution_count": 1166,
     "metadata": {},
     "output_type": "execute_result"
    }
   ],
   "source": [
    "oneHotEncoder1 = preprocessing.OneHotEncoder()\n",
    "oneHotEncoder1.fit(X_ordinal1)"
   ]
  },
  {
   "cell_type": "code",
   "execution_count": 1167,
   "metadata": {},
   "outputs": [],
   "source": [
    "outputPpl4 = transformerOrdinal1.fit_transform(X_ordinal1).toarray()"
   ]
  },
  {
   "cell_type": "code",
   "execution_count": 1168,
   "metadata": {},
   "outputs": [],
   "source": [
    "labelsPpl4= ['OQ_Poor', 'OQ_Fair', 'OQ_Below Average', 'OQ_Average', 'OQ_Above Average', \n",
    "                                              'OQ_Good', 'OQ_Very Good', 'OQ_Excellent', 'OQ_Very Excellent']"
   ]
  },
  {
   "cell_type": "code",
   "execution_count": 1169,
   "metadata": {},
   "outputs": [
    {
     "data": {
      "text/html": [
       "<div>\n",
       "<style scoped>\n",
       "    .dataframe tbody tr th:only-of-type {\n",
       "        vertical-align: middle;\n",
       "    }\n",
       "\n",
       "    .dataframe tbody tr th {\n",
       "        vertical-align: top;\n",
       "    }\n",
       "\n",
       "    .dataframe thead th {\n",
       "        text-align: right;\n",
       "    }\n",
       "</style>\n",
       "<table border=\"1\" class=\"dataframe\">\n",
       "  <thead>\n",
       "    <tr style=\"text-align: right;\">\n",
       "      <th></th>\n",
       "      <th>OQ_Poor</th>\n",
       "      <th>OQ_Fair</th>\n",
       "      <th>OQ_Below Average</th>\n",
       "      <th>OQ_Average</th>\n",
       "      <th>OQ_Above Average</th>\n",
       "      <th>OQ_Good</th>\n",
       "      <th>OQ_Very Good</th>\n",
       "      <th>OQ_Excellent</th>\n",
       "      <th>OQ_Very Excellent</th>\n",
       "    </tr>\n",
       "  </thead>\n",
       "  <tbody>\n",
       "    <tr>\n",
       "      <th>0</th>\n",
       "      <td>0.0</td>\n",
       "      <td>0.0</td>\n",
       "      <td>0.0</td>\n",
       "      <td>0.0</td>\n",
       "      <td>1.0</td>\n",
       "      <td>0.0</td>\n",
       "      <td>0.0</td>\n",
       "      <td>0.0</td>\n",
       "      <td>0.0</td>\n",
       "    </tr>\n",
       "    <tr>\n",
       "      <th>1</th>\n",
       "      <td>0.0</td>\n",
       "      <td>0.0</td>\n",
       "      <td>0.0</td>\n",
       "      <td>1.0</td>\n",
       "      <td>0.0</td>\n",
       "      <td>0.0</td>\n",
       "      <td>0.0</td>\n",
       "      <td>0.0</td>\n",
       "      <td>0.0</td>\n",
       "    </tr>\n",
       "    <tr>\n",
       "      <th>2</th>\n",
       "      <td>0.0</td>\n",
       "      <td>0.0</td>\n",
       "      <td>0.0</td>\n",
       "      <td>0.0</td>\n",
       "      <td>1.0</td>\n",
       "      <td>0.0</td>\n",
       "      <td>0.0</td>\n",
       "      <td>0.0</td>\n",
       "      <td>0.0</td>\n",
       "    </tr>\n",
       "    <tr>\n",
       "      <th>3</th>\n",
       "      <td>0.0</td>\n",
       "      <td>0.0</td>\n",
       "      <td>0.0</td>\n",
       "      <td>0.0</td>\n",
       "      <td>0.0</td>\n",
       "      <td>1.0</td>\n",
       "      <td>0.0</td>\n",
       "      <td>0.0</td>\n",
       "      <td>0.0</td>\n",
       "    </tr>\n",
       "    <tr>\n",
       "      <th>4</th>\n",
       "      <td>0.0</td>\n",
       "      <td>0.0</td>\n",
       "      <td>0.0</td>\n",
       "      <td>1.0</td>\n",
       "      <td>0.0</td>\n",
       "      <td>0.0</td>\n",
       "      <td>0.0</td>\n",
       "      <td>0.0</td>\n",
       "      <td>0.0</td>\n",
       "    </tr>\n",
       "  </tbody>\n",
       "</table>\n",
       "</div>"
      ],
      "text/plain": [
       "   OQ_Poor  OQ_Fair  OQ_Below Average  OQ_Average  OQ_Above Average  OQ_Good  \\\n",
       "0      0.0      0.0               0.0         0.0               1.0      0.0   \n",
       "1      0.0      0.0               0.0         1.0               0.0      0.0   \n",
       "2      0.0      0.0               0.0         0.0               1.0      0.0   \n",
       "3      0.0      0.0               0.0         0.0               0.0      1.0   \n",
       "4      0.0      0.0               0.0         1.0               0.0      0.0   \n",
       "\n",
       "   OQ_Very Good  OQ_Excellent  OQ_Very Excellent  \n",
       "0           0.0           0.0                0.0  \n",
       "1           0.0           0.0                0.0  \n",
       "2           0.0           0.0                0.0  \n",
       "3           0.0           0.0                0.0  \n",
       "4           0.0           0.0                0.0  "
      ]
     },
     "execution_count": 1169,
     "metadata": {},
     "output_type": "execute_result"
    }
   ],
   "source": [
    "# test Pipeline 4\n",
    "outputPpl4 = transformerOrdinal1.fit_transform(X_ordinal1).toarray()\n",
    "outPpl4 = pd.DataFrame(outputPpl4, columns = labelsPpl4, index=X_ordinal1.index)\n",
    "outPpl4.head()"
   ]
  },
  {
   "cell_type": "code",
   "execution_count": 1170,
   "metadata": {},
   "outputs": [],
   "source": [
    "# make Pipeline 5 for OrdinalCol2\n",
    "transformerOrdinal2 = make_pipeline(SimpleImputer(strategy = 'most_frequent'), preprocessing.OneHotEncoder())\n",
    "\n",
    "oneHotEncoder2 = preprocessing.OneHotEncoder()\n",
    "oneHotEncoder2.fit(X_ordinal2)\n",
    "outputPpl5 = transformerOrdinal2.fit_transform(X_ordinal2).toarray()\n",
    "labelsPpl5 = ['OC_Very Poor' ,'OC_Poor', 'OC_Fair', 'OC_Below Average', 'OC_Average', 'OC_Above Average', \n",
    "                                              'OC_Good', 'OC_Very Good', 'OC_Excellent']"
   ]
  },
  {
   "cell_type": "code",
   "execution_count": 1171,
   "metadata": {},
   "outputs": [
    {
     "data": {
      "text/html": [
       "<div>\n",
       "<style scoped>\n",
       "    .dataframe tbody tr th:only-of-type {\n",
       "        vertical-align: middle;\n",
       "    }\n",
       "\n",
       "    .dataframe tbody tr th {\n",
       "        vertical-align: top;\n",
       "    }\n",
       "\n",
       "    .dataframe thead th {\n",
       "        text-align: right;\n",
       "    }\n",
       "</style>\n",
       "<table border=\"1\" class=\"dataframe\">\n",
       "  <thead>\n",
       "    <tr style=\"text-align: right;\">\n",
       "      <th></th>\n",
       "      <th>OC_Very Poor</th>\n",
       "      <th>OC_Poor</th>\n",
       "      <th>OC_Fair</th>\n",
       "      <th>OC_Below Average</th>\n",
       "      <th>OC_Average</th>\n",
       "      <th>OC_Above Average</th>\n",
       "      <th>OC_Good</th>\n",
       "      <th>OC_Very Good</th>\n",
       "      <th>OC_Excellent</th>\n",
       "    </tr>\n",
       "  </thead>\n",
       "  <tbody>\n",
       "    <tr>\n",
       "      <th>0</th>\n",
       "      <td>0.0</td>\n",
       "      <td>0.0</td>\n",
       "      <td>0.0</td>\n",
       "      <td>0.0</td>\n",
       "      <td>1.0</td>\n",
       "      <td>0.0</td>\n",
       "      <td>0.0</td>\n",
       "      <td>0.0</td>\n",
       "      <td>0.0</td>\n",
       "    </tr>\n",
       "    <tr>\n",
       "      <th>1</th>\n",
       "      <td>0.0</td>\n",
       "      <td>0.0</td>\n",
       "      <td>0.0</td>\n",
       "      <td>0.0</td>\n",
       "      <td>0.0</td>\n",
       "      <td>1.0</td>\n",
       "      <td>0.0</td>\n",
       "      <td>0.0</td>\n",
       "      <td>0.0</td>\n",
       "    </tr>\n",
       "    <tr>\n",
       "      <th>2</th>\n",
       "      <td>0.0</td>\n",
       "      <td>0.0</td>\n",
       "      <td>0.0</td>\n",
       "      <td>0.0</td>\n",
       "      <td>0.0</td>\n",
       "      <td>1.0</td>\n",
       "      <td>0.0</td>\n",
       "      <td>0.0</td>\n",
       "      <td>0.0</td>\n",
       "    </tr>\n",
       "    <tr>\n",
       "      <th>3</th>\n",
       "      <td>0.0</td>\n",
       "      <td>0.0</td>\n",
       "      <td>0.0</td>\n",
       "      <td>0.0</td>\n",
       "      <td>1.0</td>\n",
       "      <td>0.0</td>\n",
       "      <td>0.0</td>\n",
       "      <td>0.0</td>\n",
       "      <td>0.0</td>\n",
       "    </tr>\n",
       "    <tr>\n",
       "      <th>4</th>\n",
       "      <td>0.0</td>\n",
       "      <td>0.0</td>\n",
       "      <td>0.0</td>\n",
       "      <td>0.0</td>\n",
       "      <td>1.0</td>\n",
       "      <td>0.0</td>\n",
       "      <td>0.0</td>\n",
       "      <td>0.0</td>\n",
       "      <td>0.0</td>\n",
       "    </tr>\n",
       "  </tbody>\n",
       "</table>\n",
       "</div>"
      ],
      "text/plain": [
       "   OC_Very Poor  OC_Poor  OC_Fair  OC_Below Average  OC_Average  \\\n",
       "0           0.0      0.0      0.0               0.0         1.0   \n",
       "1           0.0      0.0      0.0               0.0         0.0   \n",
       "2           0.0      0.0      0.0               0.0         0.0   \n",
       "3           0.0      0.0      0.0               0.0         1.0   \n",
       "4           0.0      0.0      0.0               0.0         1.0   \n",
       "\n",
       "   OC_Above Average  OC_Good  OC_Very Good  OC_Excellent  \n",
       "0               0.0      0.0           0.0           0.0  \n",
       "1               1.0      0.0           0.0           0.0  \n",
       "2               1.0      0.0           0.0           0.0  \n",
       "3               0.0      0.0           0.0           0.0  \n",
       "4               0.0      0.0           0.0           0.0  "
      ]
     },
     "execution_count": 1171,
     "metadata": {},
     "output_type": "execute_result"
    }
   ],
   "source": [
    "# test Pipeline 5\n",
    "outputPpl5 = transformerOrdinal2.fit_transform(X_ordinal2).toarray()\n",
    "outPpl5 = pd.DataFrame(outputPpl5, columns = labelsPpl5, index=X_ordinal2.index)\n",
    "outPpl5.head()"
   ]
  },
  {
   "cell_type": "code",
   "execution_count": 1172,
   "metadata": {},
   "outputs": [],
   "source": [
    "# make Pipeline 6 for OrdinalCol3\n",
    "transformerOrdinal3 = make_pipeline(SimpleImputer(strategy = 'most_frequent'), preprocessing.OneHotEncoder())\n",
    "\n",
    "oneHotEncoder3 = preprocessing.OneHotEncoder()\n",
    "oneHotEncoder3.fit(X_ordinal3)\n",
    "outputPpl6 = transformerOrdinal3.fit_transform(X_ordinal3).toarray()\n",
    "labelsPpl6 = ['HQC_Fair', 'HQC_Average', 'HQC_Good', 'HQC_Excellent']"
   ]
  },
  {
   "cell_type": "code",
   "execution_count": 1173,
   "metadata": {},
   "outputs": [
    {
     "data": {
      "text/html": [
       "<div>\n",
       "<style scoped>\n",
       "    .dataframe tbody tr th:only-of-type {\n",
       "        vertical-align: middle;\n",
       "    }\n",
       "\n",
       "    .dataframe tbody tr th {\n",
       "        vertical-align: top;\n",
       "    }\n",
       "\n",
       "    .dataframe thead th {\n",
       "        text-align: right;\n",
       "    }\n",
       "</style>\n",
       "<table border=\"1\" class=\"dataframe\">\n",
       "  <thead>\n",
       "    <tr style=\"text-align: right;\">\n",
       "      <th></th>\n",
       "      <th>HQC_Fair</th>\n",
       "      <th>HQC_Average</th>\n",
       "      <th>HQC_Good</th>\n",
       "      <th>HQC_Excellent</th>\n",
       "    </tr>\n",
       "  </thead>\n",
       "  <tbody>\n",
       "    <tr>\n",
       "      <th>0</th>\n",
       "      <td>1.0</td>\n",
       "      <td>0.0</td>\n",
       "      <td>0.0</td>\n",
       "      <td>0.0</td>\n",
       "    </tr>\n",
       "    <tr>\n",
       "      <th>1</th>\n",
       "      <td>0.0</td>\n",
       "      <td>1.0</td>\n",
       "      <td>0.0</td>\n",
       "      <td>0.0</td>\n",
       "    </tr>\n",
       "    <tr>\n",
       "      <th>2</th>\n",
       "      <td>0.0</td>\n",
       "      <td>1.0</td>\n",
       "      <td>0.0</td>\n",
       "      <td>0.0</td>\n",
       "    </tr>\n",
       "    <tr>\n",
       "      <th>3</th>\n",
       "      <td>0.0</td>\n",
       "      <td>0.0</td>\n",
       "      <td>0.0</td>\n",
       "      <td>1.0</td>\n",
       "    </tr>\n",
       "    <tr>\n",
       "      <th>4</th>\n",
       "      <td>0.0</td>\n",
       "      <td>0.0</td>\n",
       "      <td>1.0</td>\n",
       "      <td>0.0</td>\n",
       "    </tr>\n",
       "  </tbody>\n",
       "</table>\n",
       "</div>"
      ],
      "text/plain": [
       "   HQC_Fair  HQC_Average  HQC_Good  HQC_Excellent\n",
       "0       1.0          0.0       0.0            0.0\n",
       "1       0.0          1.0       0.0            0.0\n",
       "2       0.0          1.0       0.0            0.0\n",
       "3       0.0          0.0       0.0            1.0\n",
       "4       0.0          0.0       1.0            0.0"
      ]
     },
     "execution_count": 1173,
     "metadata": {},
     "output_type": "execute_result"
    }
   ],
   "source": [
    "# test Pipeline 6\n",
    "outputPpl6 = transformerOrdinal3.fit_transform(X_ordinal3).toarray()\n",
    "outPpl6 = pd.DataFrame(outputPpl6, columns = labelsPpl6, index=X_ordinal3.index)\n",
    "outPpl6.head()"
   ]
  },
  {
   "cell_type": "code",
   "execution_count": 1174,
   "metadata": {},
   "outputs": [],
   "source": [
    "# make Pipeline 7 for OrdinalCol4\n",
    "transformerOrdinal4 = make_pipeline(SimpleImputer(strategy = 'most_frequent'), preprocessing.OneHotEncoder())\n",
    "\n",
    "oneHotEncoder4 = preprocessing.OneHotEncoder()\n",
    "oneHotEncoder4.fit(X_ordinal4)\n",
    "outputPpl7 = transformerOrdinal4.fit_transform(X_ordinal4).toarray()\n",
    "labelsPpl7 = ['Garage_No garage', 'Garage_Detached', 'Garage_Builtin', 'Garage_Attached']"
   ]
  },
  {
   "cell_type": "code",
   "execution_count": 1175,
   "metadata": {},
   "outputs": [
    {
     "data": {
      "text/html": [
       "<div>\n",
       "<style scoped>\n",
       "    .dataframe tbody tr th:only-of-type {\n",
       "        vertical-align: middle;\n",
       "    }\n",
       "\n",
       "    .dataframe tbody tr th {\n",
       "        vertical-align: top;\n",
       "    }\n",
       "\n",
       "    .dataframe thead th {\n",
       "        text-align: right;\n",
       "    }\n",
       "</style>\n",
       "<table border=\"1\" class=\"dataframe\">\n",
       "  <thead>\n",
       "    <tr style=\"text-align: right;\">\n",
       "      <th></th>\n",
       "      <th>Garage_No garage</th>\n",
       "      <th>Garage_Detached</th>\n",
       "      <th>Garage_Builtin</th>\n",
       "      <th>Garage_Attached</th>\n",
       "    </tr>\n",
       "  </thead>\n",
       "  <tbody>\n",
       "    <tr>\n",
       "      <th>0</th>\n",
       "      <td>0.0</td>\n",
       "      <td>0.0</td>\n",
       "      <td>0.0</td>\n",
       "      <td>1.0</td>\n",
       "    </tr>\n",
       "    <tr>\n",
       "      <th>1</th>\n",
       "      <td>0.0</td>\n",
       "      <td>0.0</td>\n",
       "      <td>0.0</td>\n",
       "      <td>1.0</td>\n",
       "    </tr>\n",
       "    <tr>\n",
       "      <th>2</th>\n",
       "      <td>0.0</td>\n",
       "      <td>0.0</td>\n",
       "      <td>0.0</td>\n",
       "      <td>1.0</td>\n",
       "    </tr>\n",
       "    <tr>\n",
       "      <th>3</th>\n",
       "      <td>0.0</td>\n",
       "      <td>0.0</td>\n",
       "      <td>0.0</td>\n",
       "      <td>1.0</td>\n",
       "    </tr>\n",
       "    <tr>\n",
       "      <th>4</th>\n",
       "      <td>0.0</td>\n",
       "      <td>0.0</td>\n",
       "      <td>0.0</td>\n",
       "      <td>1.0</td>\n",
       "    </tr>\n",
       "  </tbody>\n",
       "</table>\n",
       "</div>"
      ],
      "text/plain": [
       "   Garage_No garage  Garage_Detached  Garage_Builtin  Garage_Attached\n",
       "0               0.0              0.0             0.0              1.0\n",
       "1               0.0              0.0             0.0              1.0\n",
       "2               0.0              0.0             0.0              1.0\n",
       "3               0.0              0.0             0.0              1.0\n",
       "4               0.0              0.0             0.0              1.0"
      ]
     },
     "execution_count": 1175,
     "metadata": {},
     "output_type": "execute_result"
    }
   ],
   "source": [
    "# test Pipeline 7\n",
    "outputPpl7 = transformerOrdinal4.fit_transform(X_ordinal4).toarray()\n",
    "outPpl7 = pd.DataFrame(outputPpl7, columns = labelsPpl7, index=X_ordinal4.index)\n",
    "outPpl7.head()"
   ]
  },
  {
   "cell_type": "code",
   "execution_count": 1176,
   "metadata": {},
   "outputs": [
    {
     "name": "stdout",
     "output_type": "stream",
     "text": [
      "['BldgTp Town', 'BldgTp Detached', 'LotShape NR', 'LotShape R', 'BsmtFinTp UF', 'BsmtFiinTp F', 'FullBathBsmt not', 'FullBathBsmt yes', 'HalfBathHouse not', 'HalfBathHouse yes', 'LotAreaLog1p_z', 'VeneerExteriorLog1p_z', 'OpenPrchSqftLog1p_z', 'AgeRemodelYears_z', 'BsmtFinSqft_z', 'BsmtUnfinSqft_z', 'FstFlrSqft_z', 'SecFlrSqft_z', 'AbvGrndLiving_z', 'FullBathHouse_z', 'BdrmAbvGrnd_z', 'RmAbvGrnd_z', 'Fireplaces_z', 'GarageCars_z', 'GarageArea_z', 'WdDckSqft_z', 'OQ_Poor', 'OQ_Fair', 'OQ_Below Average', 'OQ_Average', 'OQ_Above Average', 'OQ_Good', 'OQ_Very Good', 'OQ_Excellent', 'OQ_Very Excellent', 'OC_Very Poor', 'OC_Poor', 'OC_Fair', 'OC_Below Average', 'OC_Average', 'OC_Above Average', 'OC_Good', 'OC_Very Good', 'OC_Excellent', 'HQC_Fair', 'HQC_Average', 'HQC_Good', 'HQC_Excellent', 'Garage_No garage', 'Garage_Detached', 'Garage_Builtin', 'Garage_Attached']\n"
     ]
    }
   ],
   "source": [
    "# combine all 7 Pipelines into a ColumnTransformer\n",
    "preprocessor = make_column_transformer((transformerbinominal, binominalCols), \n",
    "                                       (transformerIntervalLog, intervalLogCols),\n",
    "                                       (transformerInterval, intervalCols),\n",
    "                                      (transformerOrdinal1, OrdinalCol1),\n",
    "                                      (transformerOrdinal2, OrdinalCol2),\n",
    "                                      (transformerOrdinal3, OrdinalCol3),\n",
    "                                      (transformerOrdinal4, OrdinalCol4))\n",
    "\n",
    "# prepare all labels\n",
    "## list comprehension again\n",
    "labelsPreprocessor = [label for labels in [labelsPpl1, labelsPpl2, labelsPpl3, labelsPpl4, labelsPpl5,\n",
    "                                          labelsPpl6, labelsPpl7] for label in labels]\n",
    "print(labelsPreprocessor)"
   ]
  },
  {
   "cell_type": "code",
   "execution_count": 1177,
   "metadata": {},
   "outputs": [
    {
     "data": {
      "text/plain": [
       "(2370, 52)"
      ]
     },
     "metadata": {},
     "output_type": "display_data"
    },
    {
     "data": {
      "text/html": [
       "<div>\n",
       "<style scoped>\n",
       "    .dataframe tbody tr th:only-of-type {\n",
       "        vertical-align: middle;\n",
       "    }\n",
       "\n",
       "    .dataframe tbody tr th {\n",
       "        vertical-align: top;\n",
       "    }\n",
       "\n",
       "    .dataframe thead th {\n",
       "        text-align: right;\n",
       "    }\n",
       "</style>\n",
       "<table border=\"1\" class=\"dataframe\">\n",
       "  <thead>\n",
       "    <tr style=\"text-align: right;\">\n",
       "      <th></th>\n",
       "      <th>BldgTp Town</th>\n",
       "      <th>BldgTp Detached</th>\n",
       "      <th>LotShape NR</th>\n",
       "      <th>LotShape R</th>\n",
       "      <th>BsmtFinTp UF</th>\n",
       "      <th>BsmtFiinTp F</th>\n",
       "      <th>FullBathBsmt not</th>\n",
       "      <th>FullBathBsmt yes</th>\n",
       "      <th>HalfBathHouse not</th>\n",
       "      <th>HalfBathHouse yes</th>\n",
       "      <th>...</th>\n",
       "      <th>OC_Very Good</th>\n",
       "      <th>OC_Excellent</th>\n",
       "      <th>HQC_Fair</th>\n",
       "      <th>HQC_Average</th>\n",
       "      <th>HQC_Good</th>\n",
       "      <th>HQC_Excellent</th>\n",
       "      <th>Garage_No garage</th>\n",
       "      <th>Garage_Detached</th>\n",
       "      <th>Garage_Builtin</th>\n",
       "      <th>Garage_Attached</th>\n",
       "    </tr>\n",
       "  </thead>\n",
       "  <tbody>\n",
       "    <tr>\n",
       "      <th>0</th>\n",
       "      <td>0.0</td>\n",
       "      <td>1.0</td>\n",
       "      <td>1.0</td>\n",
       "      <td>0.0</td>\n",
       "      <td>0.0</td>\n",
       "      <td>1.0</td>\n",
       "      <td>0.0</td>\n",
       "      <td>1.0</td>\n",
       "      <td>1.0</td>\n",
       "      <td>0.0</td>\n",
       "      <td>...</td>\n",
       "      <td>0.0</td>\n",
       "      <td>0.0</td>\n",
       "      <td>1.0</td>\n",
       "      <td>0.0</td>\n",
       "      <td>0.0</td>\n",
       "      <td>0.0</td>\n",
       "      <td>0.0</td>\n",
       "      <td>0.0</td>\n",
       "      <td>0.0</td>\n",
       "      <td>1.0</td>\n",
       "    </tr>\n",
       "    <tr>\n",
       "      <th>1</th>\n",
       "      <td>0.0</td>\n",
       "      <td>1.0</td>\n",
       "      <td>0.0</td>\n",
       "      <td>1.0</td>\n",
       "      <td>0.0</td>\n",
       "      <td>1.0</td>\n",
       "      <td>1.0</td>\n",
       "      <td>0.0</td>\n",
       "      <td>1.0</td>\n",
       "      <td>0.0</td>\n",
       "      <td>...</td>\n",
       "      <td>0.0</td>\n",
       "      <td>0.0</td>\n",
       "      <td>0.0</td>\n",
       "      <td>1.0</td>\n",
       "      <td>0.0</td>\n",
       "      <td>0.0</td>\n",
       "      <td>0.0</td>\n",
       "      <td>0.0</td>\n",
       "      <td>0.0</td>\n",
       "      <td>1.0</td>\n",
       "    </tr>\n",
       "    <tr>\n",
       "      <th>2</th>\n",
       "      <td>0.0</td>\n",
       "      <td>1.0</td>\n",
       "      <td>1.0</td>\n",
       "      <td>0.0</td>\n",
       "      <td>0.0</td>\n",
       "      <td>1.0</td>\n",
       "      <td>1.0</td>\n",
       "      <td>0.0</td>\n",
       "      <td>0.0</td>\n",
       "      <td>1.0</td>\n",
       "      <td>...</td>\n",
       "      <td>0.0</td>\n",
       "      <td>0.0</td>\n",
       "      <td>0.0</td>\n",
       "      <td>1.0</td>\n",
       "      <td>0.0</td>\n",
       "      <td>0.0</td>\n",
       "      <td>0.0</td>\n",
       "      <td>0.0</td>\n",
       "      <td>0.0</td>\n",
       "      <td>1.0</td>\n",
       "    </tr>\n",
       "    <tr>\n",
       "      <th>3</th>\n",
       "      <td>0.0</td>\n",
       "      <td>1.0</td>\n",
       "      <td>0.0</td>\n",
       "      <td>1.0</td>\n",
       "      <td>0.0</td>\n",
       "      <td>1.0</td>\n",
       "      <td>0.0</td>\n",
       "      <td>1.0</td>\n",
       "      <td>0.0</td>\n",
       "      <td>1.0</td>\n",
       "      <td>...</td>\n",
       "      <td>0.0</td>\n",
       "      <td>0.0</td>\n",
       "      <td>0.0</td>\n",
       "      <td>0.0</td>\n",
       "      <td>0.0</td>\n",
       "      <td>1.0</td>\n",
       "      <td>0.0</td>\n",
       "      <td>0.0</td>\n",
       "      <td>0.0</td>\n",
       "      <td>1.0</td>\n",
       "    </tr>\n",
       "    <tr>\n",
       "      <th>4</th>\n",
       "      <td>0.0</td>\n",
       "      <td>1.0</td>\n",
       "      <td>1.0</td>\n",
       "      <td>0.0</td>\n",
       "      <td>0.0</td>\n",
       "      <td>1.0</td>\n",
       "      <td>1.0</td>\n",
       "      <td>0.0</td>\n",
       "      <td>0.0</td>\n",
       "      <td>1.0</td>\n",
       "      <td>...</td>\n",
       "      <td>0.0</td>\n",
       "      <td>0.0</td>\n",
       "      <td>0.0</td>\n",
       "      <td>0.0</td>\n",
       "      <td>1.0</td>\n",
       "      <td>0.0</td>\n",
       "      <td>0.0</td>\n",
       "      <td>0.0</td>\n",
       "      <td>0.0</td>\n",
       "      <td>1.0</td>\n",
       "    </tr>\n",
       "  </tbody>\n",
       "</table>\n",
       "<p>5 rows × 52 columns</p>\n",
       "</div>"
      ],
      "text/plain": [
       "   BldgTp Town  BldgTp Detached  LotShape NR  LotShape R  BsmtFinTp UF  \\\n",
       "0          0.0              1.0          1.0         0.0           0.0   \n",
       "1          0.0              1.0          0.0         1.0           0.0   \n",
       "2          0.0              1.0          1.0         0.0           0.0   \n",
       "3          0.0              1.0          0.0         1.0           0.0   \n",
       "4          0.0              1.0          1.0         0.0           0.0   \n",
       "\n",
       "   BsmtFiinTp F  FullBathBsmt not  FullBathBsmt yes  HalfBathHouse not  \\\n",
       "0           1.0               0.0               1.0                1.0   \n",
       "1           1.0               1.0               0.0                1.0   \n",
       "2           1.0               1.0               0.0                0.0   \n",
       "3           1.0               0.0               1.0                0.0   \n",
       "4           1.0               1.0               0.0                0.0   \n",
       "\n",
       "   HalfBathHouse yes  ...  OC_Very Good  OC_Excellent  HQC_Fair  HQC_Average  \\\n",
       "0                0.0  ...           0.0           0.0       1.0          0.0   \n",
       "1                0.0  ...           0.0           0.0       0.0          1.0   \n",
       "2                1.0  ...           0.0           0.0       0.0          1.0   \n",
       "3                1.0  ...           0.0           0.0       0.0          0.0   \n",
       "4                1.0  ...           0.0           0.0       0.0          0.0   \n",
       "\n",
       "   HQC_Good  HQC_Excellent  Garage_No garage  Garage_Detached  Garage_Builtin  \\\n",
       "0       0.0            0.0               0.0              0.0             0.0   \n",
       "1       0.0            0.0               0.0              0.0             0.0   \n",
       "2       0.0            0.0               0.0              0.0             0.0   \n",
       "3       0.0            1.0               0.0              0.0             0.0   \n",
       "4       1.0            0.0               0.0              0.0             0.0   \n",
       "\n",
       "   Garage_Attached  \n",
       "0              1.0  \n",
       "1              1.0  \n",
       "2              1.0  \n",
       "3              1.0  \n",
       "4              1.0  \n",
       "\n",
       "[5 rows x 52 columns]"
      ]
     },
     "metadata": {},
     "output_type": "display_data"
    },
    {
     "data": {
      "text/html": [
       "<div>\n",
       "<style scoped>\n",
       "    .dataframe tbody tr th:only-of-type {\n",
       "        vertical-align: middle;\n",
       "    }\n",
       "\n",
       "    .dataframe tbody tr th {\n",
       "        vertical-align: top;\n",
       "    }\n",
       "\n",
       "    .dataframe thead th {\n",
       "        text-align: right;\n",
       "    }\n",
       "</style>\n",
       "<table border=\"1\" class=\"dataframe\">\n",
       "  <thead>\n",
       "    <tr style=\"text-align: right;\">\n",
       "      <th></th>\n",
       "      <th>BldgTp Town</th>\n",
       "      <th>BldgTp Detached</th>\n",
       "      <th>LotShape NR</th>\n",
       "      <th>LotShape R</th>\n",
       "      <th>BsmtFinTp UF</th>\n",
       "      <th>BsmtFiinTp F</th>\n",
       "      <th>FullBathBsmt not</th>\n",
       "      <th>FullBathBsmt yes</th>\n",
       "      <th>HalfBathHouse not</th>\n",
       "      <th>HalfBathHouse yes</th>\n",
       "      <th>...</th>\n",
       "      <th>OC_Very Good</th>\n",
       "      <th>OC_Excellent</th>\n",
       "      <th>HQC_Fair</th>\n",
       "      <th>HQC_Average</th>\n",
       "      <th>HQC_Good</th>\n",
       "      <th>HQC_Excellent</th>\n",
       "      <th>Garage_No garage</th>\n",
       "      <th>Garage_Detached</th>\n",
       "      <th>Garage_Builtin</th>\n",
       "      <th>Garage_Attached</th>\n",
       "    </tr>\n",
       "  </thead>\n",
       "  <tbody>\n",
       "    <tr>\n",
       "      <th>2365</th>\n",
       "      <td>0.0</td>\n",
       "      <td>1.0</td>\n",
       "      <td>0.0</td>\n",
       "      <td>1.0</td>\n",
       "      <td>0.0</td>\n",
       "      <td>1.0</td>\n",
       "      <td>0.0</td>\n",
       "      <td>1.0</td>\n",
       "      <td>1.0</td>\n",
       "      <td>0.0</td>\n",
       "      <td>...</td>\n",
       "      <td>0.0</td>\n",
       "      <td>0.0</td>\n",
       "      <td>0.0</td>\n",
       "      <td>0.0</td>\n",
       "      <td>0.0</td>\n",
       "      <td>1.0</td>\n",
       "      <td>0.0</td>\n",
       "      <td>1.0</td>\n",
       "      <td>0.0</td>\n",
       "      <td>0.0</td>\n",
       "    </tr>\n",
       "    <tr>\n",
       "      <th>2366</th>\n",
       "      <td>0.0</td>\n",
       "      <td>1.0</td>\n",
       "      <td>1.0</td>\n",
       "      <td>0.0</td>\n",
       "      <td>0.0</td>\n",
       "      <td>1.0</td>\n",
       "      <td>0.0</td>\n",
       "      <td>1.0</td>\n",
       "      <td>1.0</td>\n",
       "      <td>0.0</td>\n",
       "      <td>...</td>\n",
       "      <td>0.0</td>\n",
       "      <td>0.0</td>\n",
       "      <td>0.0</td>\n",
       "      <td>1.0</td>\n",
       "      <td>0.0</td>\n",
       "      <td>0.0</td>\n",
       "      <td>0.0</td>\n",
       "      <td>1.0</td>\n",
       "      <td>0.0</td>\n",
       "      <td>0.0</td>\n",
       "    </tr>\n",
       "    <tr>\n",
       "      <th>2367</th>\n",
       "      <td>0.0</td>\n",
       "      <td>1.0</td>\n",
       "      <td>1.0</td>\n",
       "      <td>0.0</td>\n",
       "      <td>0.0</td>\n",
       "      <td>1.0</td>\n",
       "      <td>0.0</td>\n",
       "      <td>1.0</td>\n",
       "      <td>1.0</td>\n",
       "      <td>0.0</td>\n",
       "      <td>...</td>\n",
       "      <td>0.0</td>\n",
       "      <td>0.0</td>\n",
       "      <td>0.0</td>\n",
       "      <td>1.0</td>\n",
       "      <td>0.0</td>\n",
       "      <td>0.0</td>\n",
       "      <td>0.0</td>\n",
       "      <td>0.0</td>\n",
       "      <td>0.0</td>\n",
       "      <td>1.0</td>\n",
       "    </tr>\n",
       "    <tr>\n",
       "      <th>2368</th>\n",
       "      <td>0.0</td>\n",
       "      <td>1.0</td>\n",
       "      <td>0.0</td>\n",
       "      <td>1.0</td>\n",
       "      <td>0.0</td>\n",
       "      <td>1.0</td>\n",
       "      <td>1.0</td>\n",
       "      <td>0.0</td>\n",
       "      <td>1.0</td>\n",
       "      <td>0.0</td>\n",
       "      <td>...</td>\n",
       "      <td>0.0</td>\n",
       "      <td>0.0</td>\n",
       "      <td>0.0</td>\n",
       "      <td>1.0</td>\n",
       "      <td>0.0</td>\n",
       "      <td>0.0</td>\n",
       "      <td>1.0</td>\n",
       "      <td>0.0</td>\n",
       "      <td>0.0</td>\n",
       "      <td>0.0</td>\n",
       "    </tr>\n",
       "    <tr>\n",
       "      <th>2369</th>\n",
       "      <td>0.0</td>\n",
       "      <td>1.0</td>\n",
       "      <td>0.0</td>\n",
       "      <td>1.0</td>\n",
       "      <td>0.0</td>\n",
       "      <td>1.0</td>\n",
       "      <td>0.0</td>\n",
       "      <td>1.0</td>\n",
       "      <td>1.0</td>\n",
       "      <td>0.0</td>\n",
       "      <td>...</td>\n",
       "      <td>0.0</td>\n",
       "      <td>0.0</td>\n",
       "      <td>0.0</td>\n",
       "      <td>0.0</td>\n",
       "      <td>1.0</td>\n",
       "      <td>0.0</td>\n",
       "      <td>0.0</td>\n",
       "      <td>0.0</td>\n",
       "      <td>0.0</td>\n",
       "      <td>1.0</td>\n",
       "    </tr>\n",
       "  </tbody>\n",
       "</table>\n",
       "<p>5 rows × 52 columns</p>\n",
       "</div>"
      ],
      "text/plain": [
       "      BldgTp Town  BldgTp Detached  LotShape NR  LotShape R  BsmtFinTp UF  \\\n",
       "2365          0.0              1.0          0.0         1.0           0.0   \n",
       "2366          0.0              1.0          1.0         0.0           0.0   \n",
       "2367          0.0              1.0          1.0         0.0           0.0   \n",
       "2368          0.0              1.0          0.0         1.0           0.0   \n",
       "2369          0.0              1.0          0.0         1.0           0.0   \n",
       "\n",
       "      BsmtFiinTp F  FullBathBsmt not  FullBathBsmt yes  HalfBathHouse not  \\\n",
       "2365           1.0               0.0               1.0                1.0   \n",
       "2366           1.0               0.0               1.0                1.0   \n",
       "2367           1.0               0.0               1.0                1.0   \n",
       "2368           1.0               1.0               0.0                1.0   \n",
       "2369           1.0               0.0               1.0                1.0   \n",
       "\n",
       "      HalfBathHouse yes  ...  OC_Very Good  OC_Excellent  HQC_Fair  \\\n",
       "2365                0.0  ...           0.0           0.0       0.0   \n",
       "2366                0.0  ...           0.0           0.0       0.0   \n",
       "2367                0.0  ...           0.0           0.0       0.0   \n",
       "2368                0.0  ...           0.0           0.0       0.0   \n",
       "2369                0.0  ...           0.0           0.0       0.0   \n",
       "\n",
       "      HQC_Average  HQC_Good  HQC_Excellent  Garage_No garage  Garage_Detached  \\\n",
       "2365          0.0       0.0            1.0               0.0              1.0   \n",
       "2366          1.0       0.0            0.0               0.0              1.0   \n",
       "2367          1.0       0.0            0.0               0.0              0.0   \n",
       "2368          1.0       0.0            0.0               1.0              0.0   \n",
       "2369          0.0       1.0            0.0               0.0              0.0   \n",
       "\n",
       "      Garage_Builtin  Garage_Attached  \n",
       "2365             0.0              0.0  \n",
       "2366             0.0              0.0  \n",
       "2367             0.0              1.0  \n",
       "2368             0.0              0.0  \n",
       "2369             0.0              1.0  \n",
       "\n",
       "[5 rows x 52 columns]"
      ]
     },
     "metadata": {},
     "output_type": "display_data"
    },
    {
     "data": {
      "text/html": [
       "<div>\n",
       "<style scoped>\n",
       "    .dataframe tbody tr th:only-of-type {\n",
       "        vertical-align: middle;\n",
       "    }\n",
       "\n",
       "    .dataframe tbody tr th {\n",
       "        vertical-align: top;\n",
       "    }\n",
       "\n",
       "    .dataframe thead th {\n",
       "        text-align: right;\n",
       "    }\n",
       "</style>\n",
       "<table border=\"1\" class=\"dataframe\">\n",
       "  <thead>\n",
       "    <tr style=\"text-align: right;\">\n",
       "      <th></th>\n",
       "      <th>VeneerExteriorLog1p_z</th>\n",
       "    </tr>\n",
       "  </thead>\n",
       "  <tbody>\n",
       "    <tr>\n",
       "      <th>0</th>\n",
       "      <td>1.086051</td>\n",
       "    </tr>\n",
       "    <tr>\n",
       "      <th>1</th>\n",
       "      <td>-0.762629</td>\n",
       "    </tr>\n",
       "    <tr>\n",
       "      <th>2</th>\n",
       "      <td>1.071958</td>\n",
       "    </tr>\n",
       "    <tr>\n",
       "      <th>3</th>\n",
       "      <td>-0.762629</td>\n",
       "    </tr>\n",
       "    <tr>\n",
       "      <th>4</th>\n",
       "      <td>-0.762629</td>\n",
       "    </tr>\n",
       "  </tbody>\n",
       "</table>\n",
       "</div>"
      ],
      "text/plain": [
       "   VeneerExteriorLog1p_z\n",
       "0               1.086051\n",
       "1              -0.762629\n",
       "2               1.071958\n",
       "3              -0.762629\n",
       "4              -0.762629"
      ]
     },
     "metadata": {},
     "output_type": "display_data"
    }
   ],
   "source": [
    "# run ColumnTransformer and Pipelines, make dataframe\n",
    "outputPreprocessor = preprocessor.fit_transform(X)\n",
    "dfPreprocessed = pd.DataFrame(outputPreprocessor, columns=labelsPreprocessor, index=X.index)\n",
    "display(dfPreprocessed.shape, dfPreprocessed.head(), dfPreprocessed.tail(), dfPreprocessed[['VeneerExteriorLog1p_z']].head())"
   ]
  },
  {
   "cell_type": "code",
   "execution_count": 1178,
   "metadata": {},
   "outputs": [
    {
     "data": {
      "text/html": [
       "<div>\n",
       "<style scoped>\n",
       "    .dataframe tbody tr th:only-of-type {\n",
       "        vertical-align: middle;\n",
       "    }\n",
       "\n",
       "    .dataframe tbody tr th {\n",
       "        vertical-align: top;\n",
       "    }\n",
       "\n",
       "    .dataframe thead th {\n",
       "        text-align: right;\n",
       "    }\n",
       "</style>\n",
       "<table border=\"1\" class=\"dataframe\">\n",
       "  <thead>\n",
       "    <tr style=\"text-align: right;\">\n",
       "      <th></th>\n",
       "      <th>BldgTp Town</th>\n",
       "      <th>BldgTp Detached</th>\n",
       "      <th>LotShape NR</th>\n",
       "      <th>LotShape R</th>\n",
       "      <th>BsmtFinTp UF</th>\n",
       "      <th>BsmtFiinTp F</th>\n",
       "      <th>FullBathBsmt not</th>\n",
       "      <th>FullBathBsmt yes</th>\n",
       "      <th>HalfBathHouse not</th>\n",
       "      <th>HalfBathHouse yes</th>\n",
       "    </tr>\n",
       "  </thead>\n",
       "  <tbody>\n",
       "    <tr>\n",
       "      <th>0</th>\n",
       "      <td>0.0</td>\n",
       "      <td>0.707</td>\n",
       "      <td>0.707</td>\n",
       "      <td>0.000</td>\n",
       "      <td>0.0</td>\n",
       "      <td>0.707</td>\n",
       "      <td>0.000</td>\n",
       "      <td>0.707</td>\n",
       "      <td>0.707</td>\n",
       "      <td>0.000</td>\n",
       "    </tr>\n",
       "    <tr>\n",
       "      <th>1</th>\n",
       "      <td>0.0</td>\n",
       "      <td>0.707</td>\n",
       "      <td>0.000</td>\n",
       "      <td>0.707</td>\n",
       "      <td>0.0</td>\n",
       "      <td>0.707</td>\n",
       "      <td>0.707</td>\n",
       "      <td>0.000</td>\n",
       "      <td>0.707</td>\n",
       "      <td>0.000</td>\n",
       "    </tr>\n",
       "    <tr>\n",
       "      <th>2</th>\n",
       "      <td>0.0</td>\n",
       "      <td>0.707</td>\n",
       "      <td>0.707</td>\n",
       "      <td>0.000</td>\n",
       "      <td>0.0</td>\n",
       "      <td>0.707</td>\n",
       "      <td>0.707</td>\n",
       "      <td>0.000</td>\n",
       "      <td>0.000</td>\n",
       "      <td>0.707</td>\n",
       "    </tr>\n",
       "    <tr>\n",
       "      <th>3</th>\n",
       "      <td>0.0</td>\n",
       "      <td>0.707</td>\n",
       "      <td>0.000</td>\n",
       "      <td>0.707</td>\n",
       "      <td>0.0</td>\n",
       "      <td>0.707</td>\n",
       "      <td>0.000</td>\n",
       "      <td>0.707</td>\n",
       "      <td>0.000</td>\n",
       "      <td>0.707</td>\n",
       "    </tr>\n",
       "    <tr>\n",
       "      <th>4</th>\n",
       "      <td>0.0</td>\n",
       "      <td>0.707</td>\n",
       "      <td>0.707</td>\n",
       "      <td>0.000</td>\n",
       "      <td>0.0</td>\n",
       "      <td>0.707</td>\n",
       "      <td>0.707</td>\n",
       "      <td>0.000</td>\n",
       "      <td>0.000</td>\n",
       "      <td>0.707</td>\n",
       "    </tr>\n",
       "  </tbody>\n",
       "</table>\n",
       "</div>"
      ],
      "text/plain": [
       "   BldgTp Town  BldgTp Detached  LotShape NR  LotShape R  BsmtFinTp UF  \\\n",
       "0          0.0            0.707        0.707       0.000           0.0   \n",
       "1          0.0            0.707        0.000       0.707           0.0   \n",
       "2          0.0            0.707        0.707       0.000           0.0   \n",
       "3          0.0            0.707        0.000       0.707           0.0   \n",
       "4          0.0            0.707        0.707       0.000           0.0   \n",
       "\n",
       "   BsmtFiinTp F  FullBathBsmt not  FullBathBsmt yes  HalfBathHouse not  \\\n",
       "0         0.707             0.000             0.707              0.707   \n",
       "1         0.707             0.707             0.000              0.707   \n",
       "2         0.707             0.707             0.000              0.000   \n",
       "3         0.707             0.000             0.707              0.000   \n",
       "4         0.707             0.707             0.000              0.000   \n",
       "\n",
       "   HalfBathHouse yes  \n",
       "0              0.000  \n",
       "1              0.000  \n",
       "2              0.707  \n",
       "3              0.707  \n",
       "4              0.707  "
      ]
     },
     "execution_count": 1178,
     "metadata": {},
     "output_type": "execute_result"
    }
   ],
   "source": [
    "# adjust the \"weight\" of all flag variables: from 1 to 0.707\n",
    "dfWeightedFlags = dfPreprocessed[labelsPpl1].replace(to_replace={1: 0.707})\n",
    "dfWeightedFlags.head()"
   ]
  },
  {
   "cell_type": "code",
   "execution_count": 1179,
   "metadata": {},
   "outputs": [
    {
     "data": {
      "text/plain": [
       "(2370, 52)"
      ]
     },
     "metadata": {},
     "output_type": "display_data"
    },
    {
     "data": {
      "text/html": [
       "<div>\n",
       "<style scoped>\n",
       "    .dataframe tbody tr th:only-of-type {\n",
       "        vertical-align: middle;\n",
       "    }\n",
       "\n",
       "    .dataframe tbody tr th {\n",
       "        vertical-align: top;\n",
       "    }\n",
       "\n",
       "    .dataframe thead th {\n",
       "        text-align: right;\n",
       "    }\n",
       "</style>\n",
       "<table border=\"1\" class=\"dataframe\">\n",
       "  <thead>\n",
       "    <tr style=\"text-align: right;\">\n",
       "      <th></th>\n",
       "      <th>BldgTp Town</th>\n",
       "      <th>BldgTp Detached</th>\n",
       "      <th>LotShape NR</th>\n",
       "      <th>LotShape R</th>\n",
       "      <th>BsmtFinTp UF</th>\n",
       "      <th>BsmtFiinTp F</th>\n",
       "      <th>FullBathBsmt not</th>\n",
       "      <th>FullBathBsmt yes</th>\n",
       "      <th>HalfBathHouse not</th>\n",
       "      <th>HalfBathHouse yes</th>\n",
       "      <th>...</th>\n",
       "      <th>OC_Very Good</th>\n",
       "      <th>OC_Excellent</th>\n",
       "      <th>HQC_Fair</th>\n",
       "      <th>HQC_Average</th>\n",
       "      <th>HQC_Good</th>\n",
       "      <th>HQC_Excellent</th>\n",
       "      <th>Garage_No garage</th>\n",
       "      <th>Garage_Detached</th>\n",
       "      <th>Garage_Builtin</th>\n",
       "      <th>Garage_Attached</th>\n",
       "    </tr>\n",
       "  </thead>\n",
       "  <tbody>\n",
       "    <tr>\n",
       "      <th>0</th>\n",
       "      <td>0.0</td>\n",
       "      <td>0.707</td>\n",
       "      <td>0.707</td>\n",
       "      <td>0.000</td>\n",
       "      <td>0.0</td>\n",
       "      <td>0.707</td>\n",
       "      <td>0.000</td>\n",
       "      <td>0.707</td>\n",
       "      <td>0.707</td>\n",
       "      <td>0.000</td>\n",
       "      <td>...</td>\n",
       "      <td>0.0</td>\n",
       "      <td>0.0</td>\n",
       "      <td>1.0</td>\n",
       "      <td>0.0</td>\n",
       "      <td>0.0</td>\n",
       "      <td>0.0</td>\n",
       "      <td>0.0</td>\n",
       "      <td>0.0</td>\n",
       "      <td>0.0</td>\n",
       "      <td>1.0</td>\n",
       "    </tr>\n",
       "    <tr>\n",
       "      <th>1</th>\n",
       "      <td>0.0</td>\n",
       "      <td>0.707</td>\n",
       "      <td>0.000</td>\n",
       "      <td>0.707</td>\n",
       "      <td>0.0</td>\n",
       "      <td>0.707</td>\n",
       "      <td>0.707</td>\n",
       "      <td>0.000</td>\n",
       "      <td>0.707</td>\n",
       "      <td>0.000</td>\n",
       "      <td>...</td>\n",
       "      <td>0.0</td>\n",
       "      <td>0.0</td>\n",
       "      <td>0.0</td>\n",
       "      <td>1.0</td>\n",
       "      <td>0.0</td>\n",
       "      <td>0.0</td>\n",
       "      <td>0.0</td>\n",
       "      <td>0.0</td>\n",
       "      <td>0.0</td>\n",
       "      <td>1.0</td>\n",
       "    </tr>\n",
       "    <tr>\n",
       "      <th>2</th>\n",
       "      <td>0.0</td>\n",
       "      <td>0.707</td>\n",
       "      <td>0.707</td>\n",
       "      <td>0.000</td>\n",
       "      <td>0.0</td>\n",
       "      <td>0.707</td>\n",
       "      <td>0.707</td>\n",
       "      <td>0.000</td>\n",
       "      <td>0.000</td>\n",
       "      <td>0.707</td>\n",
       "      <td>...</td>\n",
       "      <td>0.0</td>\n",
       "      <td>0.0</td>\n",
       "      <td>0.0</td>\n",
       "      <td>1.0</td>\n",
       "      <td>0.0</td>\n",
       "      <td>0.0</td>\n",
       "      <td>0.0</td>\n",
       "      <td>0.0</td>\n",
       "      <td>0.0</td>\n",
       "      <td>1.0</td>\n",
       "    </tr>\n",
       "    <tr>\n",
       "      <th>3</th>\n",
       "      <td>0.0</td>\n",
       "      <td>0.707</td>\n",
       "      <td>0.000</td>\n",
       "      <td>0.707</td>\n",
       "      <td>0.0</td>\n",
       "      <td>0.707</td>\n",
       "      <td>0.000</td>\n",
       "      <td>0.707</td>\n",
       "      <td>0.000</td>\n",
       "      <td>0.707</td>\n",
       "      <td>...</td>\n",
       "      <td>0.0</td>\n",
       "      <td>0.0</td>\n",
       "      <td>0.0</td>\n",
       "      <td>0.0</td>\n",
       "      <td>0.0</td>\n",
       "      <td>1.0</td>\n",
       "      <td>0.0</td>\n",
       "      <td>0.0</td>\n",
       "      <td>0.0</td>\n",
       "      <td>1.0</td>\n",
       "    </tr>\n",
       "    <tr>\n",
       "      <th>4</th>\n",
       "      <td>0.0</td>\n",
       "      <td>0.707</td>\n",
       "      <td>0.707</td>\n",
       "      <td>0.000</td>\n",
       "      <td>0.0</td>\n",
       "      <td>0.707</td>\n",
       "      <td>0.707</td>\n",
       "      <td>0.000</td>\n",
       "      <td>0.000</td>\n",
       "      <td>0.707</td>\n",
       "      <td>...</td>\n",
       "      <td>0.0</td>\n",
       "      <td>0.0</td>\n",
       "      <td>0.0</td>\n",
       "      <td>0.0</td>\n",
       "      <td>1.0</td>\n",
       "      <td>0.0</td>\n",
       "      <td>0.0</td>\n",
       "      <td>0.0</td>\n",
       "      <td>0.0</td>\n",
       "      <td>1.0</td>\n",
       "    </tr>\n",
       "  </tbody>\n",
       "</table>\n",
       "<p>5 rows × 52 columns</p>\n",
       "</div>"
      ],
      "text/plain": [
       "   BldgTp Town  BldgTp Detached  LotShape NR  LotShape R  BsmtFinTp UF  \\\n",
       "0          0.0            0.707        0.707       0.000           0.0   \n",
       "1          0.0            0.707        0.000       0.707           0.0   \n",
       "2          0.0            0.707        0.707       0.000           0.0   \n",
       "3          0.0            0.707        0.000       0.707           0.0   \n",
       "4          0.0            0.707        0.707       0.000           0.0   \n",
       "\n",
       "   BsmtFiinTp F  FullBathBsmt not  FullBathBsmt yes  HalfBathHouse not  \\\n",
       "0         0.707             0.000             0.707              0.707   \n",
       "1         0.707             0.707             0.000              0.707   \n",
       "2         0.707             0.707             0.000              0.000   \n",
       "3         0.707             0.000             0.707              0.000   \n",
       "4         0.707             0.707             0.000              0.000   \n",
       "\n",
       "   HalfBathHouse yes  ...  OC_Very Good  OC_Excellent  HQC_Fair  HQC_Average  \\\n",
       "0              0.000  ...           0.0           0.0       1.0          0.0   \n",
       "1              0.000  ...           0.0           0.0       0.0          1.0   \n",
       "2              0.707  ...           0.0           0.0       0.0          1.0   \n",
       "3              0.707  ...           0.0           0.0       0.0          0.0   \n",
       "4              0.707  ...           0.0           0.0       0.0          0.0   \n",
       "\n",
       "   HQC_Good  HQC_Excellent  Garage_No garage  Garage_Detached  Garage_Builtin  \\\n",
       "0       0.0            0.0               0.0              0.0             0.0   \n",
       "1       0.0            0.0               0.0              0.0             0.0   \n",
       "2       0.0            0.0               0.0              0.0             0.0   \n",
       "3       0.0            1.0               0.0              0.0             0.0   \n",
       "4       1.0            0.0               0.0              0.0             0.0   \n",
       "\n",
       "   Garage_Attached  \n",
       "0              1.0  \n",
       "1              1.0  \n",
       "2              1.0  \n",
       "3              1.0  \n",
       "4              1.0  \n",
       "\n",
       "[5 rows x 52 columns]"
      ]
     },
     "metadata": {},
     "output_type": "display_data"
    },
    {
     "data": {
      "text/html": [
       "<div>\n",
       "<style scoped>\n",
       "    .dataframe tbody tr th:only-of-type {\n",
       "        vertical-align: middle;\n",
       "    }\n",
       "\n",
       "    .dataframe tbody tr th {\n",
       "        vertical-align: top;\n",
       "    }\n",
       "\n",
       "    .dataframe thead th {\n",
       "        text-align: right;\n",
       "    }\n",
       "</style>\n",
       "<table border=\"1\" class=\"dataframe\">\n",
       "  <thead>\n",
       "    <tr style=\"text-align: right;\">\n",
       "      <th></th>\n",
       "      <th>BldgTp Town</th>\n",
       "      <th>BldgTp Detached</th>\n",
       "      <th>LotShape NR</th>\n",
       "      <th>LotShape R</th>\n",
       "      <th>BsmtFinTp UF</th>\n",
       "      <th>BsmtFiinTp F</th>\n",
       "      <th>FullBathBsmt not</th>\n",
       "      <th>FullBathBsmt yes</th>\n",
       "      <th>HalfBathHouse not</th>\n",
       "      <th>HalfBathHouse yes</th>\n",
       "      <th>...</th>\n",
       "      <th>OC_Very Good</th>\n",
       "      <th>OC_Excellent</th>\n",
       "      <th>HQC_Fair</th>\n",
       "      <th>HQC_Average</th>\n",
       "      <th>HQC_Good</th>\n",
       "      <th>HQC_Excellent</th>\n",
       "      <th>Garage_No garage</th>\n",
       "      <th>Garage_Detached</th>\n",
       "      <th>Garage_Builtin</th>\n",
       "      <th>Garage_Attached</th>\n",
       "    </tr>\n",
       "  </thead>\n",
       "  <tbody>\n",
       "    <tr>\n",
       "      <th>2365</th>\n",
       "      <td>0.0</td>\n",
       "      <td>0.707</td>\n",
       "      <td>0.000</td>\n",
       "      <td>0.707</td>\n",
       "      <td>0.0</td>\n",
       "      <td>0.707</td>\n",
       "      <td>0.000</td>\n",
       "      <td>0.707</td>\n",
       "      <td>0.707</td>\n",
       "      <td>0.0</td>\n",
       "      <td>...</td>\n",
       "      <td>0.0</td>\n",
       "      <td>0.0</td>\n",
       "      <td>0.0</td>\n",
       "      <td>0.0</td>\n",
       "      <td>0.0</td>\n",
       "      <td>1.0</td>\n",
       "      <td>0.0</td>\n",
       "      <td>1.0</td>\n",
       "      <td>0.0</td>\n",
       "      <td>0.0</td>\n",
       "    </tr>\n",
       "    <tr>\n",
       "      <th>2366</th>\n",
       "      <td>0.0</td>\n",
       "      <td>0.707</td>\n",
       "      <td>0.707</td>\n",
       "      <td>0.000</td>\n",
       "      <td>0.0</td>\n",
       "      <td>0.707</td>\n",
       "      <td>0.000</td>\n",
       "      <td>0.707</td>\n",
       "      <td>0.707</td>\n",
       "      <td>0.0</td>\n",
       "      <td>...</td>\n",
       "      <td>0.0</td>\n",
       "      <td>0.0</td>\n",
       "      <td>0.0</td>\n",
       "      <td>1.0</td>\n",
       "      <td>0.0</td>\n",
       "      <td>0.0</td>\n",
       "      <td>0.0</td>\n",
       "      <td>1.0</td>\n",
       "      <td>0.0</td>\n",
       "      <td>0.0</td>\n",
       "    </tr>\n",
       "    <tr>\n",
       "      <th>2367</th>\n",
       "      <td>0.0</td>\n",
       "      <td>0.707</td>\n",
       "      <td>0.707</td>\n",
       "      <td>0.000</td>\n",
       "      <td>0.0</td>\n",
       "      <td>0.707</td>\n",
       "      <td>0.000</td>\n",
       "      <td>0.707</td>\n",
       "      <td>0.707</td>\n",
       "      <td>0.0</td>\n",
       "      <td>...</td>\n",
       "      <td>0.0</td>\n",
       "      <td>0.0</td>\n",
       "      <td>0.0</td>\n",
       "      <td>1.0</td>\n",
       "      <td>0.0</td>\n",
       "      <td>0.0</td>\n",
       "      <td>0.0</td>\n",
       "      <td>0.0</td>\n",
       "      <td>0.0</td>\n",
       "      <td>1.0</td>\n",
       "    </tr>\n",
       "    <tr>\n",
       "      <th>2368</th>\n",
       "      <td>0.0</td>\n",
       "      <td>0.707</td>\n",
       "      <td>0.000</td>\n",
       "      <td>0.707</td>\n",
       "      <td>0.0</td>\n",
       "      <td>0.707</td>\n",
       "      <td>0.707</td>\n",
       "      <td>0.000</td>\n",
       "      <td>0.707</td>\n",
       "      <td>0.0</td>\n",
       "      <td>...</td>\n",
       "      <td>0.0</td>\n",
       "      <td>0.0</td>\n",
       "      <td>0.0</td>\n",
       "      <td>1.0</td>\n",
       "      <td>0.0</td>\n",
       "      <td>0.0</td>\n",
       "      <td>1.0</td>\n",
       "      <td>0.0</td>\n",
       "      <td>0.0</td>\n",
       "      <td>0.0</td>\n",
       "    </tr>\n",
       "    <tr>\n",
       "      <th>2369</th>\n",
       "      <td>0.0</td>\n",
       "      <td>0.707</td>\n",
       "      <td>0.000</td>\n",
       "      <td>0.707</td>\n",
       "      <td>0.0</td>\n",
       "      <td>0.707</td>\n",
       "      <td>0.000</td>\n",
       "      <td>0.707</td>\n",
       "      <td>0.707</td>\n",
       "      <td>0.0</td>\n",
       "      <td>...</td>\n",
       "      <td>0.0</td>\n",
       "      <td>0.0</td>\n",
       "      <td>0.0</td>\n",
       "      <td>0.0</td>\n",
       "      <td>1.0</td>\n",
       "      <td>0.0</td>\n",
       "      <td>0.0</td>\n",
       "      <td>0.0</td>\n",
       "      <td>0.0</td>\n",
       "      <td>1.0</td>\n",
       "    </tr>\n",
       "  </tbody>\n",
       "</table>\n",
       "<p>5 rows × 52 columns</p>\n",
       "</div>"
      ],
      "text/plain": [
       "      BldgTp Town  BldgTp Detached  LotShape NR  LotShape R  BsmtFinTp UF  \\\n",
       "2365          0.0            0.707        0.000       0.707           0.0   \n",
       "2366          0.0            0.707        0.707       0.000           0.0   \n",
       "2367          0.0            0.707        0.707       0.000           0.0   \n",
       "2368          0.0            0.707        0.000       0.707           0.0   \n",
       "2369          0.0            0.707        0.000       0.707           0.0   \n",
       "\n",
       "      BsmtFiinTp F  FullBathBsmt not  FullBathBsmt yes  HalfBathHouse not  \\\n",
       "2365         0.707             0.000             0.707              0.707   \n",
       "2366         0.707             0.000             0.707              0.707   \n",
       "2367         0.707             0.000             0.707              0.707   \n",
       "2368         0.707             0.707             0.000              0.707   \n",
       "2369         0.707             0.000             0.707              0.707   \n",
       "\n",
       "      HalfBathHouse yes  ...  OC_Very Good  OC_Excellent  HQC_Fair  \\\n",
       "2365                0.0  ...           0.0           0.0       0.0   \n",
       "2366                0.0  ...           0.0           0.0       0.0   \n",
       "2367                0.0  ...           0.0           0.0       0.0   \n",
       "2368                0.0  ...           0.0           0.0       0.0   \n",
       "2369                0.0  ...           0.0           0.0       0.0   \n",
       "\n",
       "      HQC_Average  HQC_Good  HQC_Excellent  Garage_No garage  Garage_Detached  \\\n",
       "2365          0.0       0.0            1.0               0.0              1.0   \n",
       "2366          1.0       0.0            0.0               0.0              1.0   \n",
       "2367          1.0       0.0            0.0               0.0              0.0   \n",
       "2368          1.0       0.0            0.0               1.0              0.0   \n",
       "2369          0.0       1.0            0.0               0.0              0.0   \n",
       "\n",
       "      Garage_Builtin  Garage_Attached  \n",
       "2365             0.0              0.0  \n",
       "2366             0.0              0.0  \n",
       "2367             0.0              1.0  \n",
       "2368             0.0              0.0  \n",
       "2369             0.0              1.0  \n",
       "\n",
       "[5 rows x 52 columns]"
      ]
     },
     "metadata": {},
     "output_type": "display_data"
    }
   ],
   "source": [
    "# make new dataframe for kNN only if needed\n",
    "dfPreprocessedKNN = dfPreprocessed.copy()\n",
    "dfPreprocessedKNN[labelsPpl1] = dfWeightedFlags\n",
    "display(dfPreprocessedKNN.shape, dfPreprocessedKNN.head(), dfPreprocessedKNN.tail())"
   ]
  },
  {
   "cell_type": "markdown",
   "metadata": {},
   "source": [
    "***\n",
    "# Modeling & Evaluation"
   ]
  },
  {
   "cell_type": "markdown",
   "metadata": {},
   "source": [
    "## Step 3: Build Models"
   ]
  },
  {
   "cell_type": "code",
   "execution_count": 1180,
   "metadata": {},
   "outputs": [
    {
     "data": {
      "text/html": [
       "<div>\n",
       "<style scoped>\n",
       "    .dataframe tbody tr th:only-of-type {\n",
       "        vertical-align: middle;\n",
       "    }\n",
       "\n",
       "    .dataframe tbody tr th {\n",
       "        vertical-align: top;\n",
       "    }\n",
       "\n",
       "    .dataframe thead th {\n",
       "        text-align: right;\n",
       "    }\n",
       "</style>\n",
       "<table border=\"1\" class=\"dataframe\">\n",
       "  <thead>\n",
       "    <tr style=\"text-align: right;\">\n",
       "      <th></th>\n",
       "      <th>SalePrice</th>\n",
       "    </tr>\n",
       "  </thead>\n",
       "  <tbody>\n",
       "    <tr>\n",
       "      <th>0</th>\n",
       "      <td>0.644154</td>\n",
       "    </tr>\n",
       "    <tr>\n",
       "      <th>1</th>\n",
       "      <td>-1.072790</td>\n",
       "    </tr>\n",
       "    <tr>\n",
       "      <th>2</th>\n",
       "      <td>-0.027015</td>\n",
       "    </tr>\n",
       "  </tbody>\n",
       "</table>\n",
       "</div>"
      ],
      "text/plain": [
       "   SalePrice\n",
       "0   0.644154\n",
       "1  -1.072790\n",
       "2  -0.027015"
      ]
     },
     "execution_count": 1180,
     "metadata": {},
     "output_type": "execute_result"
    }
   ],
   "source": [
    "# Y_final for models\n",
    "yScaler = preprocessing.StandardScaler()\n",
    "Y_final = pd.DataFrame(yScaler.fit_transform(Y), columns=['SalePrice'])\n",
    "Y_final.head(3)"
   ]
  },
  {
   "cell_type": "code",
   "execution_count": 1181,
   "metadata": {},
   "outputs": [
    {
     "name": "stdout",
     "output_type": "stream",
     "text": [
      "Original values of \"SalePrice\" in the first 5 rows: [215000, 105000, 172000, 244000, 189900]\n",
      "After z-standardization, values are: [0.64, -1.07, -0.03, 1.1, 0.25]\n",
      "Finally, after reversing standardization, values should be almost the same as original: [215000, 105000, 172000, 244000, 189900]. Success!\n"
     ]
    }
   ],
   "source": [
    "print(f'Original values of \"SalePrice\" in the first 5 rows: {Y[\"SalePrice\"].head().tolist()}')\n",
    "print(f'After z-standardization, values are: {np.round(Y_final[\"SalePrice\"].head(), 2).tolist()}')\n",
    "# .flatten() method is used because the output is a nested ndarray\n",
    "print('Finally, after reversing standardization, values should be almost the same as original: {}. Success!'.format(\n",
    "    yScaler.inverse_transform(Y_final)[:5].astype(int).flatten().tolist()\n",
    "))"
   ]
  },
  {
   "cell_type": "code",
   "execution_count": 1182,
   "metadata": {},
   "outputs": [
    {
     "data": {
      "text/plain": [
       "((2370, 52), 0)"
      ]
     },
     "execution_count": 1182,
     "metadata": {},
     "output_type": "execute_result"
    }
   ],
   "source": [
    "# X_finalKNN for kNN only if needed\n",
    "X_finalKNN = dfPreprocessedKNN\n",
    "X_finalKNN.shape, X_finalKNN.isnull().sum().sum()"
   ]
  },
  {
   "cell_type": "code",
   "execution_count": 1183,
   "metadata": {},
   "outputs": [
    {
     "data": {
      "text/plain": [
       "((2370, 52), 0)"
      ]
     },
     "execution_count": 1183,
     "metadata": {},
     "output_type": "execute_result"
    }
   ],
   "source": [
    "# X_final for linear regression only\n",
    "X_final = dfPreprocessed\n",
    "X_final.shape, X_final.isnull().sum().sum()"
   ]
  },
  {
   "cell_type": "markdown",
   "metadata": {},
   "source": [
    "Linear Regression Model"
   ]
  },
  {
   "cell_type": "code",
   "execution_count": 1184,
   "metadata": {},
   "outputs": [],
   "source": [
    "\n",
    "from sklearn.feature_selection import RFE"
   ]
  },
  {
   "cell_type": "code",
   "execution_count": 1185,
   "metadata": {},
   "outputs": [],
   "source": [
    "# first, define a linear regression instance\n",
    "regRFE = lm.LinearRegression()"
   ]
  },
  {
   "cell_type": "code",
   "execution_count": 1186,
   "metadata": {},
   "outputs": [],
   "source": [
    "# second, define an RFE which retains 27 most significant inputs\n",
    "rfe_15 = RFE(regRFE, n_features_to_select=27)"
   ]
  },
  {
   "cell_type": "code",
   "execution_count": 1187,
   "metadata": {},
   "outputs": [
    {
     "data": {
      "text/plain": [
       "RFE(estimator=LinearRegression(), n_features_to_select=27)"
      ]
     },
     "execution_count": 1187,
     "metadata": {},
     "output_type": "execute_result"
    }
   ],
   "source": [
    "# third, fit this rfe\n",
    "rfe_15.fit(X=X_final, y=Y_final['SalePrice'])"
   ]
  },
  {
   "cell_type": "code",
   "execution_count": 1188,
   "metadata": {},
   "outputs": [
    {
     "data": {
      "text/plain": [
       "27"
      ]
     },
     "metadata": {},
     "output_type": "display_data"
    },
    {
     "data": {
      "text/plain": [
       "Index(['BldgTp Town', 'BldgTp Detached', 'LotShape NR', 'LotShape R',\n",
       "       'BsmtFinTp UF', 'BsmtFiinTp F', 'FullBathBsmt not', 'FullBathBsmt yes',\n",
       "       'HalfBathHouse not', 'HalfBathHouse yes', 'OQ_Poor', 'OQ_Fair',\n",
       "       'OQ_Below Average', 'OQ_Average', 'OQ_Above Average', 'OQ_Good',\n",
       "       'OQ_Very Good', 'OQ_Excellent', 'OQ_Very Excellent', 'HQC_Fair',\n",
       "       'HQC_Average', 'HQC_Good', 'HQC_Excellent', 'Garage_No garage',\n",
       "       'Garage_Detached', 'Garage_Builtin', 'Garage_Attached'],\n",
       "      dtype='object')"
      ]
     },
     "metadata": {},
     "output_type": "display_data"
    }
   ],
   "source": [
    "# get the names of the retained columns\n",
    "display(X_final.columns[rfe_15.get_support()].shape[0],\n",
    "        X_final.columns[rfe_15.get_support()])"
   ]
  },
  {
   "cell_type": "code",
   "execution_count": 1189,
   "metadata": {},
   "outputs": [
    {
     "data": {
      "text/plain": [
       "(52, 11)"
      ]
     },
     "metadata": {},
     "output_type": "display_data"
    },
    {
     "data": {
      "text/plain": [
       "retained_1      1\n",
       "retained_2      2\n",
       "retained_3      3\n",
       "retained_4      4\n",
       "retained_5      5\n",
       "retained_6      6\n",
       "retained_7      7\n",
       "retained_8      8\n",
       "retained_9      9\n",
       "retained_10    10\n",
       "retained_11    11\n",
       "dtype: int64"
      ]
     },
     "metadata": {},
     "output_type": "display_data"
    }
   ],
   "source": [
    "# fit 12 times each with a different n_features_to_select value -- result stored in 18 columns\n",
    "df_retained_bool = pd.DataFrame()\n",
    "for i in range(1, 12):\n",
    "    rfe_temp = RFE(regRFE, n_features_to_select = i)\n",
    "    rfe_temp.fit(X = X_final, y = Y_final['SalePrice'])\n",
    "    df_retained_bool['retained_' + str(i)] = rfe_temp.get_support()\n",
    "\n",
    "display(df_retained_bool.shape, df_retained_bool.sum())"
   ]
  },
  {
   "cell_type": "code",
   "execution_count": 1190,
   "metadata": {},
   "outputs": [
    {
     "data": {
      "text/plain": [
       "(10, 11)"
      ]
     },
     "execution_count": 1190,
     "metadata": {},
     "output_type": "execute_result"
    }
   ],
   "source": [
    "# using the 11 iterations of selected features, calculate their x-valid scores for each\n",
    "regression = lm.LinearRegression()\n",
    "df_xvalid_reg = pd.DataFrame()\n",
    "for label, content in df_retained_bool.iteritems():\n",
    "    selected_labels_list = X_final.columns[content.to_numpy()]\n",
    "    df_xvalid_reg[label] = cross_val_score(regression, X = X_final[selected_labels_list], y = Y_final['SalePrice'], cv = 10, \n",
    "                                           scoring = 'neg_mean_squared_error')\n",
    "\n",
    "df_xvalid_reg.shape"
   ]
  },
  {
   "cell_type": "code",
   "execution_count": 1191,
   "metadata": {},
   "outputs": [
    {
     "data": {
      "text/plain": [
       "retained_1    -0.958653\n",
       "retained_2    -0.959182\n",
       "retained_3    -0.862580\n",
       "retained_4    -0.862310\n",
       "retained_5    -0.862284\n",
       "retained_6    -0.786653\n",
       "retained_7    -0.522629\n",
       "retained_8    -0.388072\n",
       "retained_9    -0.349456\n",
       "retained_10   -0.340424\n",
       "retained_11   -0.339963\n",
       "dtype: float64"
      ]
     },
     "execution_count": 1191,
     "metadata": {},
     "output_type": "execute_result"
    }
   ],
   "source": [
    "xvalid_mean_reg = df_xvalid_reg.mean()\n",
    "xvalid_mean_reg"
   ]
  },
  {
   "cell_type": "markdown",
   "metadata": {},
   "source": [
    "kNN model"
   ]
  },
  {
   "cell_type": "code",
   "execution_count": 1192,
   "metadata": {},
   "outputs": [
    {
     "data": {
      "text/plain": [
       "(10, 7)"
      ]
     },
     "execution_count": 1192,
     "metadata": {},
     "output_type": "execute_result"
    }
   ],
   "source": [
    "df_xvalid_knnlwa = pd.DataFrame()\n",
    "for i in range(2, 16, 2):\n",
    "    # define a kNN instance\n",
    "    knnlwa_temp = knn.KNeighborsRegressor(n_neighbors=i, weights='distance')\n",
    "    df_xvalid_knnlwa['k_' + str(i)] = cross_val_score(knnlwa_temp, X = X_finalKNN, y = Y_final['SalePrice'], cv = 10, \n",
    "                                                      scoring = 'neg_mean_squared_error')\n",
    "\n",
    "df_xvalid_knnlwa.shape"
   ]
  },
  {
   "cell_type": "code",
   "execution_count": 1193,
   "metadata": {},
   "outputs": [
    {
     "data": {
      "text/plain": [
       "k_2    -0.184255\n",
       "k_4    -0.156677\n",
       "k_6    -0.147163\n",
       "k_8    -0.143138\n",
       "k_10   -0.144639\n",
       "k_12   -0.145933\n",
       "k_14   -0.148229\n",
       "dtype: float64"
      ]
     },
     "execution_count": 1193,
     "metadata": {},
     "output_type": "execute_result"
    }
   ],
   "source": [
    "xvalid_mean_knnlwa = df_xvalid_knnlwa.mean()\n",
    "xvalid_mean_knnlwa"
   ]
  },
  {
   "cell_type": "code",
   "execution_count": 1194,
   "metadata": {},
   "outputs": [],
   "source": [
    "##Evaluation"
   ]
  },
  {
   "cell_type": "code",
   "execution_count": 1195,
   "metadata": {},
   "outputs": [],
   "source": [
    "## Regression Model"
   ]
  },
  {
   "cell_type": "code",
   "execution_count": 1196,
   "metadata": {},
   "outputs": [
    {
     "data": {
      "image/png": "[encoded data removed]",
      "text/plain": [
       "<Figure size 432x288 with 1 Axes>"
      ]
     },
     "metadata": {},
     "output_type": "display_data"
    }
   ],
   "source": [
    "newfig = plt.figure(figsize=(6,4))\n",
    "# below codes use an anonymous function\n",
    "s_numbering = pd.Series(xvalid_mean_reg.index).apply(lambda x:x[9:]).astype(int)\n",
    "xvalid_mean_reg_copy = xvalid_mean_reg.copy()\n",
    "xvalid_mean_reg_copy.index = s_numbering\n",
    "figXvalReg = xvalid_mean_reg_copy.plot.line()"
   ]
  },
  {
   "cell_type": "code",
   "execution_count": 1197,
   "metadata": {},
   "outputs": [],
   "source": [
    "## 12 selected features has the highest score"
   ]
  },
  {
   "cell_type": "code",
   "execution_count": 1198,
   "metadata": {},
   "outputs": [
    {
     "data": {
      "text/plain": [
       "[<matplotlib.axis.XTick at 0x1cde050b898>,\n",
       " <matplotlib.axis.XTick at 0x1cde052c048>,\n",
       " <matplotlib.axis.XTick at 0x1cde053e630>,\n",
       " <matplotlib.axis.XTick at 0x1cde054c9b0>,\n",
       " <matplotlib.axis.XTick at 0x1cde054ce48>,\n",
       " <matplotlib.axis.XTick at 0x1cde0554320>,\n",
       " <matplotlib.axis.XTick at 0x1cde054c6d8>,\n",
       " <matplotlib.axis.XTick at 0x1cde051d320>,\n",
       " <matplotlib.axis.XTick at 0x1cde0568ef0>,\n",
       " <matplotlib.axis.XTick at 0x1cde05203c8>,\n",
       " <matplotlib.axis.XTick at 0x1cde0520860>]"
      ]
     },
     "execution_count": 1198,
     "metadata": {},
     "output_type": "execute_result"
    }
   ],
   "source": [
    "figXvalReg.set_xlabel('regression model: n_selected_features')\n",
    "figXvalReg.set_ylabel('neg mean squared error')\n",
    "figXvalReg.set_xticks(s_numbering)"
   ]
  },
  {
   "cell_type": "code",
   "execution_count": 1199,
   "metadata": {},
   "outputs": [],
   "source": [
    "#kNN model eval"
   ]
  },
  {
   "cell_type": "code",
   "execution_count": 1200,
   "metadata": {},
   "outputs": [
    {
     "data": {
      "image/png": "[encoded data removed]",
      "text/plain": [
       "<Figure size 504x288 with 1 Axes>"
      ]
     },
     "metadata": {},
     "output_type": "display_data"
    }
   ],
   "source": [
    "newfig = plt.figure(figsize=(7,4))\n",
    "s_numbering = pd.Series(xvalid_mean_knnlwa.index).apply(lambda x:x[2:]).astype(np.int)\n",
    "xvalid_mean_knnlwa_copy = xvalid_mean_knnlwa.copy()\n",
    "xvalid_mean_knnlwa_copy.index = s_numbering\n",
    "figXvalKnn = xvalid_mean_knnlwa_copy.plot.line()"
   ]
  },
  {
   "cell_type": "markdown",
   "metadata": {},
   "source": [
    "k = 8 has the highest x-valid score"
   ]
  },
  {
   "cell_type": "code",
   "execution_count": 1201,
   "metadata": {},
   "outputs": [
    {
     "data": {
      "text/plain": [
       "[<matplotlib.axis.XTick at 0x1cde057ca20>,\n",
       " <matplotlib.axis.XTick at 0x1cde057c5f8>,\n",
       " <matplotlib.axis.XTick at 0x1cde058f9b0>,\n",
       " <matplotlib.axis.XTick at 0x1cde05a9390>,\n",
       " <matplotlib.axis.XTick at 0x1cde05a9828>,\n",
       " <matplotlib.axis.XTick at 0x1cde05a9cc0>,\n",
       " <matplotlib.axis.XTick at 0x1cde16f4198>]"
      ]
     },
     "execution_count": 1201,
     "metadata": {},
     "output_type": "execute_result"
    }
   ],
   "source": [
    "figXvalKnn.set_xlabel('kNN model: k')\n",
    "figXvalKnn.set_ylabel('neg mean squared error')\n",
    "figXvalKnn.set_xticks(s_numbering)"
   ]
  },
  {
   "cell_type": "code",
   "execution_count": 1202,
   "metadata": {},
   "outputs": [
    {
     "data": {
      "text/plain": [
       "k_8    -0.143138\n",
       "k_10   -0.144639\n",
       "k_12   -0.145933\n",
       "k_6    -0.147163\n",
       "k_14   -0.148229\n",
       "k_4    -0.156677\n",
       "k_2    -0.184255\n",
       "dtype: float64"
      ]
     },
     "execution_count": 1202,
     "metadata": {},
     "output_type": "execute_result"
    }
   ],
   "source": [
    "xvalid_mean_knnlwa.sort_values(ascending=False)"
   ]
  },
  {
   "cell_type": "code",
   "execution_count": 1203,
   "metadata": {},
   "outputs": [],
   "source": [
    "## Selecting model"
   ]
  },
  {
   "cell_type": "code",
   "execution_count": 1204,
   "metadata": {},
   "outputs": [
    {
     "data": {
      "text/plain": [
       "11"
      ]
     },
     "execution_count": 1204,
     "metadata": {},
     "output_type": "execute_result"
    }
   ],
   "source": [
    "# Best regression model's features boolean series: best model has n_selected_features = 11\n",
    "best_features_bool = df_retained_bool[df_retained_bool.columns[df_retained_bool.columns == 'retained_11']]\n",
    "best_features_bool = np.squeeze(best_features_bool)\n",
    "best_features_bool.sum()"
   ]
  },
  {
   "cell_type": "code",
   "execution_count": 1205,
   "metadata": {},
   "outputs": [],
   "source": [
    "# double-check the x-valid performance of this model, making sure indexed features boolean series is correct\n",
    "xvalid_best_reg = cross_val_score(regression, X=X_final[X_final.columns[best_features_bool]], y=Y_final['SalePrice'], cv=10, \n",
    "                                  scoring='neg_mean_squared_error')"
   ]
  },
  {
   "cell_type": "code",
   "execution_count": 1206,
   "metadata": {},
   "outputs": [
    {
     "data": {
      "text/plain": [
       "-0.3399630425789012"
      ]
     },
     "execution_count": 1206,
     "metadata": {},
     "output_type": "execute_result"
    }
   ],
   "source": [
    "xvalid_best_reg.mean()"
   ]
  },
  {
   "cell_type": "code",
   "execution_count": 1207,
   "metadata": {},
   "outputs": [],
   "source": [
    "# verified, same as when n = 11"
   ]
  },
  {
   "cell_type": "code",
   "execution_count": 1208,
   "metadata": {},
   "outputs": [],
   "source": [
    "# Best kNN(LWA) model's specification : k = 8\n",
    "knnlwa_24 = knn.KNeighborsRegressor(n_neighbors=8, weights='distance')\n",
    "xvalid_best_knnlwa = cross_val_score(knnlwa_24, X=X_finalKNN, y=Y_final['SalePrice'], cv=10, scoring='neg_mean_squared_error')"
   ]
  },
  {
   "cell_type": "code",
   "execution_count": 1209,
   "metadata": {},
   "outputs": [
    {
     "data": {
      "text/plain": [
       "-0.1431384226972411"
      ]
     },
     "execution_count": 1209,
     "metadata": {},
     "output_type": "execute_result"
    }
   ],
   "source": [
    "xvalid_best_knnlwa.mean()  #verified ~ -0.15"
   ]
  },
  {
   "cell_type": "code",
   "execution_count": 1210,
   "metadata": {},
   "outputs": [],
   "source": [
    "#Comparison betw models:"
   ]
  },
  {
   "cell_type": "markdown",
   "metadata": {},
   "source": [
    "k values are similar for both.  We will also include the variables from the heatmap"
   ]
  },
  {
   "cell_type": "code",
   "execution_count": 1211,
   "metadata": {},
   "outputs": [
    {
     "data": {
      "text/plain": [
       "array(['LotShape NR', 'LotShape R', 'FullBathBsmt not',\n",
       "       'FullBathBsmt yes', 'OQ_Below Average', 'OQ_Average',\n",
       "       'OQ_Above Average', 'OQ_Good', 'OQ_Very Good', 'OQ_Excellent',\n",
       "       'OQ_Very Excellent'], dtype=object)"
      ]
     },
     "execution_count": 1211,
     "metadata": {},
     "output_type": "execute_result"
    }
   ],
   "source": [
    "Bestmodelvars = X_finalKNN.columns.values[best_features_bool]\n",
    "Bestmodelvars"
   ]
  },
  {
   "cell_type": "code",
   "execution_count": 1212,
   "metadata": {},
   "outputs": [],
   "source": [
    "HeatmapIntervalvars = ['FstFlrSqft_z', 'FullBathHouse_z', 'RmAbvGrnd_z', 'Fireplaces_z', 'GarageCars_z']"
   ]
  },
  {
   "cell_type": "code",
   "execution_count": 1213,
   "metadata": {},
   "outputs": [],
   "source": [
    "BestModelsVars = np.concatenate([Bestmodelvars] + [HeatmapIntervalvars])"
   ]
  },
  {
   "cell_type": "code",
   "execution_count": 1214,
   "metadata": {},
   "outputs": [
    {
     "data": {
      "text/plain": [
       "array(['LotShape NR', 'LotShape R', 'FullBathBsmt not',\n",
       "       'FullBathBsmt yes', 'OQ_Below Average', 'OQ_Average',\n",
       "       'OQ_Above Average', 'OQ_Good', 'OQ_Very Good', 'OQ_Excellent',\n",
       "       'OQ_Very Excellent', 'FstFlrSqft_z', 'FullBathHouse_z',\n",
       "       'RmAbvGrnd_z', 'Fireplaces_z', 'GarageCars_z'], dtype=object)"
      ]
     },
     "execution_count": 1214,
     "metadata": {},
     "output_type": "execute_result"
    }
   ],
   "source": [
    "BestModelsVars"
   ]
  },
  {
   "cell_type": "code",
   "execution_count": null,
   "metadata": {},
   "outputs": [],
   "source": []
  },
  {
   "cell_type": "markdown",
   "metadata": {},
   "source": [
    "## Step 3.2: Preprocess the Score Dataset\n",
    "Use what have been developed for the Train data above to preprocess the Score data"
   ]
  },
  {
   "cell_type": "code",
   "execution_count": 1215,
   "metadata": {},
   "outputs": [],
   "source": [
    "dfScore = pd.read_csv('Score_Data-No_Sale_Price.csv')"
   ]
  },
  {
   "cell_type": "code",
   "execution_count": 1216,
   "metadata": {},
   "outputs": [
    {
     "data": {
      "text/plain": [
       "(100, 27)"
      ]
     },
     "execution_count": 1216,
     "metadata": {},
     "output_type": "execute_result"
    }
   ],
   "source": [
    "nrow_score, ncol_score = dfScore.shape\n",
    "nrow_score, ncol_score"
   ]
  },
  {
   "cell_type": "code",
   "execution_count": 1217,
   "metadata": {},
   "outputs": [
    {
     "data": {
      "text/html": [
       "<div>\n",
       "<style scoped>\n",
       "    .dataframe tbody tr th:only-of-type {\n",
       "        vertical-align: middle;\n",
       "    }\n",
       "\n",
       "    .dataframe tbody tr th {\n",
       "        vertical-align: top;\n",
       "    }\n",
       "\n",
       "    .dataframe thead th {\n",
       "        text-align: right;\n",
       "    }\n",
       "</style>\n",
       "<table border=\"1\" class=\"dataframe\">\n",
       "  <thead>\n",
       "    <tr style=\"text-align: right;\">\n",
       "      <th></th>\n",
       "      <th>PID</th>\n",
       "      <th>LotArea</th>\n",
       "      <th>LotShape</th>\n",
       "      <th>BldgTp</th>\n",
       "      <th>OverallQuality</th>\n",
       "      <th>OverallCondition</th>\n",
       "      <th>YearBuilt</th>\n",
       "      <th>YearRemodel</th>\n",
       "      <th>VeneerExterior</th>\n",
       "      <th>BsmtFinTp</th>\n",
       "      <th>...</th>\n",
       "      <th>HalfBathHouse</th>\n",
       "      <th>FullBathHouse</th>\n",
       "      <th>BdrmAbvGrnd</th>\n",
       "      <th>RmAbvGrnd</th>\n",
       "      <th>Fireplaces</th>\n",
       "      <th>GarageTp</th>\n",
       "      <th>GarageCars</th>\n",
       "      <th>GarageArea</th>\n",
       "      <th>WdDckSqft</th>\n",
       "      <th>OpenPrchSqft</th>\n",
       "    </tr>\n",
       "  </thead>\n",
       "  <tbody>\n",
       "    <tr>\n",
       "      <th>0</th>\n",
       "      <td>528445060</td>\n",
       "      <td>8987</td>\n",
       "      <td>1</td>\n",
       "      <td>1</td>\n",
       "      <td>8</td>\n",
       "      <td>5</td>\n",
       "      <td>2005</td>\n",
       "      <td>2006</td>\n",
       "      <td>226.0</td>\n",
       "      <td>0</td>\n",
       "      <td>...</td>\n",
       "      <td>0</td>\n",
       "      <td>2</td>\n",
       "      <td>2.0</td>\n",
       "      <td>6.0</td>\n",
       "      <td>1</td>\n",
       "      <td>3</td>\n",
       "      <td>3</td>\n",
       "      <td>880</td>\n",
       "      <td>144</td>\n",
       "      <td>0</td>\n",
       "    </tr>\n",
       "    <tr>\n",
       "      <th>1</th>\n",
       "      <td>528456160</td>\n",
       "      <td>9215</td>\n",
       "      <td>1</td>\n",
       "      <td>1</td>\n",
       "      <td>7</td>\n",
       "      <td>5</td>\n",
       "      <td>2009</td>\n",
       "      <td>2010</td>\n",
       "      <td>0.0</td>\n",
       "      <td>0</td>\n",
       "      <td>...</td>\n",
       "      <td>0</td>\n",
       "      <td>2</td>\n",
       "      <td>2.0</td>\n",
       "      <td>4.0</td>\n",
       "      <td>0</td>\n",
       "      <td>3</td>\n",
       "      <td>2</td>\n",
       "      <td>676</td>\n",
       "      <td>0</td>\n",
       "      <td>136</td>\n",
       "    </tr>\n",
       "    <tr>\n",
       "      <th>2</th>\n",
       "      <td>528458070</td>\n",
       "      <td>8640</td>\n",
       "      <td>1</td>\n",
       "      <td>1</td>\n",
       "      <td>7</td>\n",
       "      <td>5</td>\n",
       "      <td>2009</td>\n",
       "      <td>2009</td>\n",
       "      <td>0.0</td>\n",
       "      <td>1</td>\n",
       "      <td>...</td>\n",
       "      <td>1</td>\n",
       "      <td>2</td>\n",
       "      <td>3.0</td>\n",
       "      <td>7.0</td>\n",
       "      <td>0</td>\n",
       "      <td>3</td>\n",
       "      <td>2</td>\n",
       "      <td>614</td>\n",
       "      <td>169</td>\n",
       "      <td>45</td>\n",
       "    </tr>\n",
       "  </tbody>\n",
       "</table>\n",
       "<p>3 rows × 27 columns</p>\n",
       "</div>"
      ],
      "text/plain": [
       "         PID  LotArea  LotShape  BldgTp  OverallQuality  OverallCondition  \\\n",
       "0  528445060     8987         1       1               8                 5   \n",
       "1  528456160     9215         1       1               7                 5   \n",
       "2  528458070     8640         1       1               7                 5   \n",
       "\n",
       "   YearBuilt  YearRemodel  VeneerExterior  BsmtFinTp  ...  HalfBathHouse  \\\n",
       "0       2005         2006           226.0          0  ...              0   \n",
       "1       2009         2010             0.0          0  ...              0   \n",
       "2       2009         2009             0.0          1  ...              1   \n",
       "\n",
       "   FullBathHouse  BdrmAbvGrnd  RmAbvGrnd  Fireplaces  GarageTp  GarageCars  \\\n",
       "0              2          2.0        6.0           1         3           3   \n",
       "1              2          2.0        4.0           0         3           2   \n",
       "2              2          3.0        7.0           0         3           2   \n",
       "\n",
       "   GarageArea  WdDckSqft  OpenPrchSqft  \n",
       "0         880        144             0  \n",
       "1         676          0           136  \n",
       "2         614        169            45  \n",
       "\n",
       "[3 rows x 27 columns]"
      ]
     },
     "execution_count": 1217,
     "metadata": {},
     "output_type": "execute_result"
    }
   ],
   "source": [
    "dfScore.head(3)"
   ]
  },
  {
   "cell_type": "code",
   "execution_count": 1218,
   "metadata": {},
   "outputs": [],
   "source": [
    "dfScore[\"YearBuilt\"] = dfScore[\"YearBuilt\"].apply(age_calc)"
   ]
  },
  {
   "cell_type": "code",
   "execution_count": 1219,
   "metadata": {},
   "outputs": [
    {
     "data": {
      "text/html": [
       "<div>\n",
       "<style scoped>\n",
       "    .dataframe tbody tr th:only-of-type {\n",
       "        vertical-align: middle;\n",
       "    }\n",
       "\n",
       "    .dataframe tbody tr th {\n",
       "        vertical-align: top;\n",
       "    }\n",
       "\n",
       "    .dataframe thead th {\n",
       "        text-align: right;\n",
       "    }\n",
       "</style>\n",
       "<table border=\"1\" class=\"dataframe\">\n",
       "  <thead>\n",
       "    <tr style=\"text-align: right;\">\n",
       "      <th></th>\n",
       "      <th>PID</th>\n",
       "      <th>LotArea</th>\n",
       "      <th>LotShape</th>\n",
       "      <th>BldgTp</th>\n",
       "      <th>OverallQuality</th>\n",
       "      <th>OverallCondition</th>\n",
       "      <th>YearBuilt</th>\n",
       "      <th>YearRemodel</th>\n",
       "      <th>VeneerExterior</th>\n",
       "      <th>BsmtFinTp</th>\n",
       "      <th>...</th>\n",
       "      <th>HalfBathHouse</th>\n",
       "      <th>FullBathHouse</th>\n",
       "      <th>BdrmAbvGrnd</th>\n",
       "      <th>RmAbvGrnd</th>\n",
       "      <th>Fireplaces</th>\n",
       "      <th>GarageTp</th>\n",
       "      <th>GarageCars</th>\n",
       "      <th>GarageArea</th>\n",
       "      <th>WdDckSqft</th>\n",
       "      <th>OpenPrchSqft</th>\n",
       "    </tr>\n",
       "  </thead>\n",
       "  <tbody>\n",
       "    <tr>\n",
       "      <th>0</th>\n",
       "      <td>528445060</td>\n",
       "      <td>8987</td>\n",
       "      <td>1</td>\n",
       "      <td>1</td>\n",
       "      <td>8</td>\n",
       "      <td>5</td>\n",
       "      <td>16</td>\n",
       "      <td>2006</td>\n",
       "      <td>226.0</td>\n",
       "      <td>0</td>\n",
       "      <td>...</td>\n",
       "      <td>0</td>\n",
       "      <td>2</td>\n",
       "      <td>2.0</td>\n",
       "      <td>6.0</td>\n",
       "      <td>1</td>\n",
       "      <td>3</td>\n",
       "      <td>3</td>\n",
       "      <td>880</td>\n",
       "      <td>144</td>\n",
       "      <td>0</td>\n",
       "    </tr>\n",
       "    <tr>\n",
       "      <th>1</th>\n",
       "      <td>528456160</td>\n",
       "      <td>9215</td>\n",
       "      <td>1</td>\n",
       "      <td>1</td>\n",
       "      <td>7</td>\n",
       "      <td>5</td>\n",
       "      <td>12</td>\n",
       "      <td>2010</td>\n",
       "      <td>0.0</td>\n",
       "      <td>0</td>\n",
       "      <td>...</td>\n",
       "      <td>0</td>\n",
       "      <td>2</td>\n",
       "      <td>2.0</td>\n",
       "      <td>4.0</td>\n",
       "      <td>0</td>\n",
       "      <td>3</td>\n",
       "      <td>2</td>\n",
       "      <td>676</td>\n",
       "      <td>0</td>\n",
       "      <td>136</td>\n",
       "    </tr>\n",
       "    <tr>\n",
       "      <th>2</th>\n",
       "      <td>528458070</td>\n",
       "      <td>8640</td>\n",
       "      <td>1</td>\n",
       "      <td>1</td>\n",
       "      <td>7</td>\n",
       "      <td>5</td>\n",
       "      <td>12</td>\n",
       "      <td>2009</td>\n",
       "      <td>0.0</td>\n",
       "      <td>1</td>\n",
       "      <td>...</td>\n",
       "      <td>1</td>\n",
       "      <td>2</td>\n",
       "      <td>3.0</td>\n",
       "      <td>7.0</td>\n",
       "      <td>0</td>\n",
       "      <td>3</td>\n",
       "      <td>2</td>\n",
       "      <td>614</td>\n",
       "      <td>169</td>\n",
       "      <td>45</td>\n",
       "    </tr>\n",
       "    <tr>\n",
       "      <th>3</th>\n",
       "      <td>906380190</td>\n",
       "      <td>6762</td>\n",
       "      <td>1</td>\n",
       "      <td>1</td>\n",
       "      <td>7</td>\n",
       "      <td>5</td>\n",
       "      <td>15</td>\n",
       "      <td>2006</td>\n",
       "      <td>24.0</td>\n",
       "      <td>1</td>\n",
       "      <td>...</td>\n",
       "      <td>0</td>\n",
       "      <td>2</td>\n",
       "      <td>2.0</td>\n",
       "      <td>6.0</td>\n",
       "      <td>0</td>\n",
       "      <td>3</td>\n",
       "      <td>2</td>\n",
       "      <td>632</td>\n",
       "      <td>105</td>\n",
       "      <td>61</td>\n",
       "    </tr>\n",
       "    <tr>\n",
       "      <th>4</th>\n",
       "      <td>906385010</td>\n",
       "      <td>10402</td>\n",
       "      <td>0</td>\n",
       "      <td>1</td>\n",
       "      <td>7</td>\n",
       "      <td>5</td>\n",
       "      <td>12</td>\n",
       "      <td>2009</td>\n",
       "      <td>0.0</td>\n",
       "      <td>0</td>\n",
       "      <td>...</td>\n",
       "      <td>0</td>\n",
       "      <td>2</td>\n",
       "      <td>3.0</td>\n",
       "      <td>6.0</td>\n",
       "      <td>0</td>\n",
       "      <td>3</td>\n",
       "      <td>3</td>\n",
       "      <td>740</td>\n",
       "      <td>0</td>\n",
       "      <td>36</td>\n",
       "    </tr>\n",
       "  </tbody>\n",
       "</table>\n",
       "<p>5 rows × 27 columns</p>\n",
       "</div>"
      ],
      "text/plain": [
       "         PID  LotArea  LotShape  BldgTp  OverallQuality  OverallCondition  \\\n",
       "0  528445060     8987         1       1               8                 5   \n",
       "1  528456160     9215         1       1               7                 5   \n",
       "2  528458070     8640         1       1               7                 5   \n",
       "3  906380190     6762         1       1               7                 5   \n",
       "4  906385010    10402         0       1               7                 5   \n",
       "\n",
       "   YearBuilt  YearRemodel  VeneerExterior  BsmtFinTp  ...  HalfBathHouse  \\\n",
       "0         16         2006           226.0          0  ...              0   \n",
       "1         12         2010             0.0          0  ...              0   \n",
       "2         12         2009             0.0          1  ...              1   \n",
       "3         15         2006            24.0          1  ...              0   \n",
       "4         12         2009             0.0          0  ...              0   \n",
       "\n",
       "   FullBathHouse  BdrmAbvGrnd  RmAbvGrnd  Fireplaces  GarageTp  GarageCars  \\\n",
       "0              2          2.0        6.0           1         3           3   \n",
       "1              2          2.0        4.0           0         3           2   \n",
       "2              2          3.0        7.0           0         3           2   \n",
       "3              2          2.0        6.0           0         3           2   \n",
       "4              2          3.0        6.0           0         3           3   \n",
       "\n",
       "   GarageArea  WdDckSqft  OpenPrchSqft  \n",
       "0         880        144             0  \n",
       "1         676          0           136  \n",
       "2         614        169            45  \n",
       "3         632        105            61  \n",
       "4         740          0            36  \n",
       "\n",
       "[5 rows x 27 columns]"
      ]
     },
     "execution_count": 1219,
     "metadata": {},
     "output_type": "execute_result"
    }
   ],
   "source": [
    "dfScore.head()"
   ]
  },
  {
   "cell_type": "code",
   "execution_count": 1220,
   "metadata": {},
   "outputs": [],
   "source": [
    "dfScore.rename(columns={'YearBuilt': 'Age'}, inplace=True)"
   ]
  },
  {
   "cell_type": "code",
   "execution_count": 1221,
   "metadata": {},
   "outputs": [],
   "source": [
    "dfScore[\"YearRemodel\"] = dfScore[\"YearRemodel\"].apply(age_calc)\n",
    "dfScore.rename(columns={'YearRemodel': 'RemodelAge'}, inplace=True)"
   ]
  },
  {
   "cell_type": "code",
   "execution_count": 1222,
   "metadata": {},
   "outputs": [
    {
     "data": {
      "text/html": [
       "<div>\n",
       "<style scoped>\n",
       "    .dataframe tbody tr th:only-of-type {\n",
       "        vertical-align: middle;\n",
       "    }\n",
       "\n",
       "    .dataframe tbody tr th {\n",
       "        vertical-align: top;\n",
       "    }\n",
       "\n",
       "    .dataframe thead th {\n",
       "        text-align: right;\n",
       "    }\n",
       "</style>\n",
       "<table border=\"1\" class=\"dataframe\">\n",
       "  <thead>\n",
       "    <tr style=\"text-align: right;\">\n",
       "      <th></th>\n",
       "      <th>PID</th>\n",
       "      <th>LotArea</th>\n",
       "      <th>LotShape</th>\n",
       "      <th>BldgTp</th>\n",
       "      <th>OverallQuality</th>\n",
       "      <th>OverallCondition</th>\n",
       "      <th>Age</th>\n",
       "      <th>RemodelAge</th>\n",
       "      <th>VeneerExterior</th>\n",
       "      <th>BsmtFinTp</th>\n",
       "      <th>...</th>\n",
       "      <th>HalfBathHouse</th>\n",
       "      <th>FullBathHouse</th>\n",
       "      <th>BdrmAbvGrnd</th>\n",
       "      <th>RmAbvGrnd</th>\n",
       "      <th>Fireplaces</th>\n",
       "      <th>GarageTp</th>\n",
       "      <th>GarageCars</th>\n",
       "      <th>GarageArea</th>\n",
       "      <th>WdDckSqft</th>\n",
       "      <th>OpenPrchSqft</th>\n",
       "    </tr>\n",
       "  </thead>\n",
       "  <tbody>\n",
       "    <tr>\n",
       "      <th>0</th>\n",
       "      <td>528445060</td>\n",
       "      <td>8987</td>\n",
       "      <td>1</td>\n",
       "      <td>1</td>\n",
       "      <td>8</td>\n",
       "      <td>5</td>\n",
       "      <td>16</td>\n",
       "      <td>15</td>\n",
       "      <td>226.0</td>\n",
       "      <td>0</td>\n",
       "      <td>...</td>\n",
       "      <td>0</td>\n",
       "      <td>2</td>\n",
       "      <td>2.0</td>\n",
       "      <td>6.0</td>\n",
       "      <td>1</td>\n",
       "      <td>3</td>\n",
       "      <td>3</td>\n",
       "      <td>880</td>\n",
       "      <td>144</td>\n",
       "      <td>0</td>\n",
       "    </tr>\n",
       "    <tr>\n",
       "      <th>1</th>\n",
       "      <td>528456160</td>\n",
       "      <td>9215</td>\n",
       "      <td>1</td>\n",
       "      <td>1</td>\n",
       "      <td>7</td>\n",
       "      <td>5</td>\n",
       "      <td>12</td>\n",
       "      <td>11</td>\n",
       "      <td>0.0</td>\n",
       "      <td>0</td>\n",
       "      <td>...</td>\n",
       "      <td>0</td>\n",
       "      <td>2</td>\n",
       "      <td>2.0</td>\n",
       "      <td>4.0</td>\n",
       "      <td>0</td>\n",
       "      <td>3</td>\n",
       "      <td>2</td>\n",
       "      <td>676</td>\n",
       "      <td>0</td>\n",
       "      <td>136</td>\n",
       "    </tr>\n",
       "    <tr>\n",
       "      <th>2</th>\n",
       "      <td>528458070</td>\n",
       "      <td>8640</td>\n",
       "      <td>1</td>\n",
       "      <td>1</td>\n",
       "      <td>7</td>\n",
       "      <td>5</td>\n",
       "      <td>12</td>\n",
       "      <td>12</td>\n",
       "      <td>0.0</td>\n",
       "      <td>1</td>\n",
       "      <td>...</td>\n",
       "      <td>1</td>\n",
       "      <td>2</td>\n",
       "      <td>3.0</td>\n",
       "      <td>7.0</td>\n",
       "      <td>0</td>\n",
       "      <td>3</td>\n",
       "      <td>2</td>\n",
       "      <td>614</td>\n",
       "      <td>169</td>\n",
       "      <td>45</td>\n",
       "    </tr>\n",
       "    <tr>\n",
       "      <th>3</th>\n",
       "      <td>906380190</td>\n",
       "      <td>6762</td>\n",
       "      <td>1</td>\n",
       "      <td>1</td>\n",
       "      <td>7</td>\n",
       "      <td>5</td>\n",
       "      <td>15</td>\n",
       "      <td>15</td>\n",
       "      <td>24.0</td>\n",
       "      <td>1</td>\n",
       "      <td>...</td>\n",
       "      <td>0</td>\n",
       "      <td>2</td>\n",
       "      <td>2.0</td>\n",
       "      <td>6.0</td>\n",
       "      <td>0</td>\n",
       "      <td>3</td>\n",
       "      <td>2</td>\n",
       "      <td>632</td>\n",
       "      <td>105</td>\n",
       "      <td>61</td>\n",
       "    </tr>\n",
       "    <tr>\n",
       "      <th>4</th>\n",
       "      <td>906385010</td>\n",
       "      <td>10402</td>\n",
       "      <td>0</td>\n",
       "      <td>1</td>\n",
       "      <td>7</td>\n",
       "      <td>5</td>\n",
       "      <td>12</td>\n",
       "      <td>12</td>\n",
       "      <td>0.0</td>\n",
       "      <td>0</td>\n",
       "      <td>...</td>\n",
       "      <td>0</td>\n",
       "      <td>2</td>\n",
       "      <td>3.0</td>\n",
       "      <td>6.0</td>\n",
       "      <td>0</td>\n",
       "      <td>3</td>\n",
       "      <td>3</td>\n",
       "      <td>740</td>\n",
       "      <td>0</td>\n",
       "      <td>36</td>\n",
       "    </tr>\n",
       "  </tbody>\n",
       "</table>\n",
       "<p>5 rows × 27 columns</p>\n",
       "</div>"
      ],
      "text/plain": [
       "         PID  LotArea  LotShape  BldgTp  OverallQuality  OverallCondition  \\\n",
       "0  528445060     8987         1       1               8                 5   \n",
       "1  528456160     9215         1       1               7                 5   \n",
       "2  528458070     8640         1       1               7                 5   \n",
       "3  906380190     6762         1       1               7                 5   \n",
       "4  906385010    10402         0       1               7                 5   \n",
       "\n",
       "   Age  RemodelAge  VeneerExterior  BsmtFinTp  ...  HalfBathHouse  \\\n",
       "0   16          15           226.0          0  ...              0   \n",
       "1   12          11             0.0          0  ...              0   \n",
       "2   12          12             0.0          1  ...              1   \n",
       "3   15          15            24.0          1  ...              0   \n",
       "4   12          12             0.0          0  ...              0   \n",
       "\n",
       "   FullBathHouse  BdrmAbvGrnd  RmAbvGrnd  Fireplaces  GarageTp  GarageCars  \\\n",
       "0              2          2.0        6.0           1         3           3   \n",
       "1              2          2.0        4.0           0         3           2   \n",
       "2              2          3.0        7.0           0         3           2   \n",
       "3              2          2.0        6.0           0         3           2   \n",
       "4              2          3.0        6.0           0         3           3   \n",
       "\n",
       "   GarageArea  WdDckSqft  OpenPrchSqft  \n",
       "0         880        144             0  \n",
       "1         676          0           136  \n",
       "2         614        169            45  \n",
       "3         632        105            61  \n",
       "4         740          0            36  \n",
       "\n",
       "[5 rows x 27 columns]"
      ]
     },
     "execution_count": 1222,
     "metadata": {},
     "output_type": "execute_result"
    }
   ],
   "source": [
    "dfScore.head()"
   ]
  },
  {
   "cell_type": "code",
   "execution_count": 1223,
   "metadata": {},
   "outputs": [],
   "source": [
    "dfScore[\"AgeRemodelYears\"] = dfScore[\"Age\"] + dfScore[\"RemodelAge\"]"
   ]
  },
  {
   "cell_type": "code",
   "execution_count": 1224,
   "metadata": {},
   "outputs": [],
   "source": [
    "dfScore.drop('Age',  inplace=True, axis=1)\n",
    "dfScore.drop('RemodelAge',  inplace=True, axis=1)"
   ]
  },
  {
   "cell_type": "code",
   "execution_count": 1225,
   "metadata": {},
   "outputs": [
    {
     "data": {
      "text/plain": [
       "['PID',\n",
       " 'LotArea',\n",
       " 'LotShape',\n",
       " 'BldgTp',\n",
       " 'OverallQuality',\n",
       " 'OverallCondition',\n",
       " 'VeneerExterior',\n",
       " 'BsmtFinTp',\n",
       " 'BsmtFinSqft',\n",
       " 'BsmtUnfinSqft',\n",
       " 'HeatingQC',\n",
       " 'FstFlrSqft',\n",
       " 'SecFlrSqft',\n",
       " 'AbvGrndLiving',\n",
       " 'FullBathBsmt',\n",
       " 'HalfBathHouse',\n",
       " 'FullBathHouse',\n",
       " 'BdrmAbvGrnd',\n",
       " 'RmAbvGrnd',\n",
       " 'Fireplaces',\n",
       " 'GarageTp',\n",
       " 'GarageCars',\n",
       " 'GarageArea',\n",
       " 'WdDckSqft',\n",
       " 'OpenPrchSqft',\n",
       " 'AgeRemodelYears']"
      ]
     },
     "execution_count": 1225,
     "metadata": {},
     "output_type": "execute_result"
    }
   ],
   "source": [
    "dfScorecols = dfScore.columns.tolist()\n",
    "dfScorecols"
   ]
  },
  {
   "cell_type": "code",
   "execution_count": 1226,
   "metadata": {},
   "outputs": [],
   "source": [
    "dfScore = dfScore[dfScorecols]"
   ]
  },
  {
   "cell_type": "code",
   "execution_count": 1227,
   "metadata": {},
   "outputs": [
    {
     "name": "stdout",
     "output_type": "stream",
     "text": [
      "Ending index of train data: 2369\n",
      "Beginning index of score data: 2470\n"
     ]
    }
   ],
   "source": [
    "dfScore.index = np.arange(TrainingSet.shape[0] + 100, TrainingSet.shape[0] + 100 + nrow_score, 1)\n",
    "\n",
    "# sanity check\n",
    "print('Ending index of train data: {}\\nBeginning index of score data: {}'.format(\n",
    "    TrainingSet.index.values[-1], dfScore.index.values[0]))"
   ]
  },
  {
   "cell_type": "code",
   "execution_count": 1228,
   "metadata": {},
   "outputs": [],
   "source": [
    "dfScore = dfScore[TrainingSet.drop('SalePrice', axis=1).columns]"
   ]
  },
  {
   "cell_type": "code",
   "execution_count": 1229,
   "metadata": {},
   "outputs": [
    {
     "name": "stdout",
     "output_type": "stream",
     "text": [
      "Is there any difference in the input column labels between the two dataframes? False\n"
     ]
    }
   ],
   "source": [
    "print('Is there any difference in the input column labels between the two dataframes?', \n",
    "      (dfScore.columns != TrainingSet.drop('SalePrice', axis=1).columns).any())"
   ]
  },
  {
   "cell_type": "code",
   "execution_count": 1230,
   "metadata": {},
   "outputs": [
    {
     "data": {
      "text/html": [
       "<div>\n",
       "<style scoped>\n",
       "    .dataframe tbody tr th:only-of-type {\n",
       "        vertical-align: middle;\n",
       "    }\n",
       "\n",
       "    .dataframe tbody tr th {\n",
       "        vertical-align: top;\n",
       "    }\n",
       "\n",
       "    .dataframe thead th {\n",
       "        text-align: right;\n",
       "    }\n",
       "</style>\n",
       "<table border=\"1\" class=\"dataframe\">\n",
       "  <thead>\n",
       "    <tr style=\"text-align: right;\">\n",
       "      <th></th>\n",
       "      <th>PID</th>\n",
       "      <th>LotArea</th>\n",
       "      <th>LotShape</th>\n",
       "      <th>BldgTp</th>\n",
       "      <th>AgeRemodelYears</th>\n",
       "      <th>VeneerExterior</th>\n",
       "      <th>BsmtFinTp</th>\n",
       "      <th>BsmtFinSqft</th>\n",
       "      <th>BsmtUnfinSqft</th>\n",
       "      <th>HeatingQC</th>\n",
       "      <th>...</th>\n",
       "      <th>BdrmAbvGrnd</th>\n",
       "      <th>RmAbvGrnd</th>\n",
       "      <th>Fireplaces</th>\n",
       "      <th>GarageTp</th>\n",
       "      <th>GarageCars</th>\n",
       "      <th>GarageArea</th>\n",
       "      <th>WdDckSqft</th>\n",
       "      <th>OpenPrchSqft</th>\n",
       "      <th>OverallQuality</th>\n",
       "      <th>OverallCondition</th>\n",
       "    </tr>\n",
       "  </thead>\n",
       "  <tbody>\n",
       "    <tr>\n",
       "      <th>2470</th>\n",
       "      <td>528445060</td>\n",
       "      <td>8987</td>\n",
       "      <td>1</td>\n",
       "      <td>1</td>\n",
       "      <td>31</td>\n",
       "      <td>226.0</td>\n",
       "      <td>0</td>\n",
       "      <td>0</td>\n",
       "      <td>1595</td>\n",
       "      <td>3</td>\n",
       "      <td>...</td>\n",
       "      <td>2.0</td>\n",
       "      <td>6.0</td>\n",
       "      <td>1</td>\n",
       "      <td>3</td>\n",
       "      <td>3</td>\n",
       "      <td>880</td>\n",
       "      <td>144</td>\n",
       "      <td>0</td>\n",
       "      <td>8</td>\n",
       "      <td>5</td>\n",
       "    </tr>\n",
       "    <tr>\n",
       "      <th>2471</th>\n",
       "      <td>528456160</td>\n",
       "      <td>9215</td>\n",
       "      <td>1</td>\n",
       "      <td>1</td>\n",
       "      <td>23</td>\n",
       "      <td>0.0</td>\n",
       "      <td>0</td>\n",
       "      <td>0</td>\n",
       "      <td>1218</td>\n",
       "      <td>3</td>\n",
       "      <td>...</td>\n",
       "      <td>2.0</td>\n",
       "      <td>4.0</td>\n",
       "      <td>0</td>\n",
       "      <td>3</td>\n",
       "      <td>2</td>\n",
       "      <td>676</td>\n",
       "      <td>0</td>\n",
       "      <td>136</td>\n",
       "      <td>7</td>\n",
       "      <td>5</td>\n",
       "    </tr>\n",
       "    <tr>\n",
       "      <th>2472</th>\n",
       "      <td>528458070</td>\n",
       "      <td>8640</td>\n",
       "      <td>1</td>\n",
       "      <td>1</td>\n",
       "      <td>24</td>\n",
       "      <td>0.0</td>\n",
       "      <td>1</td>\n",
       "      <td>24</td>\n",
       "      <td>732</td>\n",
       "      <td>3</td>\n",
       "      <td>...</td>\n",
       "      <td>3.0</td>\n",
       "      <td>7.0</td>\n",
       "      <td>0</td>\n",
       "      <td>3</td>\n",
       "      <td>2</td>\n",
       "      <td>614</td>\n",
       "      <td>169</td>\n",
       "      <td>45</td>\n",
       "      <td>7</td>\n",
       "      <td>5</td>\n",
       "    </tr>\n",
       "  </tbody>\n",
       "</table>\n",
       "<p>3 rows × 26 columns</p>\n",
       "</div>"
      ],
      "text/plain": [
       "            PID  LotArea  LotShape  BldgTp  AgeRemodelYears  VeneerExterior  \\\n",
       "2470  528445060     8987         1       1               31           226.0   \n",
       "2471  528456160     9215         1       1               23             0.0   \n",
       "2472  528458070     8640         1       1               24             0.0   \n",
       "\n",
       "      BsmtFinTp  BsmtFinSqft  BsmtUnfinSqft  HeatingQC  ...  BdrmAbvGrnd  \\\n",
       "2470          0            0           1595          3  ...          2.0   \n",
       "2471          0            0           1218          3  ...          2.0   \n",
       "2472          1           24            732          3  ...          3.0   \n",
       "\n",
       "      RmAbvGrnd  Fireplaces  GarageTp  GarageCars  GarageArea  WdDckSqft  \\\n",
       "2470        6.0           1         3           3         880        144   \n",
       "2471        4.0           0         3           2         676          0   \n",
       "2472        7.0           0         3           2         614        169   \n",
       "\n",
       "      OpenPrchSqft  OverallQuality  OverallCondition  \n",
       "2470             0               8                 5  \n",
       "2471           136               7                 5  \n",
       "2472            45               7                 5  \n",
       "\n",
       "[3 rows x 26 columns]"
      ]
     },
     "execution_count": 1230,
     "metadata": {},
     "output_type": "execute_result"
    }
   ],
   "source": [
    "dfScore.head(3)"
   ]
  },
  {
   "cell_type": "code",
   "execution_count": 1231,
   "metadata": {},
   "outputs": [
    {
     "data": {
      "text/html": [
       "<div>\n",
       "<style scoped>\n",
       "    .dataframe tbody tr th:only-of-type {\n",
       "        vertical-align: middle;\n",
       "    }\n",
       "\n",
       "    .dataframe tbody tr th {\n",
       "        vertical-align: top;\n",
       "    }\n",
       "\n",
       "    .dataframe thead th {\n",
       "        text-align: right;\n",
       "    }\n",
       "</style>\n",
       "<table border=\"1\" class=\"dataframe\">\n",
       "  <thead>\n",
       "    <tr style=\"text-align: right;\">\n",
       "      <th></th>\n",
       "      <th>PID</th>\n",
       "      <th>LotArea</th>\n",
       "      <th>LotShape</th>\n",
       "      <th>BldgTp</th>\n",
       "      <th>AgeRemodelYears</th>\n",
       "      <th>VeneerExterior</th>\n",
       "      <th>BsmtFinTp</th>\n",
       "      <th>BsmtFinSqft</th>\n",
       "      <th>BsmtUnfinSqft</th>\n",
       "      <th>HeatingQC</th>\n",
       "      <th>...</th>\n",
       "      <th>BdrmAbvGrnd</th>\n",
       "      <th>RmAbvGrnd</th>\n",
       "      <th>Fireplaces</th>\n",
       "      <th>GarageTp</th>\n",
       "      <th>GarageCars</th>\n",
       "      <th>GarageArea</th>\n",
       "      <th>WdDckSqft</th>\n",
       "      <th>OpenPrchSqft</th>\n",
       "      <th>OverallQuality</th>\n",
       "      <th>OverallCondition</th>\n",
       "    </tr>\n",
       "  </thead>\n",
       "  <tbody>\n",
       "    <tr>\n",
       "      <th>count</th>\n",
       "      <td>1.000000e+02</td>\n",
       "      <td>100.000000</td>\n",
       "      <td>100.000000</td>\n",
       "      <td>100.000000</td>\n",
       "      <td>100.000000</td>\n",
       "      <td>97.000000</td>\n",
       "      <td>100.000000</td>\n",
       "      <td>100.000000</td>\n",
       "      <td>100.000000</td>\n",
       "      <td>100.000000</td>\n",
       "      <td>...</td>\n",
       "      <td>95.000000</td>\n",
       "      <td>96.000000</td>\n",
       "      <td>100.000000</td>\n",
       "      <td>100.00000</td>\n",
       "      <td>100.000000</td>\n",
       "      <td>100.000000</td>\n",
       "      <td>100.00000</td>\n",
       "      <td>100.000000</td>\n",
       "      <td>100.000000</td>\n",
       "      <td>100.000000</td>\n",
       "    </tr>\n",
       "    <tr>\n",
       "      <th>mean</th>\n",
       "      <td>6.576229e+08</td>\n",
       "      <td>9322.570000</td>\n",
       "      <td>0.460000</td>\n",
       "      <td>0.910000</td>\n",
       "      <td>57.900000</td>\n",
       "      <td>137.659794</td>\n",
       "      <td>0.670000</td>\n",
       "      <td>402.850000</td>\n",
       "      <td>647.390000</td>\n",
       "      <td>2.520000</td>\n",
       "      <td>...</td>\n",
       "      <td>2.789474</td>\n",
       "      <td>6.500000</td>\n",
       "      <td>0.540000</td>\n",
       "      <td>2.61000</td>\n",
       "      <td>2.010000</td>\n",
       "      <td>532.280000</td>\n",
       "      <td>108.53000</td>\n",
       "      <td>48.370000</td>\n",
       "      <td>6.520000</td>\n",
       "      <td>5.350000</td>\n",
       "    </tr>\n",
       "    <tr>\n",
       "      <th>std</th>\n",
       "      <td>1.808138e+08</td>\n",
       "      <td>2775.829625</td>\n",
       "      <td>0.500908</td>\n",
       "      <td>0.287623</td>\n",
       "      <td>31.717025</td>\n",
       "      <td>194.065490</td>\n",
       "      <td>0.472582</td>\n",
       "      <td>378.931309</td>\n",
       "      <td>418.081957</td>\n",
       "      <td>0.822413</td>\n",
       "      <td>...</td>\n",
       "      <td>0.523790</td>\n",
       "      <td>1.222594</td>\n",
       "      <td>0.610017</td>\n",
       "      <td>0.75069</td>\n",
       "      <td>0.437971</td>\n",
       "      <td>140.276788</td>\n",
       "      <td>123.17471</td>\n",
       "      <td>45.848599</td>\n",
       "      <td>1.029661</td>\n",
       "      <td>0.715979</td>\n",
       "    </tr>\n",
       "    <tr>\n",
       "      <th>min</th>\n",
       "      <td>5.271631e+08</td>\n",
       "      <td>1680.000000</td>\n",
       "      <td>0.000000</td>\n",
       "      <td>0.000000</td>\n",
       "      <td>22.000000</td>\n",
       "      <td>0.000000</td>\n",
       "      <td>0.000000</td>\n",
       "      <td>0.000000</td>\n",
       "      <td>0.000000</td>\n",
       "      <td>0.000000</td>\n",
       "      <td>...</td>\n",
       "      <td>2.000000</td>\n",
       "      <td>4.000000</td>\n",
       "      <td>0.000000</td>\n",
       "      <td>1.00000</td>\n",
       "      <td>1.000000</td>\n",
       "      <td>186.000000</td>\n",
       "      <td>0.00000</td>\n",
       "      <td>0.000000</td>\n",
       "      <td>4.000000</td>\n",
       "      <td>4.000000</td>\n",
       "    </tr>\n",
       "    <tr>\n",
       "      <th>25%</th>\n",
       "      <td>5.274515e+08</td>\n",
       "      <td>8126.500000</td>\n",
       "      <td>0.000000</td>\n",
       "      <td>1.000000</td>\n",
       "      <td>34.750000</td>\n",
       "      <td>0.000000</td>\n",
       "      <td>0.000000</td>\n",
       "      <td>0.000000</td>\n",
       "      <td>300.000000</td>\n",
       "      <td>2.000000</td>\n",
       "      <td>...</td>\n",
       "      <td>2.000000</td>\n",
       "      <td>6.000000</td>\n",
       "      <td>0.000000</td>\n",
       "      <td>3.00000</td>\n",
       "      <td>2.000000</td>\n",
       "      <td>440.000000</td>\n",
       "      <td>0.00000</td>\n",
       "      <td>0.000000</td>\n",
       "      <td>6.000000</td>\n",
       "      <td>5.000000</td>\n",
       "    </tr>\n",
       "    <tr>\n",
       "      <th>50%</th>\n",
       "      <td>5.284571e+08</td>\n",
       "      <td>9008.500000</td>\n",
       "      <td>0.000000</td>\n",
       "      <td>1.000000</td>\n",
       "      <td>44.000000</td>\n",
       "      <td>72.000000</td>\n",
       "      <td>1.000000</td>\n",
       "      <td>417.500000</td>\n",
       "      <td>574.500000</td>\n",
       "      <td>3.000000</td>\n",
       "      <td>...</td>\n",
       "      <td>3.000000</td>\n",
       "      <td>6.000000</td>\n",
       "      <td>0.000000</td>\n",
       "      <td>3.00000</td>\n",
       "      <td>2.000000</td>\n",
       "      <td>528.500000</td>\n",
       "      <td>100.00000</td>\n",
       "      <td>43.500000</td>\n",
       "      <td>7.000000</td>\n",
       "      <td>5.000000</td>\n",
       "    </tr>\n",
       "    <tr>\n",
       "      <th>75%</th>\n",
       "      <td>9.071821e+08</td>\n",
       "      <td>10461.000000</td>\n",
       "      <td>1.000000</td>\n",
       "      <td>1.000000</td>\n",
       "      <td>88.500000</td>\n",
       "      <td>202.000000</td>\n",
       "      <td>1.000000</td>\n",
       "      <td>716.250000</td>\n",
       "      <td>867.250000</td>\n",
       "      <td>3.000000</td>\n",
       "      <td>...</td>\n",
       "      <td>3.000000</td>\n",
       "      <td>7.000000</td>\n",
       "      <td>1.000000</td>\n",
       "      <td>3.00000</td>\n",
       "      <td>2.000000</td>\n",
       "      <td>614.250000</td>\n",
       "      <td>192.00000</td>\n",
       "      <td>73.250000</td>\n",
       "      <td>7.000000</td>\n",
       "      <td>5.250000</td>\n",
       "    </tr>\n",
       "    <tr>\n",
       "      <th>max</th>\n",
       "      <td>9.144764e+08</td>\n",
       "      <td>16900.000000</td>\n",
       "      <td>1.000000</td>\n",
       "      <td>1.000000</td>\n",
       "      <td>171.000000</td>\n",
       "      <td>1110.000000</td>\n",
       "      <td>1.000000</td>\n",
       "      <td>1350.000000</td>\n",
       "      <td>1704.000000</td>\n",
       "      <td>3.000000</td>\n",
       "      <td>...</td>\n",
       "      <td>4.000000</td>\n",
       "      <td>10.000000</td>\n",
       "      <td>2.000000</td>\n",
       "      <td>3.00000</td>\n",
       "      <td>3.000000</td>\n",
       "      <td>908.000000</td>\n",
       "      <td>576.00000</td>\n",
       "      <td>224.000000</td>\n",
       "      <td>9.000000</td>\n",
       "      <td>8.000000</td>\n",
       "    </tr>\n",
       "  </tbody>\n",
       "</table>\n",
       "<p>8 rows × 26 columns</p>\n",
       "</div>"
      ],
      "text/plain": [
       "                PID       LotArea    LotShape      BldgTp  AgeRemodelYears  \\\n",
       "count  1.000000e+02    100.000000  100.000000  100.000000       100.000000   \n",
       "mean   6.576229e+08   9322.570000    0.460000    0.910000        57.900000   \n",
       "std    1.808138e+08   2775.829625    0.500908    0.287623        31.717025   \n",
       "min    5.271631e+08   1680.000000    0.000000    0.000000        22.000000   \n",
       "25%    5.274515e+08   8126.500000    0.000000    1.000000        34.750000   \n",
       "50%    5.284571e+08   9008.500000    0.000000    1.000000        44.000000   \n",
       "75%    9.071821e+08  10461.000000    1.000000    1.000000        88.500000   \n",
       "max    9.144764e+08  16900.000000    1.000000    1.000000       171.000000   \n",
       "\n",
       "       VeneerExterior   BsmtFinTp  BsmtFinSqft  BsmtUnfinSqft   HeatingQC  \\\n",
       "count       97.000000  100.000000   100.000000     100.000000  100.000000   \n",
       "mean       137.659794    0.670000   402.850000     647.390000    2.520000   \n",
       "std        194.065490    0.472582   378.931309     418.081957    0.822413   \n",
       "min          0.000000    0.000000     0.000000       0.000000    0.000000   \n",
       "25%          0.000000    0.000000     0.000000     300.000000    2.000000   \n",
       "50%         72.000000    1.000000   417.500000     574.500000    3.000000   \n",
       "75%        202.000000    1.000000   716.250000     867.250000    3.000000   \n",
       "max       1110.000000    1.000000  1350.000000    1704.000000    3.000000   \n",
       "\n",
       "       ...  BdrmAbvGrnd  RmAbvGrnd  Fireplaces   GarageTp  GarageCars  \\\n",
       "count  ...    95.000000  96.000000  100.000000  100.00000  100.000000   \n",
       "mean   ...     2.789474   6.500000    0.540000    2.61000    2.010000   \n",
       "std    ...     0.523790   1.222594    0.610017    0.75069    0.437971   \n",
       "min    ...     2.000000   4.000000    0.000000    1.00000    1.000000   \n",
       "25%    ...     2.000000   6.000000    0.000000    3.00000    2.000000   \n",
       "50%    ...     3.000000   6.000000    0.000000    3.00000    2.000000   \n",
       "75%    ...     3.000000   7.000000    1.000000    3.00000    2.000000   \n",
       "max    ...     4.000000  10.000000    2.000000    3.00000    3.000000   \n",
       "\n",
       "       GarageArea  WdDckSqft  OpenPrchSqft  OverallQuality  OverallCondition  \n",
       "count  100.000000  100.00000    100.000000      100.000000        100.000000  \n",
       "mean   532.280000  108.53000     48.370000        6.520000          5.350000  \n",
       "std    140.276788  123.17471     45.848599        1.029661          0.715979  \n",
       "min    186.000000    0.00000      0.000000        4.000000          4.000000  \n",
       "25%    440.000000    0.00000      0.000000        6.000000          5.000000  \n",
       "50%    528.500000  100.00000     43.500000        7.000000          5.000000  \n",
       "75%    614.250000  192.00000     73.250000        7.000000          5.250000  \n",
       "max    908.000000  576.00000    224.000000        9.000000          8.000000  \n",
       "\n",
       "[8 rows x 26 columns]"
      ]
     },
     "execution_count": 1231,
     "metadata": {},
     "output_type": "execute_result"
    }
   ],
   "source": [
    "dfScore.describe()"
   ]
  },
  {
   "cell_type": "code",
   "execution_count": 1232,
   "metadata": {},
   "outputs": [
    {
     "name": "stdout",
     "output_type": "stream",
     "text": [
      "These columns have at least 1 missing value: ['VeneerExterior', 'FstFlrSqft', 'SecFlrSqft', 'BdrmAbvGrnd', 'RmAbvGrnd']\n"
     ]
    }
   ],
   "source": [
    "print(f'These columns have at least 1 missing value: {dfScore.columns[dfScore.isnull().sum().astype(bool)].tolist()}')"
   ]
  },
  {
   "cell_type": "code",
   "execution_count": 1233,
   "metadata": {},
   "outputs": [
    {
     "data": {
      "text/plain": [
       "1    91\n",
       "0     9\n",
       "Name: BldgTp, dtype: int64"
      ]
     },
     "metadata": {},
     "output_type": "display_data"
    },
    {
     "data": {
      "text/plain": [
       "1    53\n",
       "0    47\n",
       "Name: HalfBathHouse, dtype: int64"
      ]
     },
     "metadata": {},
     "output_type": "display_data"
    },
    {
     "data": {
      "text/plain": [
       "7    48\n",
       "6    26\n",
       "5    10\n",
       "8     9\n",
       "4     5\n",
       "9     2\n",
       "Name: OverallQuality, dtype: int64"
      ]
     },
     "metadata": {},
     "output_type": "display_data"
    }
   ],
   "source": [
    "display(dfScore['BldgTp'].value_counts(), dfScore['HalfBathHouse'].value_counts(), dfScore['OverallQuality'].value_counts())"
   ]
  },
  {
   "cell_type": "code",
   "execution_count": 1234,
   "metadata": {},
   "outputs": [],
   "source": [
    "#Pre process Variables"
   ]
  },
  {
   "cell_type": "code",
   "execution_count": 1235,
   "metadata": {},
   "outputs": [
    {
     "name": "stdout",
     "output_type": "stream",
     "text": [
      "The columns with missing value is: ['VeneerExterior' 'FstFlrSqft' 'SecFlrSqft' 'BdrmAbvGrnd' 'RmAbvGrnd']\n"
     ]
    }
   ],
   "source": [
    "colBoolSelector = dfScore.isnull().sum().astype(bool)\n",
    "print('The columns with missing value is:', dfScore.columns.values[colBoolSelector])"
   ]
  },
  {
   "cell_type": "code",
   "execution_count": 1236,
   "metadata": {},
   "outputs": [
    {
     "name": "stdout",
     "output_type": "stream",
     "text": [
      "['BldgTp Town', 'BldgTp Detached', 'LotShape NR', 'LotShape R', 'BsmtFinTp UF', 'BsmtFiinTp F', 'FullBathBsmt not', 'FullBathBsmt yes', 'HalfBathHouse not', 'HalfBathHouse yes', 'LotAreaLog1p_z', 'VeneerExteriorLog1p_z', 'OpenPrchSqftLog1p_z', 'AgeRemodelYears_z', 'BsmtFinSqft_z', 'BsmtUnfinSqft_z', 'FstFlrSqft_z', 'SecFlrSqft_z', 'AbvGrndLiving_z', 'FullBathHouse_z', 'BdrmAbvGrnd_z', 'RmAbvGrnd_z', 'Fireplaces_z', 'GarageCars_z', 'GarageArea_z', 'WdDckSqft_z', 'OQ_Poor', 'OQ_Fair', 'OQ_Below Average', 'OQ_Average', 'OQ_Above Average', 'OQ_Good', 'OQ_Very Good', 'OQ_Excellent', 'OQ_Very Excellent', 'OC_Very Poor', 'OC_Poor', 'OC_Fair', 'OC_Below Average', 'OC_Average', 'OC_Above Average', 'OC_Good', 'OC_Very Good', 'OC_Excellent', 'HQC_Fair', 'HQC_Average', 'HQC_Good', 'HQC_Excellent', 'Garage_No garage', 'Garage_Detached', 'Garage_Builtin', 'Garage_Attached']\n"
     ]
    }
   ],
   "source": [
    "# prepare all labels\n",
    "##(copy those codes from previous module; things e.g. labelsPpl1 are defined because you imported the entire module 9)\n",
    "labelsPreprocessor = [label for labels in [labelsPpl1, labelsPpl2, labelsPpl3, labelsPpl4, labelsPpl5,\n",
    "                                          labelsPpl6, labelsPpl7] for label in labels]\n",
    "print(labelsPreprocessor)"
   ]
  },
  {
   "cell_type": "code",
   "execution_count": 1237,
   "metadata": {},
   "outputs": [],
   "source": [
    "outputPreprocessor_score = preprocessor.transform(dfScore)"
   ]
  },
  {
   "cell_type": "code",
   "execution_count": 1238,
   "metadata": {},
   "outputs": [
    {
     "data": {
      "text/plain": [
       "(100, 52)"
      ]
     },
     "metadata": {},
     "output_type": "display_data"
    },
    {
     "data": {
      "text/html": [
       "<div>\n",
       "<style scoped>\n",
       "    .dataframe tbody tr th:only-of-type {\n",
       "        vertical-align: middle;\n",
       "    }\n",
       "\n",
       "    .dataframe tbody tr th {\n",
       "        vertical-align: top;\n",
       "    }\n",
       "\n",
       "    .dataframe thead th {\n",
       "        text-align: right;\n",
       "    }\n",
       "</style>\n",
       "<table border=\"1\" class=\"dataframe\">\n",
       "  <thead>\n",
       "    <tr style=\"text-align: right;\">\n",
       "      <th></th>\n",
       "      <th>BldgTp Town</th>\n",
       "      <th>BldgTp Detached</th>\n",
       "      <th>LotShape NR</th>\n",
       "      <th>LotShape R</th>\n",
       "      <th>BsmtFinTp UF</th>\n",
       "      <th>BsmtFiinTp F</th>\n",
       "      <th>FullBathBsmt not</th>\n",
       "      <th>FullBathBsmt yes</th>\n",
       "      <th>HalfBathHouse not</th>\n",
       "      <th>HalfBathHouse yes</th>\n",
       "      <th>...</th>\n",
       "      <th>OC_Very Good</th>\n",
       "      <th>OC_Excellent</th>\n",
       "      <th>HQC_Fair</th>\n",
       "      <th>HQC_Average</th>\n",
       "      <th>HQC_Good</th>\n",
       "      <th>HQC_Excellent</th>\n",
       "      <th>Garage_No garage</th>\n",
       "      <th>Garage_Detached</th>\n",
       "      <th>Garage_Builtin</th>\n",
       "      <th>Garage_Attached</th>\n",
       "    </tr>\n",
       "  </thead>\n",
       "  <tbody>\n",
       "    <tr>\n",
       "      <th>2470</th>\n",
       "      <td>0.0</td>\n",
       "      <td>1.0</td>\n",
       "      <td>0.0</td>\n",
       "      <td>1.0</td>\n",
       "      <td>1.0</td>\n",
       "      <td>0.0</td>\n",
       "      <td>1.0</td>\n",
       "      <td>0.0</td>\n",
       "      <td>1.0</td>\n",
       "      <td>0.0</td>\n",
       "      <td>...</td>\n",
       "      <td>0.0</td>\n",
       "      <td>0.0</td>\n",
       "      <td>0.0</td>\n",
       "      <td>0.0</td>\n",
       "      <td>0.0</td>\n",
       "      <td>1.0</td>\n",
       "      <td>0.0</td>\n",
       "      <td>0.0</td>\n",
       "      <td>0.0</td>\n",
       "      <td>1.0</td>\n",
       "    </tr>\n",
       "    <tr>\n",
       "      <th>2471</th>\n",
       "      <td>0.0</td>\n",
       "      <td>1.0</td>\n",
       "      <td>0.0</td>\n",
       "      <td>1.0</td>\n",
       "      <td>1.0</td>\n",
       "      <td>0.0</td>\n",
       "      <td>1.0</td>\n",
       "      <td>0.0</td>\n",
       "      <td>1.0</td>\n",
       "      <td>0.0</td>\n",
       "      <td>...</td>\n",
       "      <td>0.0</td>\n",
       "      <td>0.0</td>\n",
       "      <td>0.0</td>\n",
       "      <td>0.0</td>\n",
       "      <td>0.0</td>\n",
       "      <td>1.0</td>\n",
       "      <td>0.0</td>\n",
       "      <td>0.0</td>\n",
       "      <td>0.0</td>\n",
       "      <td>1.0</td>\n",
       "    </tr>\n",
       "    <tr>\n",
       "      <th>2472</th>\n",
       "      <td>0.0</td>\n",
       "      <td>1.0</td>\n",
       "      <td>0.0</td>\n",
       "      <td>1.0</td>\n",
       "      <td>0.0</td>\n",
       "      <td>1.0</td>\n",
       "      <td>1.0</td>\n",
       "      <td>0.0</td>\n",
       "      <td>0.0</td>\n",
       "      <td>1.0</td>\n",
       "      <td>...</td>\n",
       "      <td>0.0</td>\n",
       "      <td>0.0</td>\n",
       "      <td>0.0</td>\n",
       "      <td>0.0</td>\n",
       "      <td>0.0</td>\n",
       "      <td>1.0</td>\n",
       "      <td>0.0</td>\n",
       "      <td>0.0</td>\n",
       "      <td>0.0</td>\n",
       "      <td>1.0</td>\n",
       "    </tr>\n",
       "  </tbody>\n",
       "</table>\n",
       "<p>3 rows × 52 columns</p>\n",
       "</div>"
      ],
      "text/plain": [
       "      BldgTp Town  BldgTp Detached  LotShape NR  LotShape R  BsmtFinTp UF  \\\n",
       "2470          0.0              1.0          0.0         1.0           1.0   \n",
       "2471          0.0              1.0          0.0         1.0           1.0   \n",
       "2472          0.0              1.0          0.0         1.0           0.0   \n",
       "\n",
       "      BsmtFiinTp F  FullBathBsmt not  FullBathBsmt yes  HalfBathHouse not  \\\n",
       "2470           0.0               1.0               0.0                1.0   \n",
       "2471           0.0               1.0               0.0                1.0   \n",
       "2472           1.0               1.0               0.0                0.0   \n",
       "\n",
       "      HalfBathHouse yes  ...  OC_Very Good  OC_Excellent  HQC_Fair  \\\n",
       "2470                0.0  ...           0.0           0.0       0.0   \n",
       "2471                0.0  ...           0.0           0.0       0.0   \n",
       "2472                1.0  ...           0.0           0.0       0.0   \n",
       "\n",
       "      HQC_Average  HQC_Good  HQC_Excellent  Garage_No garage  Garage_Detached  \\\n",
       "2470          0.0       0.0            1.0               0.0              0.0   \n",
       "2471          0.0       0.0            1.0               0.0              0.0   \n",
       "2472          0.0       0.0            1.0               0.0              0.0   \n",
       "\n",
       "      Garage_Builtin  Garage_Attached  \n",
       "2470             0.0              1.0  \n",
       "2471             0.0              1.0  \n",
       "2472             0.0              1.0  \n",
       "\n",
       "[3 rows x 52 columns]"
      ]
     },
     "metadata": {},
     "output_type": "display_data"
    },
    {
     "data": {
      "text/html": [
       "<div>\n",
       "<style scoped>\n",
       "    .dataframe tbody tr th:only-of-type {\n",
       "        vertical-align: middle;\n",
       "    }\n",
       "\n",
       "    .dataframe tbody tr th {\n",
       "        vertical-align: top;\n",
       "    }\n",
       "\n",
       "    .dataframe thead th {\n",
       "        text-align: right;\n",
       "    }\n",
       "</style>\n",
       "<table border=\"1\" class=\"dataframe\">\n",
       "  <thead>\n",
       "    <tr style=\"text-align: right;\">\n",
       "      <th></th>\n",
       "      <th>BldgTp Town</th>\n",
       "      <th>BldgTp Detached</th>\n",
       "      <th>LotShape NR</th>\n",
       "      <th>LotShape R</th>\n",
       "      <th>BsmtFinTp UF</th>\n",
       "      <th>BsmtFiinTp F</th>\n",
       "      <th>FullBathBsmt not</th>\n",
       "      <th>FullBathBsmt yes</th>\n",
       "      <th>HalfBathHouse not</th>\n",
       "      <th>HalfBathHouse yes</th>\n",
       "      <th>...</th>\n",
       "      <th>OC_Very Good</th>\n",
       "      <th>OC_Excellent</th>\n",
       "      <th>HQC_Fair</th>\n",
       "      <th>HQC_Average</th>\n",
       "      <th>HQC_Good</th>\n",
       "      <th>HQC_Excellent</th>\n",
       "      <th>Garage_No garage</th>\n",
       "      <th>Garage_Detached</th>\n",
       "      <th>Garage_Builtin</th>\n",
       "      <th>Garage_Attached</th>\n",
       "    </tr>\n",
       "  </thead>\n",
       "  <tbody>\n",
       "    <tr>\n",
       "      <th>2567</th>\n",
       "      <td>0.0</td>\n",
       "      <td>1.0</td>\n",
       "      <td>0.0</td>\n",
       "      <td>1.0</td>\n",
       "      <td>0.0</td>\n",
       "      <td>1.0</td>\n",
       "      <td>0.0</td>\n",
       "      <td>1.0</td>\n",
       "      <td>0.0</td>\n",
       "      <td>1.0</td>\n",
       "      <td>...</td>\n",
       "      <td>0.0</td>\n",
       "      <td>0.0</td>\n",
       "      <td>0.0</td>\n",
       "      <td>0.0</td>\n",
       "      <td>0.0</td>\n",
       "      <td>1.0</td>\n",
       "      <td>0.0</td>\n",
       "      <td>0.0</td>\n",
       "      <td>1.0</td>\n",
       "      <td>0.0</td>\n",
       "    </tr>\n",
       "    <tr>\n",
       "      <th>2568</th>\n",
       "      <td>0.0</td>\n",
       "      <td>1.0</td>\n",
       "      <td>1.0</td>\n",
       "      <td>0.0</td>\n",
       "      <td>0.0</td>\n",
       "      <td>1.0</td>\n",
       "      <td>0.0</td>\n",
       "      <td>1.0</td>\n",
       "      <td>1.0</td>\n",
       "      <td>0.0</td>\n",
       "      <td>...</td>\n",
       "      <td>0.0</td>\n",
       "      <td>0.0</td>\n",
       "      <td>0.0</td>\n",
       "      <td>0.0</td>\n",
       "      <td>0.0</td>\n",
       "      <td>1.0</td>\n",
       "      <td>0.0</td>\n",
       "      <td>0.0</td>\n",
       "      <td>0.0</td>\n",
       "      <td>1.0</td>\n",
       "    </tr>\n",
       "    <tr>\n",
       "      <th>2569</th>\n",
       "      <td>0.0</td>\n",
       "      <td>1.0</td>\n",
       "      <td>0.0</td>\n",
       "      <td>1.0</td>\n",
       "      <td>0.0</td>\n",
       "      <td>1.0</td>\n",
       "      <td>0.0</td>\n",
       "      <td>1.0</td>\n",
       "      <td>0.0</td>\n",
       "      <td>1.0</td>\n",
       "      <td>...</td>\n",
       "      <td>0.0</td>\n",
       "      <td>0.0</td>\n",
       "      <td>0.0</td>\n",
       "      <td>0.0</td>\n",
       "      <td>0.0</td>\n",
       "      <td>1.0</td>\n",
       "      <td>0.0</td>\n",
       "      <td>0.0</td>\n",
       "      <td>0.0</td>\n",
       "      <td>1.0</td>\n",
       "    </tr>\n",
       "  </tbody>\n",
       "</table>\n",
       "<p>3 rows × 52 columns</p>\n",
       "</div>"
      ],
      "text/plain": [
       "      BldgTp Town  BldgTp Detached  LotShape NR  LotShape R  BsmtFinTp UF  \\\n",
       "2567          0.0              1.0          0.0         1.0           0.0   \n",
       "2568          0.0              1.0          1.0         0.0           0.0   \n",
       "2569          0.0              1.0          0.0         1.0           0.0   \n",
       "\n",
       "      BsmtFiinTp F  FullBathBsmt not  FullBathBsmt yes  HalfBathHouse not  \\\n",
       "2567           1.0               0.0               1.0                0.0   \n",
       "2568           1.0               0.0               1.0                1.0   \n",
       "2569           1.0               0.0               1.0                0.0   \n",
       "\n",
       "      HalfBathHouse yes  ...  OC_Very Good  OC_Excellent  HQC_Fair  \\\n",
       "2567                1.0  ...           0.0           0.0       0.0   \n",
       "2568                0.0  ...           0.0           0.0       0.0   \n",
       "2569                1.0  ...           0.0           0.0       0.0   \n",
       "\n",
       "      HQC_Average  HQC_Good  HQC_Excellent  Garage_No garage  Garage_Detached  \\\n",
       "2567          0.0       0.0            1.0               0.0              0.0   \n",
       "2568          0.0       0.0            1.0               0.0              0.0   \n",
       "2569          0.0       0.0            1.0               0.0              0.0   \n",
       "\n",
       "      Garage_Builtin  Garage_Attached  \n",
       "2567             1.0              0.0  \n",
       "2568             0.0              1.0  \n",
       "2569             0.0              1.0  \n",
       "\n",
       "[3 rows x 52 columns]"
      ]
     },
     "metadata": {},
     "output_type": "display_data"
    }
   ],
   "source": [
    "dfPreprocessed_score = pd.DataFrame(outputPreprocessor_score, columns=labelsPreprocessor, index=dfScore.index)\n",
    "display(dfPreprocessed_score.shape, dfPreprocessed_score.head(3), dfPreprocessed_score.tail(3))"
   ]
  },
  {
   "cell_type": "code",
   "execution_count": 1239,
   "metadata": {},
   "outputs": [
    {
     "data": {
      "text/plain": [
       "(100, 26)"
      ]
     },
     "execution_count": 1239,
     "metadata": {},
     "output_type": "execute_result"
    }
   ],
   "source": [
    "dfScore.shape"
   ]
  },
  {
   "cell_type": "code",
   "execution_count": 1240,
   "metadata": {},
   "outputs": [
    {
     "data": {
      "text/plain": [
       "0"
      ]
     },
     "execution_count": 1240,
     "metadata": {},
     "output_type": "execute_result"
    }
   ],
   "source": [
    "# check missing values\n",
    "\n",
    "dfPreprocessed_score.isna().sum().sum()"
   ]
  },
  {
   "cell_type": "code",
   "execution_count": 1241,
   "metadata": {},
   "outputs": [],
   "source": [
    "dfWeightedFlags_score = dfPreprocessed_score[labelsPpl1].replace(to_replace={1: 0.707})\n",
    "dfPreprocessedKNN_score = dfPreprocessed_score.copy()\n",
    "dfPreprocessedKNN_score[labelsPpl1] = dfWeightedFlags_score"
   ]
  },
  {
   "cell_type": "code",
   "execution_count": 1242,
   "metadata": {},
   "outputs": [],
   "source": [
    "X_scoreReg_final = dfPreprocessed_score\n",
    "X_scoreKNN_final = dfPreprocessedKNN_score"
   ]
  },
  {
   "cell_type": "code",
   "execution_count": 1243,
   "metadata": {},
   "outputs": [
    {
     "data": {
      "text/plain": [
       "((100, 52), (100, 52))"
      ]
     },
     "execution_count": 1243,
     "metadata": {},
     "output_type": "execute_result"
    }
   ],
   "source": [
    "#Sanity check\n",
    "\n",
    "X_scoreReg_final.shape, X_scoreReg_final.shape"
   ]
  },
  {
   "cell_type": "code",
   "execution_count": 1244,
   "metadata": {},
   "outputs": [
    {
     "data": {
      "text/plain": [
       "(0, 0)"
      ]
     },
     "execution_count": 1244,
     "metadata": {},
     "output_type": "execute_result"
    }
   ],
   "source": [
    "X_scoreReg_final.isnull().sum().sum(), X_scoreKNN_final.isnull().sum().sum()"
   ]
  },
  {
   "cell_type": "code",
   "execution_count": 1245,
   "metadata": {},
   "outputs": [
    {
     "data": {
      "text/plain": [
       "(False, False)"
      ]
     },
     "execution_count": 1245,
     "metadata": {},
     "output_type": "execute_result"
    }
   ],
   "source": [
    "(X_scoreReg_final.columns != X_scoreKNN_final.columns).any(), (X_scoreReg_final.columns != X_final.columns).any()"
   ]
  },
  {
   "cell_type": "markdown",
   "metadata": {},
   "source": [
    "## Score Prepared data"
   ]
  },
  {
   "cell_type": "code",
   "execution_count": 1246,
   "metadata": {},
   "outputs": [],
   "source": [
    "reg = lm.LinearRegression()"
   ]
  },
  {
   "cell_type": "code",
   "execution_count": 1247,
   "metadata": {},
   "outputs": [
    {
     "data": {
      "text/plain": [
       "LinearRegression()"
      ]
     },
     "execution_count": 1247,
     "metadata": {},
     "output_type": "execute_result"
    }
   ],
   "source": [
    "reg.fit(X=X_final[X_final.columns[best_features_bool]], y=Y_final['SalePrice'])"
   ]
  },
  {
   "cell_type": "code",
   "execution_count": 1248,
   "metadata": {},
   "outputs": [],
   "source": [
    "scored_SalePrice = reg.predict(X = X_scoreReg_final[X_scoreReg_final.columns[best_features_bool]])"
   ]
  },
  {
   "cell_type": "code",
   "execution_count": 1249,
   "metadata": {},
   "outputs": [
    {
     "data": {
      "text/plain": [
       "True"
      ]
     },
     "metadata": {},
     "output_type": "display_data"
    },
    {
     "data": {
      "text/plain": [
       "(100,)"
      ]
     },
     "metadata": {},
     "output_type": "display_data"
    },
    {
     "data": {
      "text/plain": [
       "dtype('float64')"
      ]
     },
     "metadata": {},
     "output_type": "display_data"
    },
    {
     "name": "stdout",
     "output_type": "stream",
     "text": [
      "Mean and Std of predicted SalePrice are: 0.287 (0.689)\n"
     ]
    }
   ],
   "source": [
    "#sanity check\n",
    "display(isinstance(scored_SalePrice, np.ndarray), scored_SalePrice.shape, scored_SalePrice.dtype)\n",
    "print('Mean and Std of predicted SalePrice are: {:.3f} ({:.3f})'.format(np.mean(scored_SalePrice), np.std(scored_SalePrice)))"
   ]
  },
  {
   "cell_type": "markdown",
   "metadata": {},
   "source": [
    "## Step 6: Predict Target of Score Data Set"
   ]
  },
  {
   "cell_type": "code",
   "execution_count": 1250,
   "metadata": {},
   "outputs": [],
   "source": [
    "#Inverse transform SalePrice"
   ]
  },
  {
   "cell_type": "code",
   "execution_count": 1251,
   "metadata": {},
   "outputs": [],
   "source": [
    "dfSalePrice_inversed = pd.DataFrame(yScaler.inverse_transform(scored_SalePrice), columns=['PSP'], index=X_scoreReg_final.index)\n"
   ]
  },
  {
   "cell_type": "markdown",
   "metadata": {},
   "source": [
    "**Sanity Check**<br>\n",
    "Is the predicted values missing? Make a simple plot of the predicted values for SalePrice"
   ]
  },
  {
   "cell_type": "code",
   "execution_count": 1252,
   "metadata": {},
   "outputs": [
    {
     "data": {
      "text/plain": [
       "Text(0, 0.5, 'Scored SalePrice')"
      ]
     },
     "execution_count": 1252,
     "metadata": {},
     "output_type": "execute_result"
    },
    {
     "data": {
      "image/png": "[encoded data removed]",
      "text/plain": [
       "<Figure size 432x288 with 1 Axes>"
      ]
     },
     "metadata": {},
     "output_type": "display_data"
    }
   ],
   "source": [
    "line1 = dfSalePrice_inversed.plot()\n",
    "line1.set_xlabel('Index values of scored data')\n",
    "line1.set_ylabel('Scored SalePrice')"
   ]
  },
  {
   "cell_type": "markdown",
   "metadata": {},
   "source": [
    "## Step 7: Export (save) Scored Data in Required Format"
   ]
  },
  {
   "cell_type": "markdown",
   "metadata": {},
   "source": [
    "<div class=\"alert alert-block alert-info\"><font color=\"red\"><b>Very Important!</b></font> <br>Is the predicted \"SalePrice\" in the original dollar scale? The predicted values must indicate the dollar-value of the properties. <br>Make sure to reverse any transformation of the \"SalePrice\" if any of the following was applied to the \"SalePrice\" column in the above date preparation steps:\n",
    "<ul>\n",
    "    <li>z-standardization</li>\n",
    "    <li>log-transformation</li>\n",
    "</ul></div>"
   ]
  },
  {
   "cell_type": "code",
   "execution_count": 1253,
   "metadata": {},
   "outputs": [],
   "source": [
    "#append PID column\n",
    "\n",
    "PID_col = dfScore['PID']\n",
    "SalePriceFinal = dfSalePrice_inversed.copy()\n",
    "SalePriceFinal.insert(0,'PID',PID_col)"
   ]
  },
  {
   "cell_type": "code",
   "execution_count": 1254,
   "metadata": {},
   "outputs": [],
   "source": [
    "#Export\n",
    "SalePriceFinal.to_csv(\"Predicted_Sales_Data.csv\", index=True)"
   ]
  },
  {
   "cell_type": "markdown",
   "metadata": {},
   "source": [
    "# Conclusion\n",
    "***\n",
    "Use this section to smmarize the project by drawing conclusions. May summarize any achievement in building models, any success in further tuning and improving algorithms' performance, and any caveats that emerged in the project process and about the predicted values, etc. May also document any other important lessons learned during the project process"
   ]
  },
  {
   "cell_type": "markdown",
   "metadata": {},
   "source": [
    "The prelimenary EDA consisted of standard analysis consisting of finding each dataset's shape, data types, converting variables to more meaningful formats ('YearRemodel' to 'RemodelAge'), summary statistics, distribution, and merging/appending into one dataset named 'TrainingData'. Then we looked for skewness of distributions and any outliers using matplotlib's pyplot package. Next we used a heat map to find informative attributes. After that we created dummies for the nominal variables as a part of Preprocessing the Training Dataset. Then we used the oneHotEncoder object with pipeline to further refine the training data. Finally, we built our model using Linear Regression. We chose this model because it is used for predicting variables on the interval scale, as opposed to Knn or logistic regression, which are optimized for classification problems. \n",
    "\n",
    "**Note**: The predicted set did not have a PID column, so we appended the PID column from the original set without the sales data, then exported it. "
   ]
  },
  {
   "cell_type": "markdown",
   "metadata": {},
   "source": []
  }
 ],
 "metadata": {
  "kernelspec": {
   "display_name": "Python 3",
   "language": "python",
   "name": "python3"
  },
  "language_info": {
   "codemirror_mode": {
    "name": "ipython",
    "version": 3
   },
   "file_extension": ".py",
   "mimetype": "text/x-python",
   "name": "python",
   "nbconvert_exporter": "python",
   "pygments_lexer": "ipython3",
   "version": "3.6.4"
  }
 },
 "nbformat": 4,
 "nbformat_minor": 2
}
